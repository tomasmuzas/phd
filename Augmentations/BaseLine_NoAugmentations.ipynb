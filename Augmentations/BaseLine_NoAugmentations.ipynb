{
  "cells": [
    {
      "attachments": {},
      "cell_type": "markdown",
      "metadata": {},
      "source": [
        "# Setup"
      ]
    },
    {
      "cell_type": "code",
      "execution_count": null,
      "metadata": {},
      "outputs": [],
      "source": [
        "%pip install astropy\n",
        "%pip install git+https://github.com/pvigier/perlin-numpy\n",
        "%pip install tensorflow_addons\n",
        "%pip install wandb"
      ]
    },
    {
      "cell_type": "code",
      "execution_count": null,
      "metadata": {},
      "outputs": [],
      "source": [
        "!git clone https://github.com/tomasmuzas/phd"
      ]
    },
    {
      "cell_type": "code",
      "execution_count": 1,
      "metadata": {
        "colab": {
          "base_uri": "https://localhost:8080/"
        },
        "id": "wQlCruZqyTeW",
        "outputId": "24b50b9f-36f7-4ca8-8365-0ea12cc4cd4b"
      },
      "outputs": [],
      "source": [
        "from phd.Augmentations.common_code.augmentation_functions import *\n",
        "from phd.Augmentations.common_code.get_dataset import *\n",
        "from phd.Augmentations.common_code.models import *\n",
        "from phd.Augmentations.common_code.training_loop import *\n",
        "from phd.Augmentations.common_code.utils import *\n",
        "import tensorflow as tf\n",
        "\n",
        "tf.get_logger().setLevel('ERROR')"
      ]
    },
    {
      "cell_type": "code",
      "execution_count": 2,
      "metadata": {
        "id": "Q0AGAn9OVgUV"
      },
      "outputs": [
        {
          "name": "stdout",
          "output_type": "stream",
          "text": [
            "[PhysicalDevice(name='/physical_device:GPU:0', device_type='GPU')]\n",
            "Running on GPU.\n",
            "INFO:tensorflow:Using MirroredStrategy with devices ('/job:localhost/replica:0/task:0/device:GPU:0',)\n"
          ]
        },
        {
          "data": {
            "text/plain": [
              "<tensorflow.python.distribute.mirrored_strategy.MirroredStrategy at 0x219dc823d30>"
            ]
          },
          "execution_count": 2,
          "metadata": {},
          "output_type": "execute_result"
        }
      ],
      "source": [
        "from google.colab import auth\n",
        "\n",
        "auth.authenticate_user()\n",
        "reset_tpu(training_config)"
      ]
    },
    {
      "cell_type": "code",
      "execution_count": null,
      "metadata": {
        "colab": {
          "base_uri": "https://localhost:8080/"
        },
        "id": "3rI-OBPeYWJu",
        "outputId": "785862a5-5fe7-477d-a33d-1021a4f46d4d"
      },
      "outputs": [],
      "source": [
        "!apt-get update -y\n",
        "!curl -LJO \"https://github.com/GoogleCloudPlatform/gcsfuse/releases/download/v1.2.0/gcsfuse_1.2.0_amd64.deb\"\n",
        "!apt-get -y install fuse\n",
        "!apt-get clean\n",
        "!dpkg -i \"gcsfuse_1.2.0_amd64.deb\"\n",
        "!mkdir gcs\n",
        "!gcsfuse --implicit-dirs tomasmuzas-phd-datasets gcs"
      ]
    },
    {
      "cell_type": "code",
      "execution_count": 3,
      "metadata": {},
      "outputs": [
        {
          "name": "stderr",
          "output_type": "stream",
          "text": [
            "Failed to detect the name of this notebook, you can set it manually with the WANDB_NOTEBOOK_NAME environment variable to enable code saving.\n",
            "\u001b[34m\u001b[1mwandb\u001b[0m: Currently logged in as: \u001b[33mmuzas-tomas\u001b[0m (\u001b[33mtomasmuzas-phd\u001b[0m). Use \u001b[1m`wandb login --relogin`\u001b[0m to force relogin\n"
          ]
        },
        {
          "data": {
            "text/plain": [
              "True"
            ]
          },
          "execution_count": 3,
          "metadata": {},
          "output_type": "execute_result"
        }
      ],
      "source": [
        "import wandb\n",
        "\n",
        "wandb.login()"
      ]
    },
    {
      "cell_type": "markdown",
      "metadata": {
        "id": "iTUyXzlr5PoC"
      },
      "source": [
        "# Training"
      ]
    },
    {
      "cell_type": "code",
      "execution_count": null,
      "metadata": {
        "colab": {
          "base_uri": "https://localhost:8080/"
        },
        "id": "8-TFCUbW4b9Y",
        "outputId": "a62c43fc-a3ec-4577-8e56-07c2cd5750c9"
      },
      "outputs": [],
      "source": [
        "tf.get_logger().setLevel('ERROR')\n",
        "\n",
        "\n",
        "training_config = {\n",
        "\"ENABLE_DETERMINISM\": False,\n",
        "\"SEED\": 17,\n",
        "\"AUTO\": tf.data.AUTOTUNE,\n",
        "\"TRAIN_BATCH_SIZE\": 1024,\n",
        "\"TEST_BATCH_SIZE\": 256,\n",
        "\"NUMBER_OF_EPOCHS\": 500,\n",
        "\"EARLY_STOPPING_TOLERANCE\": 10,\n",
        "\"LEARNING_RATE\": 1e-4,\n",
        "\"IMAGE_SIZE\": 128,\n",
        "\"SHUFFLE_BUFFER\": 300000,\n",
        "\"TPU\": True,\n",
        "\"AUGMENTATIONS_ROTATE\": True,\n",
        "\"AUGMENTATIONS_FLIP_HORIZONTALLY\": True,\n",
        "\"AUGMENTATIONS_FLIP_VERTICALLY\": True,\n",
        "\"AUGMENTATIONS_ZOOM\": True,\n",
        "\"AUGMENTATIONS_RANDOM_NOISE\": False,\n",
        "\"AUGMENTATIONS_CENTER_NOISE\": False,\n",
        "\"AUGMENTATIONS_OUTSIDE_NOISE\": False,\n",
        "\"AUGMENTATIONS_PERLIN_CENTER_NOISE\": False,\n",
        "\"USE_ADABELIEF_OPTIMIZER\": False,\n",
        "\"GALAXY_DATASET\": \"SDSS\",\n",
        "\"TRAIN_DATASET_SIZE\": 655360,\n",
        "\"TEST_DATASET_SIZE\": 163809,\n",
        "\"STRETCH\": False,\n",
        "\"STEPS_PER_EXECUTION\": 1,\n",
        "\"FOLDS\": 5,\n",
        "\"NUMBER_OF_CLASSES\": 5\n",
        "}\n",
        "training_config[\"WANDB_PROJECT_NAME\"] = f\"Spiral Certainty Bins\"\n",
        "training_config[\"EXPERIMENT_DESCRIPTION\"] = f\"spiral_certainty_bins_main_augmentations_{training_config['FOLDS']}_folds\"\n",
        "training_config[\"LOCAL_GCP_PATH_BASE\"] = f\"gcs/SpiralCertaintyBin\"\n",
        "training_config[\"REMOTE_GCP_PATH_BASE\"] = f\"gs://tomasmuzas-phd-datasets/SpiralCertaintyBin\"\n",
        "training_config[\"DATASET_PATH\"] = f\"data/TFDataset/{training_config['FOLDS']}_folds\"\n",
        "\n",
        "models = [\n",
        "    # {'name': 'cavanagh', 'func': Cavanagh, 'starting_fold': 1},\n",
        "    {'name': 'dieleman', 'func': Dieleman, 'starting_fold': 1},\n",
        "    # {'name': 'resnet50', 'func': create_ResNet50, 'starting_fold': 1},\n",
        "    # {'name': 'newsimple', 'func': SimpleModel, 'starting_fold': 1}\n",
        "]\n",
        "\n",
        "perform_training(models, training_config)"
      ]
    }
  ],
  "metadata": {
    "accelerator": "TPU",
    "colab": {
      "collapsed_sections": [
        "_Lyvje0L5Fhf",
        "ssvCqgBW49XS",
        "5PmexVmh45rr",
        "R3YKxbnx4VyJ"
      ],
      "provenance": []
    },
    "gpuClass": "standard",
    "kernelspec": {
      "display_name": "Python 3",
      "language": "python",
      "name": "python3"
    },
    "language_info": {
      "codemirror_mode": {
        "name": "ipython",
        "version": 3
      },
      "file_extension": ".py",
      "mimetype": "text/x-python",
      "name": "python",
      "nbconvert_exporter": "python",
      "pygments_lexer": "ipython3",
      "version": "3.8.0"
    },
    "vscode": {
      "interpreter": {
        "hash": "3ad933181bd8a04b432d3370b9dc3b0662ad032c4dfaa4e4f1596c548f763858"
      }
    },
    "widgets": {
      "application/vnd.jupyter.widget-state+json": {
        "305ac5abc7774bcaa0f7c9ddeb590320": {
          "model_module": "@jupyter-widgets/base",
          "model_module_version": "1.2.0",
          "model_name": "LayoutModel",
          "state": {
            "_model_module": "@jupyter-widgets/base",
            "_model_module_version": "1.2.0",
            "_model_name": "LayoutModel",
            "_view_count": null,
            "_view_module": "@jupyter-widgets/base",
            "_view_module_version": "1.2.0",
            "_view_name": "LayoutView",
            "align_content": null,
            "align_items": null,
            "align_self": null,
            "border": null,
            "bottom": null,
            "display": null,
            "flex": null,
            "flex_flow": null,
            "grid_area": null,
            "grid_auto_columns": null,
            "grid_auto_flow": null,
            "grid_auto_rows": null,
            "grid_column": null,
            "grid_gap": null,
            "grid_row": null,
            "grid_template_areas": null,
            "grid_template_columns": null,
            "grid_template_rows": null,
            "height": null,
            "justify_content": null,
            "justify_items": null,
            "left": null,
            "margin": null,
            "max_height": null,
            "max_width": null,
            "min_height": null,
            "min_width": null,
            "object_fit": null,
            "object_position": null,
            "order": null,
            "overflow": null,
            "overflow_x": null,
            "overflow_y": null,
            "padding": null,
            "right": null,
            "top": null,
            "visibility": null,
            "width": null
          }
        },
        "5615db030b0449dc8ddbbae6032ef40a": {
          "model_module": "@jupyter-widgets/controls",
          "model_module_version": "1.5.0",
          "model_name": "DescriptionStyleModel",
          "state": {
            "_model_module": "@jupyter-widgets/controls",
            "_model_module_version": "1.5.0",
            "_model_name": "DescriptionStyleModel",
            "_view_count": null,
            "_view_module": "@jupyter-widgets/base",
            "_view_module_version": "1.2.0",
            "_view_name": "StyleView",
            "description_width": ""
          }
        },
        "6cc15fee21da42beb5b23426de118fe4": {
          "model_module": "@jupyter-widgets/controls",
          "model_module_version": "1.5.0",
          "model_name": "FloatProgressModel",
          "state": {
            "_dom_classes": [],
            "_model_module": "@jupyter-widgets/controls",
            "_model_module_version": "1.5.0",
            "_model_name": "FloatProgressModel",
            "_view_count": null,
            "_view_module": "@jupyter-widgets/controls",
            "_view_module_version": "1.5.0",
            "_view_name": "ProgressView",
            "bar_style": "success",
            "description": "",
            "description_tooltip": null,
            "layout": "IPY_MODEL_e6f2fc1e9c9d424a89d0baaac5d729b1",
            "max": 1,
            "min": 0,
            "orientation": "horizontal",
            "style": "IPY_MODEL_daee5b5a47604aa6911740215c5d6ed8",
            "value": 1
          }
        },
        "6d922075b6c9452dafb499dde994778b": {
          "model_module": "@jupyter-widgets/controls",
          "model_module_version": "1.5.0",
          "model_name": "HTMLModel",
          "state": {
            "_dom_classes": [],
            "_model_module": "@jupyter-widgets/controls",
            "_model_module_version": "1.5.0",
            "_model_name": "HTMLModel",
            "_view_count": null,
            "_view_module": "@jupyter-widgets/controls",
            "_view_module_version": "1.5.0",
            "_view_name": "HTMLView",
            "description": "",
            "description_tooltip": null,
            "layout": "IPY_MODEL_78e1c213e1e64884ba2f31d8421abeb9",
            "placeholder": "​",
            "style": "IPY_MODEL_ce52ddec19d74879a0d3312d55379e65",
            "value": " 278/? [00:08&lt;00:00, 32.07it/s]"
          }
        },
        "78e1c213e1e64884ba2f31d8421abeb9": {
          "model_module": "@jupyter-widgets/base",
          "model_module_version": "1.2.0",
          "model_name": "LayoutModel",
          "state": {
            "_model_module": "@jupyter-widgets/base",
            "_model_module_version": "1.2.0",
            "_model_name": "LayoutModel",
            "_view_count": null,
            "_view_module": "@jupyter-widgets/base",
            "_view_module_version": "1.2.0",
            "_view_name": "LayoutView",
            "align_content": null,
            "align_items": null,
            "align_self": null,
            "border": null,
            "bottom": null,
            "display": null,
            "flex": null,
            "flex_flow": null,
            "grid_area": null,
            "grid_auto_columns": null,
            "grid_auto_flow": null,
            "grid_auto_rows": null,
            "grid_column": null,
            "grid_gap": null,
            "grid_row": null,
            "grid_template_areas": null,
            "grid_template_columns": null,
            "grid_template_rows": null,
            "height": null,
            "justify_content": null,
            "justify_items": null,
            "left": null,
            "margin": null,
            "max_height": null,
            "max_width": null,
            "min_height": null,
            "min_width": null,
            "object_fit": null,
            "object_position": null,
            "order": null,
            "overflow": null,
            "overflow_x": null,
            "overflow_y": null,
            "padding": null,
            "right": null,
            "top": null,
            "visibility": null,
            "width": null
          }
        },
        "8626aff524444b0b803a939822191b63": {
          "model_module": "@jupyter-widgets/base",
          "model_module_version": "1.2.0",
          "model_name": "LayoutModel",
          "state": {
            "_model_module": "@jupyter-widgets/base",
            "_model_module_version": "1.2.0",
            "_model_name": "LayoutModel",
            "_view_count": null,
            "_view_module": "@jupyter-widgets/base",
            "_view_module_version": "1.2.0",
            "_view_name": "LayoutView",
            "align_content": null,
            "align_items": null,
            "align_self": null,
            "border": null,
            "bottom": null,
            "display": null,
            "flex": null,
            "flex_flow": null,
            "grid_area": null,
            "grid_auto_columns": null,
            "grid_auto_flow": null,
            "grid_auto_rows": null,
            "grid_column": null,
            "grid_gap": null,
            "grid_row": null,
            "grid_template_areas": null,
            "grid_template_columns": null,
            "grid_template_rows": null,
            "height": null,
            "justify_content": null,
            "justify_items": null,
            "left": null,
            "margin": null,
            "max_height": null,
            "max_width": null,
            "min_height": null,
            "min_width": null,
            "object_fit": null,
            "object_position": null,
            "order": null,
            "overflow": null,
            "overflow_x": null,
            "overflow_y": null,
            "padding": null,
            "right": null,
            "top": null,
            "visibility": null,
            "width": null
          }
        },
        "b5b3555399d845c4b80f83ab402060b9": {
          "model_module": "@jupyter-widgets/controls",
          "model_module_version": "1.5.0",
          "model_name": "HTMLModel",
          "state": {
            "_dom_classes": [],
            "_model_module": "@jupyter-widgets/controls",
            "_model_module_version": "1.5.0",
            "_model_name": "HTMLModel",
            "_view_count": null,
            "_view_module": "@jupyter-widgets/controls",
            "_view_module_version": "1.5.0",
            "_view_name": "HTMLView",
            "description": "",
            "description_tooltip": null,
            "layout": "IPY_MODEL_8626aff524444b0b803a939822191b63",
            "placeholder": "​",
            "style": "IPY_MODEL_5615db030b0449dc8ddbbae6032ef40a",
            "value": ""
          }
        },
        "b8a095b6503348e7b1f872f42234bbde": {
          "model_module": "@jupyter-widgets/controls",
          "model_module_version": "1.5.0",
          "model_name": "HBoxModel",
          "state": {
            "_dom_classes": [],
            "_model_module": "@jupyter-widgets/controls",
            "_model_module_version": "1.5.0",
            "_model_name": "HBoxModel",
            "_view_count": null,
            "_view_module": "@jupyter-widgets/controls",
            "_view_module_version": "1.5.0",
            "_view_name": "HBoxView",
            "box_style": "",
            "children": [
              "IPY_MODEL_b5b3555399d845c4b80f83ab402060b9",
              "IPY_MODEL_6cc15fee21da42beb5b23426de118fe4",
              "IPY_MODEL_6d922075b6c9452dafb499dde994778b"
            ],
            "layout": "IPY_MODEL_305ac5abc7774bcaa0f7c9ddeb590320"
          }
        },
        "ce52ddec19d74879a0d3312d55379e65": {
          "model_module": "@jupyter-widgets/controls",
          "model_module_version": "1.5.0",
          "model_name": "DescriptionStyleModel",
          "state": {
            "_model_module": "@jupyter-widgets/controls",
            "_model_module_version": "1.5.0",
            "_model_name": "DescriptionStyleModel",
            "_view_count": null,
            "_view_module": "@jupyter-widgets/base",
            "_view_module_version": "1.2.0",
            "_view_name": "StyleView",
            "description_width": ""
          }
        },
        "daee5b5a47604aa6911740215c5d6ed8": {
          "model_module": "@jupyter-widgets/controls",
          "model_module_version": "1.5.0",
          "model_name": "ProgressStyleModel",
          "state": {
            "_model_module": "@jupyter-widgets/controls",
            "_model_module_version": "1.5.0",
            "_model_name": "ProgressStyleModel",
            "_view_count": null,
            "_view_module": "@jupyter-widgets/base",
            "_view_module_version": "1.2.0",
            "_view_name": "StyleView",
            "bar_color": null,
            "description_width": ""
          }
        },
        "e6f2fc1e9c9d424a89d0baaac5d729b1": {
          "model_module": "@jupyter-widgets/base",
          "model_module_version": "1.2.0",
          "model_name": "LayoutModel",
          "state": {
            "_model_module": "@jupyter-widgets/base",
            "_model_module_version": "1.2.0",
            "_model_name": "LayoutModel",
            "_view_count": null,
            "_view_module": "@jupyter-widgets/base",
            "_view_module_version": "1.2.0",
            "_view_name": "LayoutView",
            "align_content": null,
            "align_items": null,
            "align_self": null,
            "border": null,
            "bottom": null,
            "display": null,
            "flex": null,
            "flex_flow": null,
            "grid_area": null,
            "grid_auto_columns": null,
            "grid_auto_flow": null,
            "grid_auto_rows": null,
            "grid_column": null,
            "grid_gap": null,
            "grid_row": null,
            "grid_template_areas": null,
            "grid_template_columns": null,
            "grid_template_rows": null,
            "height": null,
            "justify_content": null,
            "justify_items": null,
            "left": null,
            "margin": null,
            "max_height": null,
            "max_width": null,
            "min_height": null,
            "min_width": null,
            "object_fit": null,
            "object_position": null,
            "order": null,
            "overflow": null,
            "overflow_x": null,
            "overflow_y": null,
            "padding": null,
            "right": null,
            "top": null,
            "visibility": null,
            "width": "20px"
          }
        }
      }
    }
  },
  "nbformat": 4,
  "nbformat_minor": 0
}
