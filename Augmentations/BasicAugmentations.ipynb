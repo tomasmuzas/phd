{
  "cells": [
    {
      "attachments": {},
      "cell_type": "markdown",
      "metadata": {},
      "source": [
        "# Setup"
      ]
    },
    {
      "cell_type": "code",
      "execution_count": null,
      "metadata": {},
      "outputs": [],
      "source": [
        "%pip install astropy\n",
        "%pip install git+https://github.com/pvigier/perlin-numpy\n",
        "%pip install tensorflow_addons"
      ]
    },
    {
      "cell_type": "code",
      "execution_count": null,
      "metadata": {
        "tags": []
      },
      "outputs": [],
      "source": [
        "!git clone https://github.com/tomasmuzas/phd"
      ]
    },
    {
      "cell_type": "code",
      "execution_count": 1,
      "metadata": {
        "colab": {
          "base_uri": "https://localhost:8080/"
        },
        "id": "wQlCruZqyTeW",
        "outputId": "24b50b9f-36f7-4ca8-8365-0ea12cc4cd4b"
      },
      "outputs": [
        {
          "name": "stdout",
          "output_type": "stream",
          "text": [
            "No determinism enabled.\n"
          ]
        }
      ],
      "source": [
        "from phd.Augmentations.common_code.augmentation_functions import *\n",
        "from phd.Augmentations.common_code.get_dataset import *\n",
        "from phd.Augmentations.common_code.models import *\n",
        "from phd.Augmentations.common_code.training_loop import *\n",
        "from phd.Augmentations.common_code.utils import *\n",
        "import tensorflow as tf\n",
        "\n",
        "training_config = {\n",
        "  \"ENABLE_DETERMINISM\": False,\n",
        "  \"SEED\": 17,\n",
        "  \"AUTO\": tf.data.AUTOTUNE,\n",
        "  \"TRAIN_BATCH_SIZE\": 1024,\n",
        "  \"TEST_BATCH_SIZE\": 16,\n",
        "  \"NUMBER_OF_EPOCHS\": 500,\n",
        "  \"EARLY_STOPPING_TOLERANCE\": 10,\n",
        "  \"LEARNING_RATE\": 1e-4,\n",
        "  \"IMAGE_SIZE\": 128,\n",
        "  \"SHUFFLE_BUFFER\": 300000,\n",
        "  \"TPU\": True,\n",
        "  \"AUGMENTATIONS_ROTATE\": True,\n",
        "  \"AUGMENTATIONS_FLIP_HORIZONTALLY\": True,\n",
        "  \"AUGMENTATIONS_FLIP_VERTICALLY\": True,\n",
        "  \"AUGMENTATIONS_ZOOM\": True,\n",
        "  \"AUGMENTATIONS_RANDOM_NOISE\": False,\n",
        "  \"AUGMENTATIONS_CENTER_NOISE\": False,\n",
        "  \"AUGMENTATIONS_OUTSIDE_NOISE\": False,\n",
        "  \"AUGMENTATIONS_PERLIN_CENTER_NOISE\": False,\n",
        "  \"USE_ADABELIEF_OPTIMIZER\": False,\n",
        "  \"GALAXY_DATASET\": \"SDSS\",\n",
        "  \"EXPERIMENT_DESCRIPTION\": \"conference/basic_augmentations\"\n",
        "}\n",
        "\n",
        "training_config[\"LOCAL_GCP_PATH_BASE\"] = f\"gcs/{training_config['GALAXY_DATASET']}\"\n",
        "training_config[\"REMOTE_GCP_PATH_BASE\"] = f\"gs://tomasmuzas-phd-datasets/{training_config['GALAXY_DATASET']}\"\n",
        "\n",
        "\n",
        "if training_config[\"ENABLE_DETERMINISM\"]:\n",
        "  print(f\"Enabling determinism. Seed: {training_config.SEED}.\")\n",
        "  tf.keras.utils.set_random_seed(training_config.SEED)\n",
        "  tf.config.experimental.enable_op_determinism()\n",
        "else:\n",
        "  print(\"No determinism enabled.\")"
      ]
    },
    {
      "cell_type": "code",
      "execution_count": 2,
      "metadata": {
        "id": "Q0AGAn9OVgUV"
      },
      "outputs": [],
      "source": [
        "from google.colab import auth\n",
        "\n",
        "auth.authenticate_user()\n",
        "reset_tpu(training_config)"
      ]
    },
    {
      "cell_type": "code",
      "execution_count": null,
      "metadata": {
        "colab": {
          "base_uri": "https://localhost:8080/"
        },
        "id": "3rI-OBPeYWJu",
        "outputId": "785862a5-5fe7-477d-a33d-1021a4f46d4d"
      },
      "outputs": [],
      "source": [
        "!echo \"deb http://packages.cloud.google.com/apt gcsfuse-bionic main\" > /etc/apt/sources.list.d/gcsfuse.list\n",
        "!curl https://packages.cloud.google.com/apt/doc/apt-key.gpg | apt-key add -\n",
        "!apt -qq update\n",
        "!apt -qq install gcsfuse\n",
        "!mkdir gcs\n",
        "!gcsfuse --implicit-dirs tomasmuzas-phd-datasets gcs"
      ]
    },
    {
      "cell_type": "markdown",
      "metadata": {
        "id": "iTUyXzlr5PoC"
      },
      "source": [
        "# Training"
      ]
    },
    {
      "cell_type": "code",
      "execution_count": null,
      "metadata": {
        "colab": {
          "base_uri": "https://localhost:8080/"
        },
        "id": "8-TFCUbW4b9Y",
        "outputId": "a62c43fc-a3ec-4577-8e56-07c2cd5750c9"
      },
      "outputs": [],
      "source": [
        "models = [\n",
        "    {'name': 'cavanagh', 'func': Cavanagh, 'starting_fold': 1},\n",
        "    {'name': 'dieleman', 'func': Dieleman, 'starting_fold': 1},\n",
        "    {'name': 'resnet50', 'func': create_ResNet50, 'starting_fold': 1},\n",
        "    {'name': 'newsimple', 'func': SimpleModel, 'starting_fold': 1}\n",
        "]\n",
        "\n",
        "perform_training(models, training_config)"
      ]
    }
  ],
  "metadata": {
    "accelerator": "TPU",
    "colab": {
      "collapsed_sections": [
        "_Lyvje0L5Fhf",
        "ssvCqgBW49XS",
        "5PmexVmh45rr",
        "R3YKxbnx4VyJ"
      ],
      "provenance": []
    },
    "gpuClass": "standard",
    "kernelspec": {
      "display_name": "Python 3",
      "language": "python",
      "name": "python3"
    },
    "language_info": {
      "name": "python",
      "version": "3.10.4 (main, Dec 19 2022, 20:24:16) [GCC 9.4.0]"
    },
    "vscode": {
      "interpreter": {
        "hash": "3ad933181bd8a04b432d3370b9dc3b0662ad032c4dfaa4e4f1596c548f763858"
      }
    },
    "widgets": {
      "application/vnd.jupyter.widget-state+json": {
        "305ac5abc7774bcaa0f7c9ddeb590320": {
          "model_module": "@jupyter-widgets/base",
          "model_module_version": "1.2.0",
          "model_name": "LayoutModel",
          "state": {
            "_model_module": "@jupyter-widgets/base",
            "_model_module_version": "1.2.0",
            "_model_name": "LayoutModel",
            "_view_count": null,
            "_view_module": "@jupyter-widgets/base",
            "_view_module_version": "1.2.0",
            "_view_name": "LayoutView",
            "align_content": null,
            "align_items": null,
            "align_self": null,
            "border": null,
            "bottom": null,
            "display": null,
            "flex": null,
            "flex_flow": null,
            "grid_area": null,
            "grid_auto_columns": null,
            "grid_auto_flow": null,
            "grid_auto_rows": null,
            "grid_column": null,
            "grid_gap": null,
            "grid_row": null,
            "grid_template_areas": null,
            "grid_template_columns": null,
            "grid_template_rows": null,
            "height": null,
            "justify_content": null,
            "justify_items": null,
            "left": null,
            "margin": null,
            "max_height": null,
            "max_width": null,
            "min_height": null,
            "min_width": null,
            "object_fit": null,
            "object_position": null,
            "order": null,
            "overflow": null,
            "overflow_x": null,
            "overflow_y": null,
            "padding": null,
            "right": null,
            "top": null,
            "visibility": null,
            "width": null
          }
        },
        "5615db030b0449dc8ddbbae6032ef40a": {
          "model_module": "@jupyter-widgets/controls",
          "model_module_version": "1.5.0",
          "model_name": "DescriptionStyleModel",
          "state": {
            "_model_module": "@jupyter-widgets/controls",
            "_model_module_version": "1.5.0",
            "_model_name": "DescriptionStyleModel",
            "_view_count": null,
            "_view_module": "@jupyter-widgets/base",
            "_view_module_version": "1.2.0",
            "_view_name": "StyleView",
            "description_width": ""
          }
        },
        "6cc15fee21da42beb5b23426de118fe4": {
          "model_module": "@jupyter-widgets/controls",
          "model_module_version": "1.5.0",
          "model_name": "FloatProgressModel",
          "state": {
            "_dom_classes": [],
            "_model_module": "@jupyter-widgets/controls",
            "_model_module_version": "1.5.0",
            "_model_name": "FloatProgressModel",
            "_view_count": null,
            "_view_module": "@jupyter-widgets/controls",
            "_view_module_version": "1.5.0",
            "_view_name": "ProgressView",
            "bar_style": "success",
            "description": "",
            "description_tooltip": null,
            "layout": "IPY_MODEL_e6f2fc1e9c9d424a89d0baaac5d729b1",
            "max": 1,
            "min": 0,
            "orientation": "horizontal",
            "style": "IPY_MODEL_daee5b5a47604aa6911740215c5d6ed8",
            "value": 1
          }
        },
        "6d922075b6c9452dafb499dde994778b": {
          "model_module": "@jupyter-widgets/controls",
          "model_module_version": "1.5.0",
          "model_name": "HTMLModel",
          "state": {
            "_dom_classes": [],
            "_model_module": "@jupyter-widgets/controls",
            "_model_module_version": "1.5.0",
            "_model_name": "HTMLModel",
            "_view_count": null,
            "_view_module": "@jupyter-widgets/controls",
            "_view_module_version": "1.5.0",
            "_view_name": "HTMLView",
            "description": "",
            "description_tooltip": null,
            "layout": "IPY_MODEL_78e1c213e1e64884ba2f31d8421abeb9",
            "placeholder": "​",
            "style": "IPY_MODEL_ce52ddec19d74879a0d3312d55379e65",
            "value": " 278/? [00:08&lt;00:00, 32.07it/s]"
          }
        },
        "78e1c213e1e64884ba2f31d8421abeb9": {
          "model_module": "@jupyter-widgets/base",
          "model_module_version": "1.2.0",
          "model_name": "LayoutModel",
          "state": {
            "_model_module": "@jupyter-widgets/base",
            "_model_module_version": "1.2.0",
            "_model_name": "LayoutModel",
            "_view_count": null,
            "_view_module": "@jupyter-widgets/base",
            "_view_module_version": "1.2.0",
            "_view_name": "LayoutView",
            "align_content": null,
            "align_items": null,
            "align_self": null,
            "border": null,
            "bottom": null,
            "display": null,
            "flex": null,
            "flex_flow": null,
            "grid_area": null,
            "grid_auto_columns": null,
            "grid_auto_flow": null,
            "grid_auto_rows": null,
            "grid_column": null,
            "grid_gap": null,
            "grid_row": null,
            "grid_template_areas": null,
            "grid_template_columns": null,
            "grid_template_rows": null,
            "height": null,
            "justify_content": null,
            "justify_items": null,
            "left": null,
            "margin": null,
            "max_height": null,
            "max_width": null,
            "min_height": null,
            "min_width": null,
            "object_fit": null,
            "object_position": null,
            "order": null,
            "overflow": null,
            "overflow_x": null,
            "overflow_y": null,
            "padding": null,
            "right": null,
            "top": null,
            "visibility": null,
            "width": null
          }
        },
        "8626aff524444b0b803a939822191b63": {
          "model_module": "@jupyter-widgets/base",
          "model_module_version": "1.2.0",
          "model_name": "LayoutModel",
          "state": {
            "_model_module": "@jupyter-widgets/base",
            "_model_module_version": "1.2.0",
            "_model_name": "LayoutModel",
            "_view_count": null,
            "_view_module": "@jupyter-widgets/base",
            "_view_module_version": "1.2.0",
            "_view_name": "LayoutView",
            "align_content": null,
            "align_items": null,
            "align_self": null,
            "border": null,
            "bottom": null,
            "display": null,
            "flex": null,
            "flex_flow": null,
            "grid_area": null,
            "grid_auto_columns": null,
            "grid_auto_flow": null,
            "grid_auto_rows": null,
            "grid_column": null,
            "grid_gap": null,
            "grid_row": null,
            "grid_template_areas": null,
            "grid_template_columns": null,
            "grid_template_rows": null,
            "height": null,
            "justify_content": null,
            "justify_items": null,
            "left": null,
            "margin": null,
            "max_height": null,
            "max_width": null,
            "min_height": null,
            "min_width": null,
            "object_fit": null,
            "object_position": null,
            "order": null,
            "overflow": null,
            "overflow_x": null,
            "overflow_y": null,
            "padding": null,
            "right": null,
            "top": null,
            "visibility": null,
            "width": null
          }
        },
        "b5b3555399d845c4b80f83ab402060b9": {
          "model_module": "@jupyter-widgets/controls",
          "model_module_version": "1.5.0",
          "model_name": "HTMLModel",
          "state": {
            "_dom_classes": [],
            "_model_module": "@jupyter-widgets/controls",
            "_model_module_version": "1.5.0",
            "_model_name": "HTMLModel",
            "_view_count": null,
            "_view_module": "@jupyter-widgets/controls",
            "_view_module_version": "1.5.0",
            "_view_name": "HTMLView",
            "description": "",
            "description_tooltip": null,
            "layout": "IPY_MODEL_8626aff524444b0b803a939822191b63",
            "placeholder": "​",
            "style": "IPY_MODEL_5615db030b0449dc8ddbbae6032ef40a",
            "value": ""
          }
        },
        "b8a095b6503348e7b1f872f42234bbde": {
          "model_module": "@jupyter-widgets/controls",
          "model_module_version": "1.5.0",
          "model_name": "HBoxModel",
          "state": {
            "_dom_classes": [],
            "_model_module": "@jupyter-widgets/controls",
            "_model_module_version": "1.5.0",
            "_model_name": "HBoxModel",
            "_view_count": null,
            "_view_module": "@jupyter-widgets/controls",
            "_view_module_version": "1.5.0",
            "_view_name": "HBoxView",
            "box_style": "",
            "children": [
              "IPY_MODEL_b5b3555399d845c4b80f83ab402060b9",
              "IPY_MODEL_6cc15fee21da42beb5b23426de118fe4",
              "IPY_MODEL_6d922075b6c9452dafb499dde994778b"
            ],
            "layout": "IPY_MODEL_305ac5abc7774bcaa0f7c9ddeb590320"
          }
        },
        "ce52ddec19d74879a0d3312d55379e65": {
          "model_module": "@jupyter-widgets/controls",
          "model_module_version": "1.5.0",
          "model_name": "DescriptionStyleModel",
          "state": {
            "_model_module": "@jupyter-widgets/controls",
            "_model_module_version": "1.5.0",
            "_model_name": "DescriptionStyleModel",
            "_view_count": null,
            "_view_module": "@jupyter-widgets/base",
            "_view_module_version": "1.2.0",
            "_view_name": "StyleView",
            "description_width": ""
          }
        },
        "daee5b5a47604aa6911740215c5d6ed8": {
          "model_module": "@jupyter-widgets/controls",
          "model_module_version": "1.5.0",
          "model_name": "ProgressStyleModel",
          "state": {
            "_model_module": "@jupyter-widgets/controls",
            "_model_module_version": "1.5.0",
            "_model_name": "ProgressStyleModel",
            "_view_count": null,
            "_view_module": "@jupyter-widgets/base",
            "_view_module_version": "1.2.0",
            "_view_name": "StyleView",
            "bar_color": null,
            "description_width": ""
          }
        },
        "e6f2fc1e9c9d424a89d0baaac5d729b1": {
          "model_module": "@jupyter-widgets/base",
          "model_module_version": "1.2.0",
          "model_name": "LayoutModel",
          "state": {
            "_model_module": "@jupyter-widgets/base",
            "_model_module_version": "1.2.0",
            "_model_name": "LayoutModel",
            "_view_count": null,
            "_view_module": "@jupyter-widgets/base",
            "_view_module_version": "1.2.0",
            "_view_name": "LayoutView",
            "align_content": null,
            "align_items": null,
            "align_self": null,
            "border": null,
            "bottom": null,
            "display": null,
            "flex": null,
            "flex_flow": null,
            "grid_area": null,
            "grid_auto_columns": null,
            "grid_auto_flow": null,
            "grid_auto_rows": null,
            "grid_column": null,
            "grid_gap": null,
            "grid_row": null,
            "grid_template_areas": null,
            "grid_template_columns": null,
            "grid_template_rows": null,
            "height": null,
            "justify_content": null,
            "justify_items": null,
            "left": null,
            "margin": null,
            "max_height": null,
            "max_width": null,
            "min_height": null,
            "min_width": null,
            "object_fit": null,
            "object_position": null,
            "order": null,
            "overflow": null,
            "overflow_x": null,
            "overflow_y": null,
            "padding": null,
            "right": null,
            "top": null,
            "visibility": null,
            "width": "20px"
          }
        }
      }
    }
  },
  "nbformat": 4,
  "nbformat_minor": 0
}
