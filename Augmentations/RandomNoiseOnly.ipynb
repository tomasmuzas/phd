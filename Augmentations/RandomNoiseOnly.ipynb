{
  "cells": [
    {
      "cell_type": "code",
      "execution_count": 1,
      "metadata": {
        "colab": {
          "base_uri": "https://localhost:8080/"
        },
        "id": "wQlCruZqyTeW",
        "outputId": "f8e21dc9-9c2d-4402-f6ea-62852b39042e"
      },
      "outputs": [
        {
          "name": "stdout",
          "output_type": "stream",
          "text": [
            "No determinism enabled.\n"
          ]
        }
      ],
      "source": [
        "#@title Configuration { form-width: \"40%\", display-mode: \"form\" }\n",
        "import os\n",
        "import numpy as np\n",
        "import random\n",
        "import tensorflow as tf\n",
        "import tensorflow_datasets as tfds\n",
        "from tensorflow.keras import Sequential, optimizers\n",
        "from tensorflow.keras.applications import ResNet50\n",
        "from tensorflow.keras.layers import Dense, Dropout, Flatten, BatchNormalization, Conv2D, Input, MaxPool2D\n",
        "\n",
        "\n",
        "#@markdown ##Determinism\n",
        "#@markdown ---\n",
        "ENABLE_DETERMINISM = False #@param {type: \"boolean\"}\n",
        "SEED = 17 #@param\n",
        "AUTO = tf.data.AUTOTUNE\n",
        "#@markdown ##Batches\n",
        "#@markdown ---\n",
        "TRAIN_BATCH_SIZE = 1024 #@param\n",
        "TEST_BATCH_SIZE = 16 #@param\n",
        "#@markdown ##Training\n",
        "#@markdown ---\n",
        "NUMBER_OF_EPOCHS = 500 #@param\n",
        "EARLY_STOPPING_TOLERANCE = 10 #@param\n",
        "LEARNING_RATE = 1e-4 #@param {type:\"number\"}\n",
        "IMAGE_SIZE = 128 #@param\n",
        "SHUFFLE_BUFFER = 300000 #@param {type: \"number\"}\n",
        "TPU = True #@param {type: \"boolean\"}\n",
        "#@markdown ##Augmentations\n",
        "#@markdown ---\n",
        "AUGMENTATIONS_ROTATE = False #@param {type:\"boolean\"}\n",
        "AUGMENTATIONS_FLIP_HORIZONTALLY = False #@param {type:\"boolean\"}\n",
        "AUGMENTATIONS_FLIP_VERTICALLY = False #@param {type:\"boolean\"}\n",
        "AUGMENTATIONS_ZOOM = False #@param {type:\"boolean\"}\n",
        "AUGMENTATIONS_RANDOM_NOISE = True #@param {type:\"boolean\"}\n",
        "#@markdown ##Paths\n",
        "#@markdown ---\n",
        "GALAXY_DATASET = \"SDSS\" #@param {type:\"string\"}\n",
        "EXPERIMENT_DESCRIPTION = \"conference/random_zoom_only\" #@param {type:\"string\"}\n",
        "LOCAL_GCP_PATH_BASE = f\"gcs/{GALAXY_DATASET}\"\n",
        "REMOTE_GCP_PATH_BASE = f\"gs://tomasmuzas-phd-datasets/{GALAXY_DATASET}\"\n",
        "\n",
        "\n",
        "\n",
        "if ENABLE_DETERMINISM:\n",
        "  print(f\"Enabling determinism. Seed: {SEED}.\")\n",
        "  tf.keras.utils.set_random_seed(SEED)\n",
        "  tf.config.experimental.enable_op_determinism()\n",
        "else:\n",
        "  print(\"No determinism enabled.\")"
      ]
    },
    {
      "cell_type": "code",
      "execution_count": 2,
      "metadata": {
        "id": "Q0AGAn9OVgUV"
      },
      "outputs": [],
      "source": [
        "from google.colab import auth\n",
        "auth.authenticate_user()"
      ]
    },
    {
      "cell_type": "markdown",
      "metadata": {
        "id": "_Lyvje0L5Fhf"
      },
      "source": [
        "# Dataset"
      ]
    },
    {
      "cell_type": "code",
      "execution_count": 3,
      "metadata": {
        "id": "jbgkJKuUHueG"
      },
      "outputs": [],
      "source": [
        "@tf.function\n",
        "def random_invert_horizontally(x, y, seed):\n",
        "  return tf.cond(\n",
        "    tf.random.uniform([], seed = seed) < 0.5,\n",
        "    lambda: tf.image.flip_left_right(x),\n",
        "    lambda: x)\n",
        "\n",
        "@tf.function\n",
        "def random_invert_vertically(x, y, seed):\n",
        "  return tf.cond(\n",
        "    tf.random.uniform([], seed = seed) < 0.5,\n",
        "    lambda: tf.image.flip_up_down(x),\n",
        "    lambda: x)\n",
        "\n",
        "#and tf.math.equal(y, 1) == True:\n",
        "@tf.function\n",
        "def random_rotate(x, y, seed):\n",
        "  return tf.cond(\n",
        "      tf.random.uniform([], seed = seed) < 0.5,\n",
        "      lambda: tf.image.rot90(x, k = tf.random.uniform([], minval=1, maxval=4, dtype=tf.int32, seed = seed)),\n",
        "      lambda: x)\n",
        "\n",
        "@tf.function\n",
        "def random_zoom(x, y, seed):\n",
        "  if  tf.random.uniform([]) < 0.5: #and tf.math.equal(y, 1) == True:\n",
        "    x = tf.image.crop_to_bounding_box(x, 10, 10, IMAGE_SIZE - 20, IMAGE_SIZE - 20)\n",
        "    x = tf.image.resize(x, (IMAGE_SIZE, IMAGE_SIZE))\n",
        "  else:\n",
        "    x\n",
        "  return x\n",
        "\n",
        "@tf.function\n",
        "def random_noise(x, y, seed):\n",
        "  if  tf.random.uniform([], seed = seed) < 0.5: #and tf.math.equal(y, 1) == True:\n",
        "    noise = tf.random.uniform(shape=tf.shape(x), minval= -0.2, maxval= 0.2, dtype=tf.float32)\n",
        "    x = tf.add(x, noise)\n",
        "    x = tf.clip_by_value(x, clip_value_min=0, clip_value_max=1)\n",
        "  else:\n",
        "    x\n",
        "  return x\n",
        "\n",
        "def get_dataset(path, batch_size, seed, augment, shuffle, drop_remainder):\n",
        "  if not ENABLE_DETERMINISM:\n",
        "    seed = None\n",
        "\n",
        "  dataset = tf.data.TFRecordDataset(tf.io.gfile.glob(path + \"/*.tfrec\"), num_parallel_reads=AUTO) # if TPU else 20)\n",
        "\n",
        "  if(shuffle):\n",
        "    dataset = dataset.shuffle(SHUFFLE_BUFFER, seed = seed)\n",
        "\n",
        "  dataset = dataset.map(lambda records: tf.io.parse_single_example(\n",
        "      records,\n",
        "      {\n",
        "          \"image\": tf.io.FixedLenFeature([], dtype=tf.string),\n",
        "          \"class\": tf.io.FixedLenFeature([], dtype=tf.int64),\n",
        "\n",
        "          \"label\": tf.io.FixedLenFeature([], dtype=tf.string),\n",
        "          \"objid\": tf.io.FixedLenFeature([], dtype=tf.string),\n",
        "          \"one_hot_class\": tf.io.VarLenFeature(tf.float32)\n",
        "      }),\n",
        "      num_parallel_calls=AUTO)\n",
        "  dataset = dataset.map(lambda item: (tf.reshape(tf.image.decode_jpeg(item['image'], channels=3), [IMAGE_SIZE, IMAGE_SIZE, 3]), item['class']), num_parallel_calls=AUTO)\n",
        "  dataset = dataset.map(lambda x,y: (tf.cast(x, tf.float32), y), num_parallel_calls=AUTO)\n",
        "  dataset = dataset.map(lambda x,y: (tf.keras.layers.Rescaling(scale=1./255)(x), y), num_parallel_calls=AUTO)\n",
        "\n",
        "  if(augment):\n",
        "      if AUGMENTATIONS_ZOOM:\n",
        "        dataset = dataset.map(lambda x,y : (random_zoom(x, y, seed), y), num_parallel_calls=AUTO)\n",
        "      if AUGMENTATIONS_FLIP_HORIZONTALLY:\n",
        "        dataset = dataset.map(lambda x,y : (random_invert_horizontally(x, y, seed), y), num_parallel_calls=AUTO)\n",
        "      if AUGMENTATIONS_FLIP_VERTICALLY:\n",
        "        dataset = dataset.map(lambda x,y : (random_invert_vertically(x, y, seed), y), num_parallel_calls=AUTO)\n",
        "      if AUGMENTATIONS_ROTATE:\n",
        "        dataset = dataset.map(lambda x,y : (random_rotate(x, y, seed), y), num_parallel_calls=AUTO)\n",
        "      if AUGMENTATIONS_RANDOM_NOISE:\n",
        "        dataset = dataset.map(lambda x,y : (random_noise(x, y, seed), y), num_parallel_calls=AUTO)\n",
        "\n",
        "  dataset = dataset.batch(batch_size, drop_remainder=drop_remainder).prefetch(200 if TPU else 3)\n",
        "\n",
        "  return dataset"
      ]
    },
    {
      "cell_type": "markdown",
      "metadata": {
        "id": "ssvCqgBW49XS"
      },
      "source": [
        "# Dataset visualisation"
      ]
    },
    {
      "cell_type": "code",
      "execution_count": null,
      "metadata": {
        "id": "SC5KY2pGAvPC"
      },
      "outputs": [],
      "source": [
        "# import matplotlib.pyplot as plt\n",
        "\n",
        "\n",
        "\n",
        "# # with strategy.scope():\n",
        "# dsss = prepare_dataset_for_epochs(5, f\"gs://tomasmuzas-phd-datasets/SDSS/sdss_binary_fold_1/train\", BATCH_SIZE, seed = SEED, augment = True, drop_remainder = False)\n",
        "\n",
        "# f, axarr = plt.subplots(5, 5, sharey=True)\n",
        "# f.set_figheight(20)\n",
        "# f.set_figwidth(20)\n",
        "\n",
        "# for it, batch in enumerate(dsss):\n",
        "#   for j, image in enumerate(batch[0]):\n",
        "#     axarr[it][j].imshow(image)\n",
        "\n",
        "# # for i in range(5):\n",
        "# #   for j, images in enumerate(dsss):\n",
        "# #     for k, image in enumerate(images[0]):\n",
        "# #       axarr[i][k].imshow(image)\n",
        "# plt.show()"
      ]
    },
    {
      "cell_type": "markdown",
      "metadata": {
        "id": "5PmexVmh45rr"
      },
      "source": [
        "# GPU/TPU setup"
      ]
    },
    {
      "cell_type": "code",
      "execution_count": 4,
      "metadata": {
        "colab": {
          "base_uri": "https://localhost:8080/"
        },
        "id": "NmjzhxSJdD-m",
        "outputId": "47e17868-1b62-424c-feb1-14ac19b2dab7"
      },
      "outputs": [
        {
          "name": "stdout",
          "output_type": "stream",
          "text": [
            "Running on TPU  grpc://10.27.56.234:8470\n",
            "REPLICAS:  8\n"
          ]
        },
        {
          "data": {
            "text/plain": [
              "<tensorflow.python.distribute.tpu_strategy.TPUStrategyV2 at 0x7f7cbb1437f0>"
            ]
          },
          "execution_count": 4,
          "metadata": {},
          "output_type": "execute_result"
        }
      ],
      "source": [
        "def reset_tpu():\n",
        "  if TPU:\n",
        "    cluster_resolver = tf.distribute.cluster_resolver.TPUClusterResolver.connect()\n",
        "    strategy = tf.distribute.TPUStrategy(cluster_resolver)\n",
        "    print(\"Running on TPU \", cluster_resolver.master())\n",
        "    print(\"REPLICAS: \", strategy.num_replicas_in_sync)\n",
        "    return strategy\n",
        "  else:\n",
        "    gpus = tf.config.list_physical_devices('GPU')\n",
        "    print(gpus)\n",
        "    print(\"Running on GPU.\")\n",
        "    return tf.distribute.MirroredStrategy()\n",
        "\n",
        "reset_tpu()"
      ]
    },
    {
      "cell_type": "code",
      "execution_count": 5,
      "metadata": {
        "colab": {
          "base_uri": "https://localhost:8080/"
        },
        "id": "3rI-OBPeYWJu",
        "outputId": "d248122a-ac5d-4e2f-f1fa-53b476586077"
      },
      "outputs": [
        {
          "name": "stdout",
          "output_type": "stream",
          "text": [
            "  % Total    % Received % Xferd  Average Speed   Time    Time     Time  Current\n",
            "                                 Dload  Upload   Total   Spent    Left  Speed\n",
            "\r  0     0    0     0    0     0      0      0 --:--:-- --:--:-- --:--:--     0\r100  2426  100  2426    0     0  57761      0 --:--:-- --:--:-- --:--:-- 57761\n",
            "OK\n",
            "26 packages can be upgraded. Run 'apt list --upgradable' to see them.\n",
            "The following package was automatically installed and is no longer required:\n",
            "  libnvidia-common-460\n",
            "Use 'apt autoremove' to remove it.\n",
            "The following NEW packages will be installed:\n",
            "  gcsfuse\n",
            "0 upgraded, 1 newly installed, 0 to remove and 26 not upgraded.\n",
            "Need to get 13.3 MB of archives.\n",
            "After this operation, 30.7 MB of additional disk space will be used.\n",
            "Selecting previously unselected package gcsfuse.\n",
            "(Reading database ... 124016 files and directories currently installed.)\n",
            "Preparing to unpack .../gcsfuse_0.41.10_amd64.deb ...\n",
            "Unpacking gcsfuse (0.41.10) ...\n",
            "Setting up gcsfuse (0.41.10) ...\n",
            "2023/01/09 21:16:06.728866 Start gcsfuse/0.41.10 (Go version go1.18.4) for app \"\" using mount point: /content/gcs\n",
            "2023/01/09 21:16:06.750675 Opening GCS connection...\n",
            "2023/01/09 21:16:07.792134 Mounting file system \"tomasmuzas-phd-datasets\"...\n",
            "2023/01/09 21:16:07.793511 File system has been successfully mounted.\n"
          ]
        }
      ],
      "source": [
        "!echo \"deb http://packages.cloud.google.com/apt gcsfuse-bionic main\" > /etc/apt/sources.list.d/gcsfuse.list\n",
        "!curl https://packages.cloud.google.com/apt/doc/apt-key.gpg | apt-key add -\n",
        "!apt -qq update\n",
        "!apt -qq install gcsfuse\n",
        "!mkdir gcs\n",
        "!gcsfuse --implicit-dirs tomasmuzas-phd-datasets gcs"
      ]
    },
    {
      "cell_type": "markdown",
      "metadata": {
        "id": "R3YKxbnx4VyJ"
      },
      "source": [
        "# Model definitions"
      ]
    },
    {
      "cell_type": "code",
      "execution_count": 6,
      "metadata": {
        "id": "iKV0VDFXyN3V"
      },
      "outputs": [],
      "source": [
        "def create_ResNet50():\n",
        "  model = Sequential()\n",
        "  model.add(ResNet50(\n",
        "    input_shape = (IMAGE_SIZE, IMAGE_SIZE, 3),\n",
        "    include_top = False,\n",
        "    weights = None,\n",
        "    pooling = 'avg'))\n",
        "  model.add(Dense(1, activation='sigmoid'))\n",
        "  return model\n",
        "\n",
        "def create_EffNetB7():\n",
        "  model = Sequential()\n",
        "  model.add(tf.keras.applications.efficientnet.EfficientNetB7(\n",
        "    input_shape = (IMAGE_SIZE, IMAGE_SIZE, 3),\n",
        "    include_top = False,\n",
        "    weights = None,\n",
        "    pooling = 'avg'))\n",
        "  model.add(Dense(1, activation='sigmoid'))\n",
        "  return model\n",
        "\n",
        "def Dieleman():\n",
        "  model = Sequential(name=\"Dieleman\")\n",
        "  model.add(Input(shape=(IMAGE_SIZE, IMAGE_SIZE, 3)))\n",
        "  model.add(Conv2D(filters=32, kernel_size=6, activation='relu'))\n",
        "  model.add(BatchNormalization())\n",
        "  model.add(MaxPool2D(2))\n",
        "  model.add(Conv2D(filters=64, kernel_size=5, activation='relu'))\n",
        "  model.add(BatchNormalization())\n",
        "  model.add(MaxPool2D(2))\n",
        "  model.add(Conv2D(filters=128, kernel_size=3, activation='relu'))\n",
        "  model.add(Conv2D(filters=128, kernel_size=3, activation='relu'))\n",
        "  model.add(BatchNormalization())\n",
        "  model.add(MaxPool2D(2))\n",
        "  model.add(Flatten())\n",
        "  if ENABLE_DETERMINISM:\n",
        "    model.add(Dropout(0.5, seed = SEED))\n",
        "  else:\n",
        "    model.add(Dropout(0.5))\n",
        "  model.add(Dense(256,activation='relu'))\n",
        "  model.add(Dense(256,activation='relu'))\n",
        "  model.add(Dense(1, activation='sigmoid'))\n",
        "  return model\n",
        "\n",
        "def SimpleModel():\n",
        "  model = Sequential(name=\"SimpleModel\")\n",
        "  model.add(Input(shape=(IMAGE_SIZE, IMAGE_SIZE, 3)))\n",
        "  model.add(Conv2D(filters=256, kernel_size=6, activation='relu'))\n",
        "  model.add(Conv2D(filters=128, kernel_size=5, activation='relu'))\n",
        "  model.add(Conv2D(filters=16, kernel_size=3, activation='relu'))\n",
        "  model.add(Flatten())\n",
        "  model.add(Dense(1, activation='sigmoid'))\n",
        "  return model\n",
        "\n",
        "def SimplerModel():\n",
        "  model = Sequential(name=\"SimplerModel\")\n",
        "  model.add(Input(shape=(IMAGE_SIZE, IMAGE_SIZE, 3)))\n",
        "  model.add(Conv2D(filters=128, kernel_size=6, activation='relu'))\n",
        "  model.add(MaxPool2D(2))\n",
        "  model.add(Conv2D(filters=32, kernel_size=5, activation='relu'))\n",
        "  model.add(MaxPool2D(2))\n",
        "  model.add(Conv2D(filters=16, kernel_size=3, activation='relu'))\n",
        "  model.add(Flatten())\n",
        "  model.add(Dense(1, activation='sigmoid'))\n",
        "  return model\n",
        "\n",
        "def Cavanagh():\n",
        "  model = Sequential(name=\"Cavanagh\")\n",
        "  model.add(Input(shape=(IMAGE_SIZE, IMAGE_SIZE, 3)))\n",
        "  model.add(Conv2D(filters=32, kernel_size=7, activation='relu'))\n",
        "  model.add(BatchNormalization())\n",
        "  model.add(MaxPool2D(2))\n",
        "  model.add(Conv2D(filters=64, kernel_size=5, activation='relu'))\n",
        "  model.add(Conv2D(filters=64, kernel_size=5, activation='relu'))\n",
        "  model.add(BatchNormalization())\n",
        "  model.add(MaxPool2D(2))\n",
        "  model.add(Conv2D(filters=128, kernel_size=3, activation='relu'))\n",
        "  model.add(BatchNormalization())\n",
        "  model.add(MaxPool2D(2))\n",
        "  model.add(Flatten())\n",
        "  if ENABLE_DETERMINISM:\n",
        "    model.add(Dropout(0.5, seed = SEED))\n",
        "  else:\n",
        "    model.add(Dropout(0.5))\n",
        "  model.add(Dense(256,activation='relu'))\n",
        "  model.add(Dense(256,activation='relu'))\n",
        "  model.add(Dense(1, activation='sigmoid'))\n",
        "  return model\n"
      ]
    },
    {
      "cell_type": "markdown",
      "metadata": {
        "id": "iTUyXzlr5PoC"
      },
      "source": [
        "# Training"
      ]
    },
    {
      "cell_type": "code",
      "execution_count": 7,
      "metadata": {
        "colab": {
          "base_uri": "https://localhost:8080/"
        },
        "id": "8-TFCUbW4b9Y",
        "outputId": "7af38b70-6958-4de5-f318-1cf9dc93f823"
      },
      "outputs": [
        {
          "name": "stderr",
          "output_type": "stream",
          "text": [
            "WARNING:tensorflow:TPU system grpc://10.27.56.234:8470 has already been initialized. Reinitializing the TPU can cause previously created variables on TPU to be lost.\n"
          ]
        },
        {
          "name": "stdout",
          "output_type": "stream",
          "text": [
            "Running on TPU  grpc://10.27.56.234:8470\n",
            "REPLICAS:  8\n",
            "cavanagh FOLD 1\n",
            "Loading model from gs://tomasmuzas-phd-datasets/SDSS/models/128x128/initial_models/cavanagh\n",
            "Model: \"Cavanagh\"\n",
            "_________________________________________________________________\n",
            " Layer (type)                Output Shape              Param #   \n",
            "=================================================================\n",
            " conv2d (Conv2D)             (None, 122, 122, 32)      4736      \n",
            "                                                                 \n",
            " batch_normalization (BatchN  (None, 122, 122, 32)     128       \n",
            " ormalization)                                                   \n",
            "                                                                 \n",
            " max_pooling2d (MaxPooling2D  (None, 61, 61, 32)       0         \n",
            " )                                                               \n",
            "                                                                 \n",
            " conv2d_1 (Conv2D)           (None, 57, 57, 64)        51264     \n",
            "                                                                 \n",
            " conv2d_2 (Conv2D)           (None, 53, 53, 64)        102464    \n",
            "                                                                 \n",
            " batch_normalization_1 (Batc  (None, 53, 53, 64)       256       \n",
            " hNormalization)                                                 \n",
            "                                                                 \n",
            " max_pooling2d_1 (MaxPooling  (None, 26, 26, 64)       0         \n",
            " 2D)                                                             \n",
            "                                                                 \n",
            " conv2d_3 (Conv2D)           (None, 24, 24, 128)       73856     \n",
            "                                                                 \n",
            " batch_normalization_2 (Batc  (None, 24, 24, 128)      512       \n",
            " hNormalization)                                                 \n",
            "                                                                 \n",
            " max_pooling2d_2 (MaxPooling  (None, 12, 12, 128)      0         \n",
            " 2D)                                                             \n",
            "                                                                 \n",
            " flatten (Flatten)           (None, 18432)             0         \n",
            "                                                                 \n",
            " dropout (Dropout)           (None, 18432)             0         \n",
            "                                                                 \n",
            " dense (Dense)               (None, 256)               4718848   \n",
            "                                                                 \n",
            " dense_1 (Dense)             (None, 256)               65792     \n",
            "                                                                 \n",
            " dense_2 (Dense)             (None, 1)                 257       \n",
            "                                                                 \n",
            "=================================================================\n",
            "Total params: 5,018,113\n",
            "Trainable params: 5,017,665\n",
            "Non-trainable params: 448\n",
            "_________________________________________________________________\n",
            "278/278 [==============================] - 120s 194ms/step - loss: 0.2311 - binary_accuracy: 0.9061 - val_loss: 1.0001 - val_binary_accuracy: 0.2890\n",
            "278/278 [==============================] - 78s 172ms/step - loss: 0.1640 - binary_accuracy: 0.9336 - val_loss: 0.2729 - val_binary_accuracy: 0.8899\n",
            "Loss improved. Saving model.\n"
          ]
        },
        {
          "name": "stderr",
          "output_type": "stream",
          "text": [
            "WARNING:absl:Found untraced functions such as _jit_compiled_convolution_op, _jit_compiled_convolution_op, _jit_compiled_convolution_op, _jit_compiled_convolution_op while saving (showing 4 of 4). These functions will not be directly callable after loading.\n"
          ]
        },
        {
          "name": "stdout",
          "output_type": "stream",
          "text": [
            "278/278 [==============================] - 71s 173ms/step - loss: 0.1471 - binary_accuracy: 0.9405 - val_loss: 0.1460 - val_binary_accuracy: 0.9425\n",
            "Loss improved. Saving model.\n"
          ]
        },
        {
          "name": "stderr",
          "output_type": "stream",
          "text": [
            "WARNING:absl:Found untraced functions such as _jit_compiled_convolution_op, _jit_compiled_convolution_op, _jit_compiled_convolution_op, _jit_compiled_convolution_op while saving (showing 4 of 4). These functions will not be directly callable after loading.\n"
          ]
        },
        {
          "name": "stdout",
          "output_type": "stream",
          "text": [
            "278/278 [==============================] - 67s 176ms/step - loss: 0.1366 - binary_accuracy: 0.9447 - val_loss: 0.1396 - val_binary_accuracy: 0.9441\n",
            "Loss improved. Saving model.\n"
          ]
        },
        {
          "name": "stderr",
          "output_type": "stream",
          "text": [
            "WARNING:absl:Found untraced functions such as _jit_compiled_convolution_op, _jit_compiled_convolution_op, _jit_compiled_convolution_op, _jit_compiled_convolution_op while saving (showing 4 of 4). These functions will not be directly callable after loading.\n"
          ]
        },
        {
          "name": "stdout",
          "output_type": "stream",
          "text": [
            "278/278 [==============================] - 66s 174ms/step - loss: 0.1286 - binary_accuracy: 0.9479 - val_loss: 0.1428 - val_binary_accuracy: 0.9405\n",
            "278/278 [==============================] - 60s 173ms/step - loss: 0.1235 - binary_accuracy: 0.9493 - val_loss: 0.1330 - val_binary_accuracy: 0.9473\n",
            "Loss improved. Saving model.\n"
          ]
        },
        {
          "name": "stderr",
          "output_type": "stream",
          "text": [
            "WARNING:absl:Found untraced functions such as _jit_compiled_convolution_op, _jit_compiled_convolution_op, _jit_compiled_convolution_op, _jit_compiled_convolution_op while saving (showing 4 of 4). These functions will not be directly callable after loading.\n"
          ]
        },
        {
          "name": "stdout",
          "output_type": "stream",
          "text": [
            "278/278 [==============================] - 64s 173ms/step - loss: 0.1171 - binary_accuracy: 0.9522 - val_loss: 0.1418 - val_binary_accuracy: 0.9424\n",
            "278/278 [==============================] - 64s 171ms/step - loss: 0.1098 - binary_accuracy: 0.9551 - val_loss: 0.1487 - val_binary_accuracy: 0.9426\n",
            "278/278 [==============================] - 64s 174ms/step - loss: 0.1037 - binary_accuracy: 0.9575 - val_loss: 0.1305 - val_binary_accuracy: 0.9478\n",
            "Loss improved. Saving model.\n"
          ]
        },
        {
          "name": "stderr",
          "output_type": "stream",
          "text": [
            "WARNING:absl:Found untraced functions such as _jit_compiled_convolution_op, _jit_compiled_convolution_op, _jit_compiled_convolution_op, _jit_compiled_convolution_op while saving (showing 4 of 4). These functions will not be directly callable after loading.\n"
          ]
        },
        {
          "name": "stdout",
          "output_type": "stream",
          "text": [
            "278/278 [==============================] - 62s 173ms/step - loss: 0.0977 - binary_accuracy: 0.9601 - val_loss: 0.1389 - val_binary_accuracy: 0.9427\n",
            "278/278 [==============================] - 62s 175ms/step - loss: 0.0901 - binary_accuracy: 0.9634 - val_loss: 0.1374 - val_binary_accuracy: 0.9470\n",
            "278/278 [==============================] - 67s 176ms/step - loss: 0.0831 - binary_accuracy: 0.9663 - val_loss: 0.1478 - val_binary_accuracy: 0.9426\n",
            "278/278 [==============================] - 63s 173ms/step - loss: 0.0752 - binary_accuracy: 0.9694 - val_loss: 0.1437 - val_binary_accuracy: 0.9465\n",
            "278/278 [==============================] - 64s 173ms/step - loss: 0.0680 - binary_accuracy: 0.9728 - val_loss: 0.1429 - val_binary_accuracy: 0.9478\n",
            "278/278 [==============================] - 64s 176ms/step - loss: 0.0610 - binary_accuracy: 0.9758 - val_loss: 0.1510 - val_binary_accuracy: 0.9454\n",
            "278/278 [==============================] - 67s 177ms/step - loss: 0.0550 - binary_accuracy: 0.9782 - val_loss: 0.1603 - val_binary_accuracy: 0.9461\n",
            "278/278 [==============================] - 66s 177ms/step - loss: 0.0485 - binary_accuracy: 0.9810 - val_loss: 0.1688 - val_binary_accuracy: 0.9454\n",
            "278/278 [==============================] - 62s 177ms/step - loss: 0.0429 - binary_accuracy: 0.9834 - val_loss: 0.1709 - val_binary_accuracy: 0.9419\n",
            "278/278 [==============================] - 61s 175ms/step - loss: 0.0384 - binary_accuracy: 0.9852 - val_loss: 0.1927 - val_binary_accuracy: 0.9460\n",
            "Early stopping\n"
          ]
        },
        {
          "name": "stderr",
          "output_type": "stream",
          "text": [
            "WARNING:tensorflow:TPU system grpc://10.27.56.234:8470 has already been initialized. Reinitializing the TPU can cause previously created variables on TPU to be lost.\n"
          ]
        },
        {
          "name": "stdout",
          "output_type": "stream",
          "text": [
            "Running on TPU  grpc://10.27.56.234:8470\n",
            "REPLICAS:  8\n",
            "cavanagh FOLD 2\n",
            "Loading model from gs://tomasmuzas-phd-datasets/SDSS/models/128x128/initial_models/cavanagh\n",
            "Model: \"Cavanagh\"\n",
            "_________________________________________________________________\n",
            " Layer (type)                Output Shape              Param #   \n",
            "=================================================================\n",
            " conv2d (Conv2D)             (None, 122, 122, 32)      4736      \n",
            "                                                                 \n",
            " batch_normalization (BatchN  (None, 122, 122, 32)     128       \n",
            " ormalization)                                                   \n",
            "                                                                 \n",
            " max_pooling2d (MaxPooling2D  (None, 61, 61, 32)       0         \n",
            " )                                                               \n",
            "                                                                 \n",
            " conv2d_1 (Conv2D)           (None, 57, 57, 64)        51264     \n",
            "                                                                 \n",
            " conv2d_2 (Conv2D)           (None, 53, 53, 64)        102464    \n",
            "                                                                 \n",
            " batch_normalization_1 (Batc  (None, 53, 53, 64)       256       \n",
            " hNormalization)                                                 \n",
            "                                                                 \n",
            " max_pooling2d_1 (MaxPooling  (None, 26, 26, 64)       0         \n",
            " 2D)                                                             \n",
            "                                                                 \n",
            " conv2d_3 (Conv2D)           (None, 24, 24, 128)       73856     \n",
            "                                                                 \n",
            " batch_normalization_2 (Batc  (None, 24, 24, 128)      512       \n",
            " hNormalization)                                                 \n",
            "                                                                 \n",
            " max_pooling2d_2 (MaxPooling  (None, 12, 12, 128)      0         \n",
            " 2D)                                                             \n",
            "                                                                 \n",
            " flatten (Flatten)           (None, 18432)             0         \n",
            "                                                                 \n",
            " dropout (Dropout)           (None, 18432)             0         \n",
            "                                                                 \n",
            " dense (Dense)               (None, 256)               4718848   \n",
            "                                                                 \n",
            " dense_1 (Dense)             (None, 256)               65792     \n",
            "                                                                 \n",
            " dense_2 (Dense)             (None, 1)                 257       \n",
            "                                                                 \n",
            "=================================================================\n",
            "Total params: 5,018,113\n",
            "Trainable params: 5,017,665\n",
            "Non-trainable params: 448\n",
            "_________________________________________________________________\n",
            "278/278 [==============================] - 78s 183ms/step - loss: 0.2293 - binary_accuracy: 0.9071 - val_loss: 2.3537 - val_binary_accuracy: 0.2887\n",
            "278/278 [==============================] - 62s 173ms/step - loss: 0.1622 - binary_accuracy: 0.9352 - val_loss: 0.3315 - val_binary_accuracy: 0.8701\n",
            "Loss improved. Saving model.\n"
          ]
        },
        {
          "name": "stderr",
          "output_type": "stream",
          "text": [
            "WARNING:absl:Found untraced functions such as _jit_compiled_convolution_op, _jit_compiled_convolution_op, _jit_compiled_convolution_op, _jit_compiled_convolution_op while saving (showing 4 of 4). These functions will not be directly callable after loading.\n"
          ]
        },
        {
          "name": "stdout",
          "output_type": "stream",
          "text": [
            "278/278 [==============================] - 78s 174ms/step - loss: 0.1465 - binary_accuracy: 0.9405 - val_loss: 0.1410 - val_binary_accuracy: 0.9428\n",
            "Loss improved. Saving model.\n"
          ]
        },
        {
          "name": "stderr",
          "output_type": "stream",
          "text": [
            "WARNING:absl:Found untraced functions such as _jit_compiled_convolution_op, _jit_compiled_convolution_op, _jit_compiled_convolution_op, _jit_compiled_convolution_op while saving (showing 4 of 4). These functions will not be directly callable after loading.\n"
          ]
        },
        {
          "name": "stdout",
          "output_type": "stream",
          "text": [
            "278/278 [==============================] - 60s 176ms/step - loss: 0.1358 - binary_accuracy: 0.9451 - val_loss: 0.1383 - val_binary_accuracy: 0.9439\n",
            "Loss improved. Saving model.\n"
          ]
        },
        {
          "name": "stderr",
          "output_type": "stream",
          "text": [
            "WARNING:absl:Found untraced functions such as _jit_compiled_convolution_op, _jit_compiled_convolution_op, _jit_compiled_convolution_op, _jit_compiled_convolution_op while saving (showing 4 of 4). These functions will not be directly callable after loading.\n"
          ]
        },
        {
          "name": "stdout",
          "output_type": "stream",
          "text": [
            "278/278 [==============================] - 62s 174ms/step - loss: 0.1285 - binary_accuracy: 0.9481 - val_loss: 0.1299 - val_binary_accuracy: 0.9461\n",
            "Loss improved. Saving model.\n"
          ]
        },
        {
          "name": "stderr",
          "output_type": "stream",
          "text": [
            "WARNING:absl:Found untraced functions such as _jit_compiled_convolution_op, _jit_compiled_convolution_op, _jit_compiled_convolution_op, _jit_compiled_convolution_op while saving (showing 4 of 4). These functions will not be directly callable after loading.\n"
          ]
        },
        {
          "name": "stdout",
          "output_type": "stream",
          "text": [
            "278/278 [==============================] - 63s 174ms/step - loss: 0.1217 - binary_accuracy: 0.9503 - val_loss: 0.1317 - val_binary_accuracy: 0.9459\n",
            "278/278 [==============================] - 63s 173ms/step - loss: 0.1162 - binary_accuracy: 0.9523 - val_loss: 0.1281 - val_binary_accuracy: 0.9469\n",
            "Loss improved. Saving model.\n"
          ]
        },
        {
          "name": "stderr",
          "output_type": "stream",
          "text": [
            "WARNING:absl:Found untraced functions such as _jit_compiled_convolution_op, _jit_compiled_convolution_op, _jit_compiled_convolution_op, _jit_compiled_convolution_op while saving (showing 4 of 4). These functions will not be directly callable after loading.\n"
          ]
        },
        {
          "name": "stdout",
          "output_type": "stream",
          "text": [
            "278/278 [==============================] - 66s 175ms/step - loss: 0.1098 - binary_accuracy: 0.9551 - val_loss: 0.1309 - val_binary_accuracy: 0.9457\n",
            "278/278 [==============================] - 66s 175ms/step - loss: 0.1036 - binary_accuracy: 0.9579 - val_loss: 0.1318 - val_binary_accuracy: 0.9461\n",
            "278/278 [==============================] - 62s 174ms/step - loss: 0.0966 - binary_accuracy: 0.9606 - val_loss: 0.1391 - val_binary_accuracy: 0.9441\n",
            "278/278 [==============================] - 61s 174ms/step - loss: 0.0899 - binary_accuracy: 0.9634 - val_loss: 0.1351 - val_binary_accuracy: 0.9451\n",
            "278/278 [==============================] - 63s 173ms/step - loss: 0.0832 - binary_accuracy: 0.9663 - val_loss: 0.1631 - val_binary_accuracy: 0.9388\n",
            "278/278 [==============================] - 63s 173ms/step - loss: 0.0762 - binary_accuracy: 0.9692 - val_loss: 0.1318 - val_binary_accuracy: 0.9490\n",
            "278/278 [==============================] - 64s 176ms/step - loss: 0.0679 - binary_accuracy: 0.9726 - val_loss: 0.1412 - val_binary_accuracy: 0.9448\n",
            "278/278 [==============================] - 67s 182ms/step - loss: 0.0601 - binary_accuracy: 0.9761 - val_loss: 0.1488 - val_binary_accuracy: 0.9464\n",
            "278/278 [==============================] - 61s 175ms/step - loss: 0.0544 - binary_accuracy: 0.9788 - val_loss: 0.1819 - val_binary_accuracy: 0.9387\n",
            "278/278 [==============================] - 64s 179ms/step - loss: 0.0487 - binary_accuracy: 0.9812 - val_loss: 0.1703 - val_binary_accuracy: 0.9390\n",
            "Early stopping\n"
          ]
        },
        {
          "name": "stderr",
          "output_type": "stream",
          "text": [
            "WARNING:tensorflow:TPU system grpc://10.27.56.234:8470 has already been initialized. Reinitializing the TPU can cause previously created variables on TPU to be lost.\n"
          ]
        },
        {
          "name": "stdout",
          "output_type": "stream",
          "text": [
            "Running on TPU  grpc://10.27.56.234:8470\n",
            "REPLICAS:  8\n",
            "cavanagh FOLD 3\n",
            "Loading model from gs://tomasmuzas-phd-datasets/SDSS/models/128x128/initial_models/cavanagh\n",
            "Model: \"Cavanagh\"\n",
            "_________________________________________________________________\n",
            " Layer (type)                Output Shape              Param #   \n",
            "=================================================================\n",
            " conv2d (Conv2D)             (None, 122, 122, 32)      4736      \n",
            "                                                                 \n",
            " batch_normalization (BatchN  (None, 122, 122, 32)     128       \n",
            " ormalization)                                                   \n",
            "                                                                 \n",
            " max_pooling2d (MaxPooling2D  (None, 61, 61, 32)       0         \n",
            " )                                                               \n",
            "                                                                 \n",
            " conv2d_1 (Conv2D)           (None, 57, 57, 64)        51264     \n",
            "                                                                 \n",
            " conv2d_2 (Conv2D)           (None, 53, 53, 64)        102464    \n",
            "                                                                 \n",
            " batch_normalization_1 (Batc  (None, 53, 53, 64)       256       \n",
            " hNormalization)                                                 \n",
            "                                                                 \n",
            " max_pooling2d_1 (MaxPooling  (None, 26, 26, 64)       0         \n",
            " 2D)                                                             \n",
            "                                                                 \n",
            " conv2d_3 (Conv2D)           (None, 24, 24, 128)       73856     \n",
            "                                                                 \n",
            " batch_normalization_2 (Batc  (None, 24, 24, 128)      512       \n",
            " hNormalization)                                                 \n",
            "                                                                 \n",
            " max_pooling2d_2 (MaxPooling  (None, 12, 12, 128)      0         \n",
            " 2D)                                                             \n",
            "                                                                 \n",
            " flatten (Flatten)           (None, 18432)             0         \n",
            "                                                                 \n",
            " dropout (Dropout)           (None, 18432)             0         \n",
            "                                                                 \n",
            " dense (Dense)               (None, 256)               4718848   \n",
            "                                                                 \n",
            " dense_1 (Dense)             (None, 256)               65792     \n",
            "                                                                 \n",
            " dense_2 (Dense)             (None, 1)                 257       \n",
            "                                                                 \n",
            "=================================================================\n",
            "Total params: 5,018,113\n",
            "Trainable params: 5,017,665\n",
            "Non-trainable params: 448\n",
            "_________________________________________________________________\n",
            "278/278 [==============================] - 77s 191ms/step - loss: 0.2299 - binary_accuracy: 0.9067 - val_loss: 1.7062 - val_binary_accuracy: 0.2886\n",
            "278/278 [==============================] - 63s 176ms/step - loss: 0.1644 - binary_accuracy: 0.9338 - val_loss: 0.2385 - val_binary_accuracy: 0.9003\n",
            "Loss improved. Saving model.\n"
          ]
        },
        {
          "name": "stderr",
          "output_type": "stream",
          "text": [
            "WARNING:absl:Found untraced functions such as _jit_compiled_convolution_op, _jit_compiled_convolution_op, _jit_compiled_convolution_op, _jit_compiled_convolution_op while saving (showing 4 of 4). These functions will not be directly callable after loading.\n"
          ]
        },
        {
          "name": "stdout",
          "output_type": "stream",
          "text": [
            "278/278 [==============================] - 65s 180ms/step - loss: 0.1463 - binary_accuracy: 0.9408 - val_loss: 0.1448 - val_binary_accuracy: 0.9419\n",
            "Loss improved. Saving model.\n"
          ]
        },
        {
          "name": "stderr",
          "output_type": "stream",
          "text": [
            "WARNING:absl:Found untraced functions such as _jit_compiled_convolution_op, _jit_compiled_convolution_op, _jit_compiled_convolution_op, _jit_compiled_convolution_op while saving (showing 4 of 4). These functions will not be directly callable after loading.\n"
          ]
        },
        {
          "name": "stdout",
          "output_type": "stream",
          "text": [
            "278/278 [==============================] - 63s 174ms/step - loss: 0.1370 - binary_accuracy: 0.9442 - val_loss: 0.1368 - val_binary_accuracy: 0.9445\n",
            "Loss improved. Saving model.\n"
          ]
        },
        {
          "name": "stderr",
          "output_type": "stream",
          "text": [
            "WARNING:absl:Found untraced functions such as _jit_compiled_convolution_op, _jit_compiled_convolution_op, _jit_compiled_convolution_op, _jit_compiled_convolution_op while saving (showing 4 of 4). These functions will not be directly callable after loading.\n"
          ]
        },
        {
          "name": "stdout",
          "output_type": "stream",
          "text": [
            "278/278 [==============================] - 63s 174ms/step - loss: 0.1288 - binary_accuracy: 0.9477 - val_loss: 0.1391 - val_binary_accuracy: 0.9437\n",
            "278/278 [==============================] - 63s 174ms/step - loss: 0.1230 - binary_accuracy: 0.9500 - val_loss: 0.1362 - val_binary_accuracy: 0.9445\n",
            "Loss improved. Saving model.\n"
          ]
        },
        {
          "name": "stderr",
          "output_type": "stream",
          "text": [
            "WARNING:absl:Found untraced functions such as _jit_compiled_convolution_op, _jit_compiled_convolution_op, _jit_compiled_convolution_op, _jit_compiled_convolution_op while saving (showing 4 of 4). These functions will not be directly callable after loading.\n"
          ]
        },
        {
          "name": "stdout",
          "output_type": "stream",
          "text": [
            "278/278 [==============================] - 61s 173ms/step - loss: 0.1171 - binary_accuracy: 0.9522 - val_loss: 0.1348 - val_binary_accuracy: 0.9451\n",
            "Loss improved. Saving model.\n"
          ]
        },
        {
          "name": "stderr",
          "output_type": "stream",
          "text": [
            "WARNING:absl:Found untraced functions such as _jit_compiled_convolution_op, _jit_compiled_convolution_op, _jit_compiled_convolution_op, _jit_compiled_convolution_op while saving (showing 4 of 4). These functions will not be directly callable after loading.\n"
          ]
        },
        {
          "name": "stdout",
          "output_type": "stream",
          "text": [
            "278/278 [==============================] - 62s 175ms/step - loss: 0.1103 - binary_accuracy: 0.9549 - val_loss: 0.1351 - val_binary_accuracy: 0.9450\n",
            "278/278 [==============================] - 63s 179ms/step - loss: 0.1047 - binary_accuracy: 0.9575 - val_loss: 0.1403 - val_binary_accuracy: 0.9446\n",
            "278/278 [==============================] - 61s 174ms/step - loss: 0.0976 - binary_accuracy: 0.9601 - val_loss: 0.1647 - val_binary_accuracy: 0.9379\n",
            "278/278 [==============================] - 64s 174ms/step - loss: 0.0917 - binary_accuracy: 0.9626 - val_loss: 0.1469 - val_binary_accuracy: 0.9406\n",
            "278/278 [==============================] - 62s 174ms/step - loss: 0.0835 - binary_accuracy: 0.9661 - val_loss: 0.1370 - val_binary_accuracy: 0.9470\n",
            "278/278 [==============================] - 64s 173ms/step - loss: 0.0765 - binary_accuracy: 0.9689 - val_loss: 0.1816 - val_binary_accuracy: 0.9367\n",
            "278/278 [==============================] - 64s 174ms/step - loss: 0.0697 - binary_accuracy: 0.9720 - val_loss: 0.1433 - val_binary_accuracy: 0.9444\n",
            "278/278 [==============================] - 64s 173ms/step - loss: 0.0623 - binary_accuracy: 0.9750 - val_loss: 0.1608 - val_binary_accuracy: 0.9423\n",
            "278/278 [==============================] - 64s 174ms/step - loss: 0.0555 - binary_accuracy: 0.9783 - val_loss: 0.1658 - val_binary_accuracy: 0.9405\n",
            "278/278 [==============================] - 61s 171ms/step - loss: 0.0502 - binary_accuracy: 0.9803 - val_loss: 0.1629 - val_binary_accuracy: 0.9422\n",
            "Early stopping\n"
          ]
        },
        {
          "name": "stderr",
          "output_type": "stream",
          "text": [
            "WARNING:tensorflow:TPU system grpc://10.27.56.234:8470 has already been initialized. Reinitializing the TPU can cause previously created variables on TPU to be lost.\n"
          ]
        },
        {
          "name": "stdout",
          "output_type": "stream",
          "text": [
            "Running on TPU  grpc://10.27.56.234:8470\n",
            "REPLICAS:  8\n",
            "cavanagh FOLD 4\n",
            "Loading model from gs://tomasmuzas-phd-datasets/SDSS/models/128x128/initial_models/cavanagh\n",
            "Model: \"Cavanagh\"\n",
            "_________________________________________________________________\n",
            " Layer (type)                Output Shape              Param #   \n",
            "=================================================================\n",
            " conv2d (Conv2D)             (None, 122, 122, 32)      4736      \n",
            "                                                                 \n",
            " batch_normalization (BatchN  (None, 122, 122, 32)     128       \n",
            " ormalization)                                                   \n",
            "                                                                 \n",
            " max_pooling2d (MaxPooling2D  (None, 61, 61, 32)       0         \n",
            " )                                                               \n",
            "                                                                 \n",
            " conv2d_1 (Conv2D)           (None, 57, 57, 64)        51264     \n",
            "                                                                 \n",
            " conv2d_2 (Conv2D)           (None, 53, 53, 64)        102464    \n",
            "                                                                 \n",
            " batch_normalization_1 (Batc  (None, 53, 53, 64)       256       \n",
            " hNormalization)                                                 \n",
            "                                                                 \n",
            " max_pooling2d_1 (MaxPooling  (None, 26, 26, 64)       0         \n",
            " 2D)                                                             \n",
            "                                                                 \n",
            " conv2d_3 (Conv2D)           (None, 24, 24, 128)       73856     \n",
            "                                                                 \n",
            " batch_normalization_2 (Batc  (None, 24, 24, 128)      512       \n",
            " hNormalization)                                                 \n",
            "                                                                 \n",
            " max_pooling2d_2 (MaxPooling  (None, 12, 12, 128)      0         \n",
            " 2D)                                                             \n",
            "                                                                 \n",
            " flatten (Flatten)           (None, 18432)             0         \n",
            "                                                                 \n",
            " dropout (Dropout)           (None, 18432)             0         \n",
            "                                                                 \n",
            " dense (Dense)               (None, 256)               4718848   \n",
            "                                                                 \n",
            " dense_1 (Dense)             (None, 256)               65792     \n",
            "                                                                 \n",
            " dense_2 (Dense)             (None, 1)                 257       \n",
            "                                                                 \n",
            "=================================================================\n",
            "Total params: 5,018,113\n",
            "Trainable params: 5,017,665\n",
            "Non-trainable params: 448\n",
            "_________________________________________________________________\n",
            "278/278 [==============================] - 75s 183ms/step - loss: 0.2318 - binary_accuracy: 0.9062 - val_loss: 1.9010 - val_binary_accuracy: 0.2885\n",
            "278/278 [==============================] - 60s 172ms/step - loss: 0.1611 - binary_accuracy: 0.9350 - val_loss: 0.2638 - val_binary_accuracy: 0.8916\n",
            "Loss improved. Saving model.\n"
          ]
        },
        {
          "name": "stderr",
          "output_type": "stream",
          "text": [
            "WARNING:absl:Found untraced functions such as _jit_compiled_convolution_op, _jit_compiled_convolution_op, _jit_compiled_convolution_op, _jit_compiled_convolution_op while saving (showing 4 of 4). These functions will not be directly callable after loading.\n"
          ]
        },
        {
          "name": "stdout",
          "output_type": "stream",
          "text": [
            "278/278 [==============================] - 61s 173ms/step - loss: 0.1456 - binary_accuracy: 0.9412 - val_loss: 0.1506 - val_binary_accuracy: 0.9386\n",
            "Loss improved. Saving model.\n"
          ]
        },
        {
          "name": "stderr",
          "output_type": "stream",
          "text": [
            "WARNING:absl:Found untraced functions such as _jit_compiled_convolution_op, _jit_compiled_convolution_op, _jit_compiled_convolution_op, _jit_compiled_convolution_op while saving (showing 4 of 4). These functions will not be directly callable after loading.\n"
          ]
        },
        {
          "name": "stdout",
          "output_type": "stream",
          "text": [
            "278/278 [==============================] - 60s 173ms/step - loss: 0.1355 - binary_accuracy: 0.9455 - val_loss: 0.1451 - val_binary_accuracy: 0.9420\n",
            "Loss improved. Saving model.\n"
          ]
        },
        {
          "name": "stderr",
          "output_type": "stream",
          "text": [
            "WARNING:absl:Found untraced functions such as _jit_compiled_convolution_op, _jit_compiled_convolution_op, _jit_compiled_convolution_op, _jit_compiled_convolution_op while saving (showing 4 of 4). These functions will not be directly callable after loading.\n"
          ]
        },
        {
          "name": "stdout",
          "output_type": "stream",
          "text": [
            "278/278 [==============================] - 62s 172ms/step - loss: 0.1292 - binary_accuracy: 0.9477 - val_loss: 0.1492 - val_binary_accuracy: 0.9395\n",
            "278/278 [==============================] - 62s 172ms/step - loss: 0.1219 - binary_accuracy: 0.9501 - val_loss: 0.1456 - val_binary_accuracy: 0.9414\n",
            "278/278 [==============================] - 62s 172ms/step - loss: 0.1161 - binary_accuracy: 0.9528 - val_loss: 0.1352 - val_binary_accuracy: 0.9459\n",
            "Loss improved. Saving model.\n"
          ]
        },
        {
          "name": "stderr",
          "output_type": "stream",
          "text": [
            "WARNING:absl:Found untraced functions such as _jit_compiled_convolution_op, _jit_compiled_convolution_op, _jit_compiled_convolution_op, _jit_compiled_convolution_op while saving (showing 4 of 4). These functions will not be directly callable after loading.\n"
          ]
        },
        {
          "name": "stdout",
          "output_type": "stream",
          "text": [
            "278/278 [==============================] - 62s 179ms/step - loss: 0.1106 - binary_accuracy: 0.9545 - val_loss: 0.1616 - val_binary_accuracy: 0.9362\n",
            "278/278 [==============================] - 65s 178ms/step - loss: 0.1040 - binary_accuracy: 0.9574 - val_loss: 0.1369 - val_binary_accuracy: 0.9436\n",
            "278/278 [==============================] - 66s 184ms/step - loss: 0.0974 - binary_accuracy: 0.9597 - val_loss: 0.1422 - val_binary_accuracy: 0.9451\n",
            "278/278 [==============================] - 61s 178ms/step - loss: 0.0897 - binary_accuracy: 0.9634 - val_loss: 0.1423 - val_binary_accuracy: 0.9457\n",
            "278/278 [==============================] - 69s 188ms/step - loss: 0.0845 - binary_accuracy: 0.9654 - val_loss: 0.1431 - val_binary_accuracy: 0.9460\n",
            "278/278 [==============================] - 66s 189ms/step - loss: 0.0765 - binary_accuracy: 0.9688 - val_loss: 0.1474 - val_binary_accuracy: 0.9455\n",
            "278/278 [==============================] - 70s 196ms/step - loss: 0.0689 - binary_accuracy: 0.9721 - val_loss: 0.1653 - val_binary_accuracy: 0.9377\n",
            "278/278 [==============================] - 71s 199ms/step - loss: 0.0622 - binary_accuracy: 0.9748 - val_loss: 0.1600 - val_binary_accuracy: 0.9448\n",
            "278/278 [==============================] - 71s 196ms/step - loss: 0.0548 - binary_accuracy: 0.9786 - val_loss: 0.1616 - val_binary_accuracy: 0.9407\n",
            "278/278 [==============================] - 67s 194ms/step - loss: 0.0492 - binary_accuracy: 0.9808 - val_loss: 0.1715 - val_binary_accuracy: 0.9447\n",
            "Early stopping\n"
          ]
        },
        {
          "name": "stderr",
          "output_type": "stream",
          "text": [
            "WARNING:tensorflow:TPU system grpc://10.27.56.234:8470 has already been initialized. Reinitializing the TPU can cause previously created variables on TPU to be lost.\n"
          ]
        },
        {
          "name": "stdout",
          "output_type": "stream",
          "text": [
            "Running on TPU  grpc://10.27.56.234:8470\n",
            "REPLICAS:  8\n",
            "cavanagh FOLD 5\n",
            "Loading model from gs://tomasmuzas-phd-datasets/SDSS/models/128x128/initial_models/cavanagh\n",
            "Model: \"Cavanagh\"\n",
            "_________________________________________________________________\n",
            " Layer (type)                Output Shape              Param #   \n",
            "=================================================================\n",
            " conv2d (Conv2D)             (None, 122, 122, 32)      4736      \n",
            "                                                                 \n",
            " batch_normalization (BatchN  (None, 122, 122, 32)     128       \n",
            " ormalization)                                                   \n",
            "                                                                 \n",
            " max_pooling2d (MaxPooling2D  (None, 61, 61, 32)       0         \n",
            " )                                                               \n",
            "                                                                 \n",
            " conv2d_1 (Conv2D)           (None, 57, 57, 64)        51264     \n",
            "                                                                 \n",
            " conv2d_2 (Conv2D)           (None, 53, 53, 64)        102464    \n",
            "                                                                 \n",
            " batch_normalization_1 (Batc  (None, 53, 53, 64)       256       \n",
            " hNormalization)                                                 \n",
            "                                                                 \n",
            " max_pooling2d_1 (MaxPooling  (None, 26, 26, 64)       0         \n",
            " 2D)                                                             \n",
            "                                                                 \n",
            " conv2d_3 (Conv2D)           (None, 24, 24, 128)       73856     \n",
            "                                                                 \n",
            " batch_normalization_2 (Batc  (None, 24, 24, 128)      512       \n",
            " hNormalization)                                                 \n",
            "                                                                 \n",
            " max_pooling2d_2 (MaxPooling  (None, 12, 12, 128)      0         \n",
            " 2D)                                                             \n",
            "                                                                 \n",
            " flatten (Flatten)           (None, 18432)             0         \n",
            "                                                                 \n",
            " dropout (Dropout)           (None, 18432)             0         \n",
            "                                                                 \n",
            " dense (Dense)               (None, 256)               4718848   \n",
            "                                                                 \n",
            " dense_1 (Dense)             (None, 256)               65792     \n",
            "                                                                 \n",
            " dense_2 (Dense)             (None, 1)                 257       \n",
            "                                                                 \n",
            "=================================================================\n",
            "Total params: 5,018,113\n",
            "Trainable params: 5,017,665\n",
            "Non-trainable params: 448\n",
            "_________________________________________________________________\n",
            "278/278 [==============================] - 76s 187ms/step - loss: 0.2265 - binary_accuracy: 0.9079 - val_loss: 1.7325 - val_binary_accuracy: 0.2886\n",
            "278/278 [==============================] - 63s 178ms/step - loss: 0.1617 - binary_accuracy: 0.9349 - val_loss: 0.2084 - val_binary_accuracy: 0.9174\n",
            "Loss improved. Saving model.\n"
          ]
        },
        {
          "name": "stderr",
          "output_type": "stream",
          "text": [
            "WARNING:absl:Found untraced functions such as _jit_compiled_convolution_op, _jit_compiled_convolution_op, _jit_compiled_convolution_op, _jit_compiled_convolution_op while saving (showing 4 of 4). These functions will not be directly callable after loading.\n"
          ]
        },
        {
          "name": "stdout",
          "output_type": "stream",
          "text": [
            "278/278 [==============================] - 65s 176ms/step - loss: 0.1456 - binary_accuracy: 0.9410 - val_loss: 0.1641 - val_binary_accuracy: 0.9330\n",
            "Loss improved. Saving model.\n"
          ]
        },
        {
          "name": "stderr",
          "output_type": "stream",
          "text": [
            "WARNING:absl:Found untraced functions such as _jit_compiled_convolution_op, _jit_compiled_convolution_op, _jit_compiled_convolution_op, _jit_compiled_convolution_op while saving (showing 4 of 4). These functions will not be directly callable after loading.\n"
          ]
        },
        {
          "name": "stdout",
          "output_type": "stream",
          "text": [
            "278/278 [==============================] - 63s 175ms/step - loss: 0.1358 - binary_accuracy: 0.9450 - val_loss: 0.1440 - val_binary_accuracy: 0.9432\n",
            "Loss improved. Saving model.\n"
          ]
        },
        {
          "name": "stderr",
          "output_type": "stream",
          "text": [
            "WARNING:absl:Found untraced functions such as _jit_compiled_convolution_op, _jit_compiled_convolution_op, _jit_compiled_convolution_op, _jit_compiled_convolution_op while saving (showing 4 of 4). These functions will not be directly callable after loading.\n"
          ]
        },
        {
          "name": "stdout",
          "output_type": "stream",
          "text": [
            "278/278 [==============================] - 63s 176ms/step - loss: 0.1281 - binary_accuracy: 0.9476 - val_loss: 0.1363 - val_binary_accuracy: 0.9445\n",
            "Loss improved. Saving model.\n"
          ]
        },
        {
          "name": "stderr",
          "output_type": "stream",
          "text": [
            "WARNING:absl:Found untraced functions such as _jit_compiled_convolution_op, _jit_compiled_convolution_op, _jit_compiled_convolution_op, _jit_compiled_convolution_op while saving (showing 4 of 4). These functions will not be directly callable after loading.\n"
          ]
        },
        {
          "name": "stdout",
          "output_type": "stream",
          "text": [
            "278/278 [==============================] - 65s 175ms/step - loss: 0.1215 - binary_accuracy: 0.9505 - val_loss: 0.1333 - val_binary_accuracy: 0.9461\n",
            "Loss improved. Saving model.\n"
          ]
        },
        {
          "name": "stderr",
          "output_type": "stream",
          "text": [
            "WARNING:absl:Found untraced functions such as _jit_compiled_convolution_op, _jit_compiled_convolution_op, _jit_compiled_convolution_op, _jit_compiled_convolution_op while saving (showing 4 of 4). These functions will not be directly callable after loading.\n"
          ]
        },
        {
          "name": "stdout",
          "output_type": "stream",
          "text": [
            "278/278 [==============================] - 64s 175ms/step - loss: 0.1163 - binary_accuracy: 0.9525 - val_loss: 0.1398 - val_binary_accuracy: 0.9443\n",
            "278/278 [==============================] - 62s 174ms/step - loss: 0.1084 - binary_accuracy: 0.9558 - val_loss: 0.1387 - val_binary_accuracy: 0.9447\n",
            "278/278 [==============================] - 62s 174ms/step - loss: 0.1035 - binary_accuracy: 0.9579 - val_loss: 0.1358 - val_binary_accuracy: 0.9458\n",
            "278/278 [==============================] - 62s 175ms/step - loss: 0.0961 - binary_accuracy: 0.9604 - val_loss: 0.1335 - val_binary_accuracy: 0.9471\n",
            "278/278 [==============================] - 64s 175ms/step - loss: 0.0890 - binary_accuracy: 0.9639 - val_loss: 0.1349 - val_binary_accuracy: 0.9479\n",
            "278/278 [==============================] - 65s 178ms/step - loss: 0.0829 - binary_accuracy: 0.9662 - val_loss: 0.1490 - val_binary_accuracy: 0.9445\n",
            "278/278 [==============================] - 63s 177ms/step - loss: 0.0747 - binary_accuracy: 0.9698 - val_loss: 0.1395 - val_binary_accuracy: 0.9471\n",
            "278/278 [==============================] - 62s 178ms/step - loss: 0.0667 - binary_accuracy: 0.9731 - val_loss: 0.1536 - val_binary_accuracy: 0.9417\n",
            "278/278 [==============================] - 61s 175ms/step - loss: 0.0597 - binary_accuracy: 0.9765 - val_loss: 0.1725 - val_binary_accuracy: 0.9425\n",
            "278/278 [==============================] - 65s 174ms/step - loss: 0.0540 - binary_accuracy: 0.9787 - val_loss: 0.1613 - val_binary_accuracy: 0.9470\n",
            "Early stopping\n"
          ]
        },
        {
          "name": "stderr",
          "output_type": "stream",
          "text": [
            "WARNING:tensorflow:TPU system grpc://10.27.56.234:8470 has already been initialized. Reinitializing the TPU can cause previously created variables on TPU to be lost.\n"
          ]
        },
        {
          "name": "stdout",
          "output_type": "stream",
          "text": [
            "Running on TPU  grpc://10.27.56.234:8470\n",
            "REPLICAS:  8\n",
            "cavanagh FOLD 6\n",
            "Loading model from gs://tomasmuzas-phd-datasets/SDSS/models/128x128/initial_models/cavanagh\n",
            "Model: \"Cavanagh\"\n",
            "_________________________________________________________________\n",
            " Layer (type)                Output Shape              Param #   \n",
            "=================================================================\n",
            " conv2d (Conv2D)             (None, 122, 122, 32)      4736      \n",
            "                                                                 \n",
            " batch_normalization (BatchN  (None, 122, 122, 32)     128       \n",
            " ormalization)                                                   \n",
            "                                                                 \n",
            " max_pooling2d (MaxPooling2D  (None, 61, 61, 32)       0         \n",
            " )                                                               \n",
            "                                                                 \n",
            " conv2d_1 (Conv2D)           (None, 57, 57, 64)        51264     \n",
            "                                                                 \n",
            " conv2d_2 (Conv2D)           (None, 53, 53, 64)        102464    \n",
            "                                                                 \n",
            " batch_normalization_1 (Batc  (None, 53, 53, 64)       256       \n",
            " hNormalization)                                                 \n",
            "                                                                 \n",
            " max_pooling2d_1 (MaxPooling  (None, 26, 26, 64)       0         \n",
            " 2D)                                                             \n",
            "                                                                 \n",
            " conv2d_3 (Conv2D)           (None, 24, 24, 128)       73856     \n",
            "                                                                 \n",
            " batch_normalization_2 (Batc  (None, 24, 24, 128)      512       \n",
            " hNormalization)                                                 \n",
            "                                                                 \n",
            " max_pooling2d_2 (MaxPooling  (None, 12, 12, 128)      0         \n",
            " 2D)                                                             \n",
            "                                                                 \n",
            " flatten (Flatten)           (None, 18432)             0         \n",
            "                                                                 \n",
            " dropout (Dropout)           (None, 18432)             0         \n",
            "                                                                 \n",
            " dense (Dense)               (None, 256)               4718848   \n",
            "                                                                 \n",
            " dense_1 (Dense)             (None, 256)               65792     \n",
            "                                                                 \n",
            " dense_2 (Dense)             (None, 1)                 257       \n",
            "                                                                 \n",
            "=================================================================\n",
            "Total params: 5,018,113\n",
            "Trainable params: 5,017,665\n",
            "Non-trainable params: 448\n",
            "_________________________________________________________________\n",
            "278/278 [==============================] - 73s 186ms/step - loss: 0.2317 - binary_accuracy: 0.9063 - val_loss: 1.6332 - val_binary_accuracy: 0.2886\n",
            "278/278 [==============================] - 63s 176ms/step - loss: 0.1621 - binary_accuracy: 0.9349 - val_loss: 0.2257 - val_binary_accuracy: 0.9038\n",
            "Loss improved. Saving model.\n"
          ]
        },
        {
          "name": "stderr",
          "output_type": "stream",
          "text": [
            "WARNING:absl:Found untraced functions such as _jit_compiled_convolution_op, _jit_compiled_convolution_op, _jit_compiled_convolution_op, _jit_compiled_convolution_op while saving (showing 4 of 4). These functions will not be directly callable after loading.\n"
          ]
        },
        {
          "name": "stdout",
          "output_type": "stream",
          "text": [
            "278/278 [==============================] - 62s 175ms/step - loss: 0.1452 - binary_accuracy: 0.9414 - val_loss: 0.1872 - val_binary_accuracy: 0.9246\n",
            "Loss improved. Saving model.\n"
          ]
        },
        {
          "name": "stderr",
          "output_type": "stream",
          "text": [
            "WARNING:absl:Found untraced functions such as _jit_compiled_convolution_op, _jit_compiled_convolution_op, _jit_compiled_convolution_op, _jit_compiled_convolution_op while saving (showing 4 of 4). These functions will not be directly callable after loading.\n"
          ]
        },
        {
          "name": "stdout",
          "output_type": "stream",
          "text": [
            "278/278 [==============================] - 64s 176ms/step - loss: 0.1360 - binary_accuracy: 0.9446 - val_loss: 0.1325 - val_binary_accuracy: 0.9456\n",
            "Loss improved. Saving model.\n"
          ]
        },
        {
          "name": "stderr",
          "output_type": "stream",
          "text": [
            "WARNING:absl:Found untraced functions such as _jit_compiled_convolution_op, _jit_compiled_convolution_op, _jit_compiled_convolution_op, _jit_compiled_convolution_op while saving (showing 4 of 4). These functions will not be directly callable after loading.\n"
          ]
        },
        {
          "name": "stdout",
          "output_type": "stream",
          "text": [
            "278/278 [==============================] - 62s 177ms/step - loss: 0.1286 - binary_accuracy: 0.9480 - val_loss: 0.1279 - val_binary_accuracy: 0.9478\n",
            "Loss improved. Saving model.\n"
          ]
        },
        {
          "name": "stderr",
          "output_type": "stream",
          "text": [
            "WARNING:absl:Found untraced functions such as _jit_compiled_convolution_op, _jit_compiled_convolution_op, _jit_compiled_convolution_op, _jit_compiled_convolution_op while saving (showing 4 of 4). These functions will not be directly callable after loading.\n"
          ]
        },
        {
          "name": "stdout",
          "output_type": "stream",
          "text": [
            "278/278 [==============================] - 64s 177ms/step - loss: 0.1218 - binary_accuracy: 0.9499 - val_loss: 0.1313 - val_binary_accuracy: 0.9470\n",
            "278/278 [==============================] - 61s 176ms/step - loss: 0.1158 - binary_accuracy: 0.9523 - val_loss: 0.1243 - val_binary_accuracy: 0.9499\n",
            "Loss improved. Saving model.\n"
          ]
        },
        {
          "name": "stderr",
          "output_type": "stream",
          "text": [
            "WARNING:absl:Found untraced functions such as _jit_compiled_convolution_op, _jit_compiled_convolution_op, _jit_compiled_convolution_op, _jit_compiled_convolution_op while saving (showing 4 of 4). These functions will not be directly callable after loading.\n"
          ]
        },
        {
          "name": "stdout",
          "output_type": "stream",
          "text": [
            "278/278 [==============================] - 63s 179ms/step - loss: 0.1099 - binary_accuracy: 0.9548 - val_loss: 0.1230 - val_binary_accuracy: 0.9499\n",
            "Loss improved. Saving model.\n"
          ]
        },
        {
          "name": "stderr",
          "output_type": "stream",
          "text": [
            "WARNING:absl:Found untraced functions such as _jit_compiled_convolution_op, _jit_compiled_convolution_op, _jit_compiled_convolution_op, _jit_compiled_convolution_op while saving (showing 4 of 4). These functions will not be directly callable after loading.\n"
          ]
        },
        {
          "name": "stdout",
          "output_type": "stream",
          "text": [
            "278/278 [==============================] - 64s 178ms/step - loss: 0.1048 - binary_accuracy: 0.9569 - val_loss: 0.1313 - val_binary_accuracy: 0.9470\n",
            "278/278 [==============================] - 66s 177ms/step - loss: 0.0977 - binary_accuracy: 0.9599 - val_loss: 0.1368 - val_binary_accuracy: 0.9457\n",
            "278/278 [==============================] - 60s 173ms/step - loss: 0.0909 - binary_accuracy: 0.9631 - val_loss: 0.1293 - val_binary_accuracy: 0.9496\n",
            "278/278 [==============================] - 62s 176ms/step - loss: 0.0851 - binary_accuracy: 0.9651 - val_loss: 0.1453 - val_binary_accuracy: 0.9426\n",
            "278/278 [==============================] - 63s 175ms/step - loss: 0.0761 - binary_accuracy: 0.9692 - val_loss: 0.1359 - val_binary_accuracy: 0.9489\n",
            "278/278 [==============================] - 61s 175ms/step - loss: 0.0706 - binary_accuracy: 0.9717 - val_loss: 0.1507 - val_binary_accuracy: 0.9470\n",
            "278/278 [==============================] - 64s 176ms/step - loss: 0.0632 - binary_accuracy: 0.9747 - val_loss: 0.1547 - val_binary_accuracy: 0.9407\n",
            "278/278 [==============================] - 63s 176ms/step - loss: 0.0571 - binary_accuracy: 0.9773 - val_loss: 0.1504 - val_binary_accuracy: 0.9490\n",
            "278/278 [==============================] - 64s 176ms/step - loss: 0.0509 - binary_accuracy: 0.9798 - val_loss: 0.1884 - val_binary_accuracy: 0.9424\n",
            "278/278 [==============================] - 66s 176ms/step - loss: 0.0458 - binary_accuracy: 0.9823 - val_loss: 0.1615 - val_binary_accuracy: 0.9446\n",
            "Early stopping\n"
          ]
        },
        {
          "name": "stderr",
          "output_type": "stream",
          "text": [
            "WARNING:tensorflow:TPU system grpc://10.27.56.234:8470 has already been initialized. Reinitializing the TPU can cause previously created variables on TPU to be lost.\n"
          ]
        },
        {
          "name": "stdout",
          "output_type": "stream",
          "text": [
            "Running on TPU  grpc://10.27.56.234:8470\n",
            "REPLICAS:  8\n",
            "cavanagh FOLD 7\n",
            "Loading model from gs://tomasmuzas-phd-datasets/SDSS/models/128x128/initial_models/cavanagh\n",
            "Model: \"Cavanagh\"\n",
            "_________________________________________________________________\n",
            " Layer (type)                Output Shape              Param #   \n",
            "=================================================================\n",
            " conv2d (Conv2D)             (None, 122, 122, 32)      4736      \n",
            "                                                                 \n",
            " batch_normalization (BatchN  (None, 122, 122, 32)     128       \n",
            " ormalization)                                                   \n",
            "                                                                 \n",
            " max_pooling2d (MaxPooling2D  (None, 61, 61, 32)       0         \n",
            " )                                                               \n",
            "                                                                 \n",
            " conv2d_1 (Conv2D)           (None, 57, 57, 64)        51264     \n",
            "                                                                 \n",
            " conv2d_2 (Conv2D)           (None, 53, 53, 64)        102464    \n",
            "                                                                 \n",
            " batch_normalization_1 (Batc  (None, 53, 53, 64)       256       \n",
            " hNormalization)                                                 \n",
            "                                                                 \n",
            " max_pooling2d_1 (MaxPooling  (None, 26, 26, 64)       0         \n",
            " 2D)                                                             \n",
            "                                                                 \n",
            " conv2d_3 (Conv2D)           (None, 24, 24, 128)       73856     \n",
            "                                                                 \n",
            " batch_normalization_2 (Batc  (None, 24, 24, 128)      512       \n",
            " hNormalization)                                                 \n",
            "                                                                 \n",
            " max_pooling2d_2 (MaxPooling  (None, 12, 12, 128)      0         \n",
            " 2D)                                                             \n",
            "                                                                 \n",
            " flatten (Flatten)           (None, 18432)             0         \n",
            "                                                                 \n",
            " dropout (Dropout)           (None, 18432)             0         \n",
            "                                                                 \n",
            " dense (Dense)               (None, 256)               4718848   \n",
            "                                                                 \n",
            " dense_1 (Dense)             (None, 256)               65792     \n",
            "                                                                 \n",
            " dense_2 (Dense)             (None, 1)                 257       \n",
            "                                                                 \n",
            "=================================================================\n",
            "Total params: 5,018,113\n",
            "Trainable params: 5,017,665\n",
            "Non-trainable params: 448\n",
            "_________________________________________________________________\n",
            "278/278 [==============================] - 77s 188ms/step - loss: 0.2261 - binary_accuracy: 0.9083 - val_loss: 2.1010 - val_binary_accuracy: 0.2886\n",
            "278/278 [==============================] - 64s 180ms/step - loss: 0.1597 - binary_accuracy: 0.9359 - val_loss: 0.3333 - val_binary_accuracy: 0.8631\n",
            "Loss improved. Saving model.\n"
          ]
        },
        {
          "name": "stderr",
          "output_type": "stream",
          "text": [
            "WARNING:absl:Found untraced functions such as _jit_compiled_convolution_op, _jit_compiled_convolution_op, _jit_compiled_convolution_op, _jit_compiled_convolution_op while saving (showing 4 of 4). These functions will not be directly callable after loading.\n"
          ]
        },
        {
          "name": "stdout",
          "output_type": "stream",
          "text": [
            "278/278 [==============================] - 62s 177ms/step - loss: 0.1441 - binary_accuracy: 0.9420 - val_loss: 0.1427 - val_binary_accuracy: 0.9429\n",
            "Loss improved. Saving model.\n"
          ]
        },
        {
          "name": "stderr",
          "output_type": "stream",
          "text": [
            "WARNING:absl:Found untraced functions such as _jit_compiled_convolution_op, _jit_compiled_convolution_op, _jit_compiled_convolution_op, _jit_compiled_convolution_op while saving (showing 4 of 4). These functions will not be directly callable after loading.\n"
          ]
        },
        {
          "name": "stdout",
          "output_type": "stream",
          "text": [
            "278/278 [==============================] - 62s 175ms/step - loss: 0.1351 - binary_accuracy: 0.9454 - val_loss: 0.1404 - val_binary_accuracy: 0.9426\n",
            "Loss improved. Saving model.\n"
          ]
        },
        {
          "name": "stderr",
          "output_type": "stream",
          "text": [
            "WARNING:absl:Found untraced functions such as _jit_compiled_convolution_op, _jit_compiled_convolution_op, _jit_compiled_convolution_op, _jit_compiled_convolution_op while saving (showing 4 of 4). These functions will not be directly callable after loading.\n"
          ]
        },
        {
          "name": "stdout",
          "output_type": "stream",
          "text": [
            "278/278 [==============================] - 63s 174ms/step - loss: 0.1270 - binary_accuracy: 0.9483 - val_loss: 0.1372 - val_binary_accuracy: 0.9442\n",
            "Loss improved. Saving model.\n"
          ]
        },
        {
          "name": "stderr",
          "output_type": "stream",
          "text": [
            "WARNING:absl:Found untraced functions such as _jit_compiled_convolution_op, _jit_compiled_convolution_op, _jit_compiled_convolution_op, _jit_compiled_convolution_op while saving (showing 4 of 4). These functions will not be directly callable after loading.\n"
          ]
        },
        {
          "name": "stdout",
          "output_type": "stream",
          "text": [
            "278/278 [==============================] - 63s 174ms/step - loss: 0.1200 - binary_accuracy: 0.9510 - val_loss: 0.1297 - val_binary_accuracy: 0.9460\n",
            "Loss improved. Saving model.\n"
          ]
        },
        {
          "name": "stderr",
          "output_type": "stream",
          "text": [
            "WARNING:absl:Found untraced functions such as _jit_compiled_convolution_op, _jit_compiled_convolution_op, _jit_compiled_convolution_op, _jit_compiled_convolution_op while saving (showing 4 of 4). These functions will not be directly callable after loading.\n"
          ]
        },
        {
          "name": "stdout",
          "output_type": "stream",
          "text": [
            "278/278 [==============================] - 63s 175ms/step - loss: 0.1147 - binary_accuracy: 0.9530 - val_loss: 0.1342 - val_binary_accuracy: 0.9473\n",
            "278/278 [==============================] - 62s 175ms/step - loss: 0.1083 - binary_accuracy: 0.9557 - val_loss: 0.1378 - val_binary_accuracy: 0.9431\n",
            "278/278 [==============================] - 61s 174ms/step - loss: 0.1027 - binary_accuracy: 0.9583 - val_loss: 0.1316 - val_binary_accuracy: 0.9472\n",
            "278/278 [==============================] - 63s 174ms/step - loss: 0.0955 - binary_accuracy: 0.9613 - val_loss: 0.1403 - val_binary_accuracy: 0.9441\n",
            "278/278 [==============================] - 64s 174ms/step - loss: 0.0886 - binary_accuracy: 0.9640 - val_loss: 0.1346 - val_binary_accuracy: 0.9460\n",
            "278/278 [==============================] - 61s 175ms/step - loss: 0.0815 - binary_accuracy: 0.9673 - val_loss: 0.1744 - val_binary_accuracy: 0.9371\n",
            "278/278 [==============================] - 66s 176ms/step - loss: 0.0743 - binary_accuracy: 0.9701 - val_loss: 0.1472 - val_binary_accuracy: 0.9450\n",
            "278/278 [==============================] - 64s 173ms/step - loss: 0.0675 - binary_accuracy: 0.9732 - val_loss: 0.1485 - val_binary_accuracy: 0.9407\n",
            "278/278 [==============================] - 61s 174ms/step - loss: 0.0600 - binary_accuracy: 0.9762 - val_loss: 0.1559 - val_binary_accuracy: 0.9459\n",
            "278/278 [==============================] - 62s 175ms/step - loss: 0.0529 - binary_accuracy: 0.9790 - val_loss: 0.1591 - val_binary_accuracy: 0.9462\n",
            "Early stopping\n"
          ]
        },
        {
          "name": "stderr",
          "output_type": "stream",
          "text": [
            "WARNING:tensorflow:TPU system grpc://10.27.56.234:8470 has already been initialized. Reinitializing the TPU can cause previously created variables on TPU to be lost.\n"
          ]
        },
        {
          "name": "stdout",
          "output_type": "stream",
          "text": [
            "Running on TPU  grpc://10.27.56.234:8470\n",
            "REPLICAS:  8\n",
            "cavanagh FOLD 8\n",
            "Loading model from gs://tomasmuzas-phd-datasets/SDSS/models/128x128/initial_models/cavanagh\n",
            "Model: \"Cavanagh\"\n",
            "_________________________________________________________________\n",
            " Layer (type)                Output Shape              Param #   \n",
            "=================================================================\n",
            " conv2d (Conv2D)             (None, 122, 122, 32)      4736      \n",
            "                                                                 \n",
            " batch_normalization (BatchN  (None, 122, 122, 32)     128       \n",
            " ormalization)                                                   \n",
            "                                                                 \n",
            " max_pooling2d (MaxPooling2D  (None, 61, 61, 32)       0         \n",
            " )                                                               \n",
            "                                                                 \n",
            " conv2d_1 (Conv2D)           (None, 57, 57, 64)        51264     \n",
            "                                                                 \n",
            " conv2d_2 (Conv2D)           (None, 53, 53, 64)        102464    \n",
            "                                                                 \n",
            " batch_normalization_1 (Batc  (None, 53, 53, 64)       256       \n",
            " hNormalization)                                                 \n",
            "                                                                 \n",
            " max_pooling2d_1 (MaxPooling  (None, 26, 26, 64)       0         \n",
            " 2D)                                                             \n",
            "                                                                 \n",
            " conv2d_3 (Conv2D)           (None, 24, 24, 128)       73856     \n",
            "                                                                 \n",
            " batch_normalization_2 (Batc  (None, 24, 24, 128)      512       \n",
            " hNormalization)                                                 \n",
            "                                                                 \n",
            " max_pooling2d_2 (MaxPooling  (None, 12, 12, 128)      0         \n",
            " 2D)                                                             \n",
            "                                                                 \n",
            " flatten (Flatten)           (None, 18432)             0         \n",
            "                                                                 \n",
            " dropout (Dropout)           (None, 18432)             0         \n",
            "                                                                 \n",
            " dense (Dense)               (None, 256)               4718848   \n",
            "                                                                 \n",
            " dense_1 (Dense)             (None, 256)               65792     \n",
            "                                                                 \n",
            " dense_2 (Dense)             (None, 1)                 257       \n",
            "                                                                 \n",
            "=================================================================\n",
            "Total params: 5,018,113\n",
            "Trainable params: 5,017,665\n",
            "Non-trainable params: 448\n",
            "_________________________________________________________________\n",
            "278/278 [==============================] - 74s 186ms/step - loss: 0.2252 - binary_accuracy: 0.9083 - val_loss: 2.1439 - val_binary_accuracy: 0.2886\n",
            "278/278 [==============================] - 62s 174ms/step - loss: 0.1613 - binary_accuracy: 0.9352 - val_loss: 0.2272 - val_binary_accuracy: 0.9072\n",
            "Loss improved. Saving model.\n"
          ]
        },
        {
          "name": "stderr",
          "output_type": "stream",
          "text": [
            "WARNING:absl:Found untraced functions such as _jit_compiled_convolution_op, _jit_compiled_convolution_op, _jit_compiled_convolution_op, _jit_compiled_convolution_op while saving (showing 4 of 4). These functions will not be directly callable after loading.\n"
          ]
        },
        {
          "name": "stdout",
          "output_type": "stream",
          "text": [
            "278/278 [==============================] - 71s 174ms/step - loss: 0.1456 - binary_accuracy: 0.9414 - val_loss: 0.1429 - val_binary_accuracy: 0.9432\n",
            "Loss improved. Saving model.\n"
          ]
        },
        {
          "name": "stderr",
          "output_type": "stream",
          "text": [
            "WARNING:absl:Found untraced functions such as _jit_compiled_convolution_op, _jit_compiled_convolution_op, _jit_compiled_convolution_op, _jit_compiled_convolution_op while saving (showing 4 of 4). These functions will not be directly callable after loading.\n"
          ]
        },
        {
          "name": "stdout",
          "output_type": "stream",
          "text": [
            "278/278 [==============================] - 63s 176ms/step - loss: 0.1351 - binary_accuracy: 0.9450 - val_loss: 0.1315 - val_binary_accuracy: 0.9475\n",
            "Loss improved. Saving model.\n"
          ]
        },
        {
          "name": "stderr",
          "output_type": "stream",
          "text": [
            "WARNING:absl:Found untraced functions such as _jit_compiled_convolution_op, _jit_compiled_convolution_op, _jit_compiled_convolution_op, _jit_compiled_convolution_op while saving (showing 4 of 4). These functions will not be directly callable after loading.\n"
          ]
        },
        {
          "name": "stdout",
          "output_type": "stream",
          "text": [
            "278/278 [==============================] - 62s 174ms/step - loss: 0.1295 - binary_accuracy: 0.9473 - val_loss: 0.1317 - val_binary_accuracy: 0.9481\n",
            "278/278 [==============================] - 62s 175ms/step - loss: 0.1213 - binary_accuracy: 0.9504 - val_loss: 0.1271 - val_binary_accuracy: 0.9497\n",
            "Loss improved. Saving model.\n"
          ]
        },
        {
          "name": "stderr",
          "output_type": "stream",
          "text": [
            "WARNING:absl:Found untraced functions such as _jit_compiled_convolution_op, _jit_compiled_convolution_op, _jit_compiled_convolution_op, _jit_compiled_convolution_op while saving (showing 4 of 4). These functions will not be directly callable after loading.\n"
          ]
        },
        {
          "name": "stdout",
          "output_type": "stream",
          "text": [
            "278/278 [==============================] - 61s 173ms/step - loss: 0.1148 - binary_accuracy: 0.9530 - val_loss: 0.1394 - val_binary_accuracy: 0.9448\n",
            "278/278 [==============================] - 63s 178ms/step - loss: 0.1095 - binary_accuracy: 0.9550 - val_loss: 0.1359 - val_binary_accuracy: 0.9464\n",
            "278/278 [==============================] - 67s 185ms/step - loss: 0.1026 - binary_accuracy: 0.9574 - val_loss: 0.1351 - val_binary_accuracy: 0.9458\n",
            "278/278 [==============================] - 66s 181ms/step - loss: 0.0966 - binary_accuracy: 0.9604 - val_loss: 0.1405 - val_binary_accuracy: 0.9431\n",
            "278/278 [==============================] - 65s 180ms/step - loss: 0.0897 - binary_accuracy: 0.9632 - val_loss: 0.1312 - val_binary_accuracy: 0.9503\n",
            "278/278 [==============================] - 64s 175ms/step - loss: 0.0827 - binary_accuracy: 0.9663 - val_loss: 0.1537 - val_binary_accuracy: 0.9424\n",
            "278/278 [==============================] - 62s 176ms/step - loss: 0.0757 - binary_accuracy: 0.9692 - val_loss: 0.1350 - val_binary_accuracy: 0.9469\n",
            "278/278 [==============================] - 61s 174ms/step - loss: 0.0686 - binary_accuracy: 0.9723 - val_loss: 0.1449 - val_binary_accuracy: 0.9447\n",
            "278/278 [==============================] - 62s 175ms/step - loss: 0.0607 - binary_accuracy: 0.9762 - val_loss: 0.1462 - val_binary_accuracy: 0.9467\n",
            "278/278 [==============================] - 63s 175ms/step - loss: 0.0538 - binary_accuracy: 0.9785 - val_loss: 0.1607 - val_binary_accuracy: 0.9462\n",
            "Early stopping\n"
          ]
        },
        {
          "name": "stderr",
          "output_type": "stream",
          "text": [
            "WARNING:tensorflow:TPU system grpc://10.27.56.234:8470 has already been initialized. Reinitializing the TPU can cause previously created variables on TPU to be lost.\n"
          ]
        },
        {
          "name": "stdout",
          "output_type": "stream",
          "text": [
            "Running on TPU  grpc://10.27.56.234:8470\n",
            "REPLICAS:  8\n",
            "cavanagh FOLD 9\n",
            "Loading model from gs://tomasmuzas-phd-datasets/SDSS/models/128x128/initial_models/cavanagh\n",
            "Model: \"Cavanagh\"\n",
            "_________________________________________________________________\n",
            " Layer (type)                Output Shape              Param #   \n",
            "=================================================================\n",
            " conv2d (Conv2D)             (None, 122, 122, 32)      4736      \n",
            "                                                                 \n",
            " batch_normalization (BatchN  (None, 122, 122, 32)     128       \n",
            " ormalization)                                                   \n",
            "                                                                 \n",
            " max_pooling2d (MaxPooling2D  (None, 61, 61, 32)       0         \n",
            " )                                                               \n",
            "                                                                 \n",
            " conv2d_1 (Conv2D)           (None, 57, 57, 64)        51264     \n",
            "                                                                 \n",
            " conv2d_2 (Conv2D)           (None, 53, 53, 64)        102464    \n",
            "                                                                 \n",
            " batch_normalization_1 (Batc  (None, 53, 53, 64)       256       \n",
            " hNormalization)                                                 \n",
            "                                                                 \n",
            " max_pooling2d_1 (MaxPooling  (None, 26, 26, 64)       0         \n",
            " 2D)                                                             \n",
            "                                                                 \n",
            " conv2d_3 (Conv2D)           (None, 24, 24, 128)       73856     \n",
            "                                                                 \n",
            " batch_normalization_2 (Batc  (None, 24, 24, 128)      512       \n",
            " hNormalization)                                                 \n",
            "                                                                 \n",
            " max_pooling2d_2 (MaxPooling  (None, 12, 12, 128)      0         \n",
            " 2D)                                                             \n",
            "                                                                 \n",
            " flatten (Flatten)           (None, 18432)             0         \n",
            "                                                                 \n",
            " dropout (Dropout)           (None, 18432)             0         \n",
            "                                                                 \n",
            " dense (Dense)               (None, 256)               4718848   \n",
            "                                                                 \n",
            " dense_1 (Dense)             (None, 256)               65792     \n",
            "                                                                 \n",
            " dense_2 (Dense)             (None, 1)                 257       \n",
            "                                                                 \n",
            "=================================================================\n",
            "Total params: 5,018,113\n",
            "Trainable params: 5,017,665\n",
            "Non-trainable params: 448\n",
            "_________________________________________________________________\n",
            "278/278 [==============================] - 74s 185ms/step - loss: 0.2294 - binary_accuracy: 0.9071 - val_loss: 2.0173 - val_binary_accuracy: 0.2886\n",
            "278/278 [==============================] - 63s 174ms/step - loss: 0.1623 - binary_accuracy: 0.9348 - val_loss: 0.2687 - val_binary_accuracy: 0.8834\n",
            "Loss improved. Saving model.\n"
          ]
        },
        {
          "name": "stderr",
          "output_type": "stream",
          "text": [
            "WARNING:absl:Found untraced functions such as _jit_compiled_convolution_op, _jit_compiled_convolution_op, _jit_compiled_convolution_op, _jit_compiled_convolution_op while saving (showing 4 of 4). These functions will not be directly callable after loading.\n"
          ]
        },
        {
          "name": "stdout",
          "output_type": "stream",
          "text": [
            "278/278 [==============================] - 62s 175ms/step - loss: 0.1455 - binary_accuracy: 0.9411 - val_loss: 0.1451 - val_binary_accuracy: 0.9418\n",
            "Loss improved. Saving model.\n"
          ]
        },
        {
          "name": "stderr",
          "output_type": "stream",
          "text": [
            "WARNING:absl:Found untraced functions such as _jit_compiled_convolution_op, _jit_compiled_convolution_op, _jit_compiled_convolution_op, _jit_compiled_convolution_op while saving (showing 4 of 4). These functions will not be directly callable after loading.\n"
          ]
        },
        {
          "name": "stdout",
          "output_type": "stream",
          "text": [
            "278/278 [==============================] - 62s 175ms/step - loss: 0.1368 - binary_accuracy: 0.9448 - val_loss: 0.1395 - val_binary_accuracy: 0.9441\n",
            "Loss improved. Saving model.\n"
          ]
        },
        {
          "name": "stderr",
          "output_type": "stream",
          "text": [
            "WARNING:absl:Found untraced functions such as _jit_compiled_convolution_op, _jit_compiled_convolution_op, _jit_compiled_convolution_op, _jit_compiled_convolution_op while saving (showing 4 of 4). These functions will not be directly callable after loading.\n"
          ]
        },
        {
          "name": "stdout",
          "output_type": "stream",
          "text": [
            "278/278 [==============================] - 62s 174ms/step - loss: 0.1280 - binary_accuracy: 0.9480 - val_loss: 0.1423 - val_binary_accuracy: 0.9412\n",
            "278/278 [==============================] - 61s 176ms/step - loss: 0.1218 - binary_accuracy: 0.9507 - val_loss: 0.1422 - val_binary_accuracy: 0.9421\n",
            "278/278 [==============================] - 63s 176ms/step - loss: 0.1158 - binary_accuracy: 0.9528 - val_loss: 0.1476 - val_binary_accuracy: 0.9401\n",
            "278/278 [==============================] - 61s 175ms/step - loss: 0.1110 - binary_accuracy: 0.9551 - val_loss: 0.1377 - val_binary_accuracy: 0.9449\n",
            "Loss improved. Saving model.\n"
          ]
        },
        {
          "name": "stderr",
          "output_type": "stream",
          "text": [
            "WARNING:absl:Found untraced functions such as _jit_compiled_convolution_op, _jit_compiled_convolution_op, _jit_compiled_convolution_op, _jit_compiled_convolution_op while saving (showing 4 of 4). These functions will not be directly callable after loading.\n"
          ]
        },
        {
          "name": "stdout",
          "output_type": "stream",
          "text": [
            "278/278 [==============================] - 62s 174ms/step - loss: 0.1040 - binary_accuracy: 0.9575 - val_loss: 0.1514 - val_binary_accuracy: 0.9425\n",
            "278/278 [==============================] - 63s 176ms/step - loss: 0.0978 - binary_accuracy: 0.9600 - val_loss: 0.1368 - val_binary_accuracy: 0.9448\n",
            "Loss improved. Saving model.\n"
          ]
        },
        {
          "name": "stderr",
          "output_type": "stream",
          "text": [
            "WARNING:absl:Found untraced functions such as _jit_compiled_convolution_op, _jit_compiled_convolution_op, _jit_compiled_convolution_op, _jit_compiled_convolution_op while saving (showing 4 of 4). These functions will not be directly callable after loading.\n"
          ]
        },
        {
          "name": "stdout",
          "output_type": "stream",
          "text": [
            "278/278 [==============================] - 66s 178ms/step - loss: 0.0900 - binary_accuracy: 0.9634 - val_loss: 0.1419 - val_binary_accuracy: 0.9450\n",
            "278/278 [==============================] - 63s 177ms/step - loss: 0.0834 - binary_accuracy: 0.9659 - val_loss: 0.1432 - val_binary_accuracy: 0.9424\n",
            "278/278 [==============================] - 65s 178ms/step - loss: 0.0754 - binary_accuracy: 0.9698 - val_loss: 0.1624 - val_binary_accuracy: 0.9377\n",
            "278/278 [==============================] - 65s 176ms/step - loss: 0.0686 - binary_accuracy: 0.9722 - val_loss: 0.1445 - val_binary_accuracy: 0.9451\n",
            "278/278 [==============================] - 66s 177ms/step - loss: 0.0614 - binary_accuracy: 0.9758 - val_loss: 0.1651 - val_binary_accuracy: 0.9424\n",
            "278/278 [==============================] - 62s 176ms/step - loss: 0.0537 - binary_accuracy: 0.9789 - val_loss: 0.1598 - val_binary_accuracy: 0.9454\n",
            "278/278 [==============================] - 62s 179ms/step - loss: 0.0483 - binary_accuracy: 0.9812 - val_loss: 0.1646 - val_binary_accuracy: 0.9441\n",
            "278/278 [==============================] - 63s 179ms/step - loss: 0.0432 - binary_accuracy: 0.9834 - val_loss: 0.1817 - val_binary_accuracy: 0.9433\n",
            "278/278 [==============================] - 66s 178ms/step - loss: 0.0402 - binary_accuracy: 0.9847 - val_loss: 0.1757 - val_binary_accuracy: 0.9410\n",
            "278/278 [==============================] - 64s 178ms/step - loss: 0.0347 - binary_accuracy: 0.9869 - val_loss: 0.2096 - val_binary_accuracy: 0.9410\n",
            "Early stopping\n"
          ]
        },
        {
          "name": "stderr",
          "output_type": "stream",
          "text": [
            "WARNING:tensorflow:TPU system grpc://10.27.56.234:8470 has already been initialized. Reinitializing the TPU can cause previously created variables on TPU to be lost.\n"
          ]
        },
        {
          "name": "stdout",
          "output_type": "stream",
          "text": [
            "Running on TPU  grpc://10.27.56.234:8470\n",
            "REPLICAS:  8\n",
            "cavanagh FOLD 10\n",
            "Loading model from gs://tomasmuzas-phd-datasets/SDSS/models/128x128/initial_models/cavanagh\n",
            "Model: \"Cavanagh\"\n",
            "_________________________________________________________________\n",
            " Layer (type)                Output Shape              Param #   \n",
            "=================================================================\n",
            " conv2d (Conv2D)             (None, 122, 122, 32)      4736      \n",
            "                                                                 \n",
            " batch_normalization (BatchN  (None, 122, 122, 32)     128       \n",
            " ormalization)                                                   \n",
            "                                                                 \n",
            " max_pooling2d (MaxPooling2D  (None, 61, 61, 32)       0         \n",
            " )                                                               \n",
            "                                                                 \n",
            " conv2d_1 (Conv2D)           (None, 57, 57, 64)        51264     \n",
            "                                                                 \n",
            " conv2d_2 (Conv2D)           (None, 53, 53, 64)        102464    \n",
            "                                                                 \n",
            " batch_normalization_1 (Batc  (None, 53, 53, 64)       256       \n",
            " hNormalization)                                                 \n",
            "                                                                 \n",
            " max_pooling2d_1 (MaxPooling  (None, 26, 26, 64)       0         \n",
            " 2D)                                                             \n",
            "                                                                 \n",
            " conv2d_3 (Conv2D)           (None, 24, 24, 128)       73856     \n",
            "                                                                 \n",
            " batch_normalization_2 (Batc  (None, 24, 24, 128)      512       \n",
            " hNormalization)                                                 \n",
            "                                                                 \n",
            " max_pooling2d_2 (MaxPooling  (None, 12, 12, 128)      0         \n",
            " 2D)                                                             \n",
            "                                                                 \n",
            " flatten (Flatten)           (None, 18432)             0         \n",
            "                                                                 \n",
            " dropout (Dropout)           (None, 18432)             0         \n",
            "                                                                 \n",
            " dense (Dense)               (None, 256)               4718848   \n",
            "                                                                 \n",
            " dense_1 (Dense)             (None, 256)               65792     \n",
            "                                                                 \n",
            " dense_2 (Dense)             (None, 1)                 257       \n",
            "                                                                 \n",
            "=================================================================\n",
            "Total params: 5,018,113\n",
            "Trainable params: 5,017,665\n",
            "Non-trainable params: 448\n",
            "_________________________________________________________________\n",
            "278/278 [==============================] - 74s 186ms/step - loss: 0.2330 - binary_accuracy: 0.9055 - val_loss: 1.1115 - val_binary_accuracy: 0.2890\n",
            "278/278 [==============================] - 63s 177ms/step - loss: 0.1647 - binary_accuracy: 0.9335 - val_loss: 0.2642 - val_binary_accuracy: 0.8909\n",
            "Loss improved. Saving model.\n"
          ]
        },
        {
          "name": "stderr",
          "output_type": "stream",
          "text": [
            "WARNING:absl:Found untraced functions such as _jit_compiled_convolution_op, _jit_compiled_convolution_op, _jit_compiled_convolution_op, _jit_compiled_convolution_op while saving (showing 4 of 4). These functions will not be directly callable after loading.\n"
          ]
        },
        {
          "name": "stdout",
          "output_type": "stream",
          "text": [
            "278/278 [==============================] - 65s 177ms/step - loss: 0.1468 - binary_accuracy: 0.9408 - val_loss: 0.1730 - val_binary_accuracy: 0.9310\n",
            "Loss improved. Saving model.\n"
          ]
        },
        {
          "name": "stderr",
          "output_type": "stream",
          "text": [
            "WARNING:absl:Found untraced functions such as _jit_compiled_convolution_op, _jit_compiled_convolution_op, _jit_compiled_convolution_op, _jit_compiled_convolution_op while saving (showing 4 of 4). These functions will not be directly callable after loading.\n"
          ]
        },
        {
          "name": "stdout",
          "output_type": "stream",
          "text": [
            "278/278 [==============================] - 64s 178ms/step - loss: 0.1365 - binary_accuracy: 0.9448 - val_loss: 0.1372 - val_binary_accuracy: 0.9428\n",
            "Loss improved. Saving model.\n"
          ]
        },
        {
          "name": "stderr",
          "output_type": "stream",
          "text": [
            "WARNING:absl:Found untraced functions such as _jit_compiled_convolution_op, _jit_compiled_convolution_op, _jit_compiled_convolution_op, _jit_compiled_convolution_op while saving (showing 4 of 4). These functions will not be directly callable after loading.\n"
          ]
        },
        {
          "name": "stdout",
          "output_type": "stream",
          "text": [
            "278/278 [==============================] - 64s 178ms/step - loss: 0.1296 - binary_accuracy: 0.9475 - val_loss: 0.1339 - val_binary_accuracy: 0.9457\n",
            "Loss improved. Saving model.\n"
          ]
        },
        {
          "name": "stderr",
          "output_type": "stream",
          "text": [
            "WARNING:absl:Found untraced functions such as _jit_compiled_convolution_op, _jit_compiled_convolution_op, _jit_compiled_convolution_op, _jit_compiled_convolution_op while saving (showing 4 of 4). These functions will not be directly callable after loading.\n"
          ]
        },
        {
          "name": "stdout",
          "output_type": "stream",
          "text": [
            "278/278 [==============================] - 66s 186ms/step - loss: 0.1226 - binary_accuracy: 0.9501 - val_loss: 0.1315 - val_binary_accuracy: 0.9451\n",
            "Loss improved. Saving model.\n"
          ]
        },
        {
          "name": "stderr",
          "output_type": "stream",
          "text": [
            "WARNING:absl:Found untraced functions such as _jit_compiled_convolution_op, _jit_compiled_convolution_op, _jit_compiled_convolution_op, _jit_compiled_convolution_op while saving (showing 4 of 4). These functions will not be directly callable after loading.\n"
          ]
        },
        {
          "name": "stdout",
          "output_type": "stream",
          "text": [
            "278/278 [==============================] - 64s 179ms/step - loss: 0.1164 - binary_accuracy: 0.9523 - val_loss: 0.1332 - val_binary_accuracy: 0.9460\n",
            "278/278 [==============================] - 65s 184ms/step - loss: 0.1107 - binary_accuracy: 0.9545 - val_loss: 0.1553 - val_binary_accuracy: 0.9403\n",
            "278/278 [==============================] - 64s 180ms/step - loss: 0.1044 - binary_accuracy: 0.9574 - val_loss: 0.1307 - val_binary_accuracy: 0.9448\n",
            "Loss improved. Saving model.\n"
          ]
        },
        {
          "name": "stderr",
          "output_type": "stream",
          "text": [
            "WARNING:absl:Found untraced functions such as _jit_compiled_convolution_op, _jit_compiled_convolution_op, _jit_compiled_convolution_op, _jit_compiled_convolution_op while saving (showing 4 of 4). These functions will not be directly callable after loading.\n"
          ]
        },
        {
          "name": "stdout",
          "output_type": "stream",
          "text": [
            "278/278 [==============================] - 62s 176ms/step - loss: 0.0976 - binary_accuracy: 0.9601 - val_loss: 0.1437 - val_binary_accuracy: 0.9418\n",
            "278/278 [==============================] - 62s 178ms/step - loss: 0.0912 - binary_accuracy: 0.9626 - val_loss: 0.1441 - val_binary_accuracy: 0.9411\n",
            "278/278 [==============================] - 64s 177ms/step - loss: 0.0835 - binary_accuracy: 0.9660 - val_loss: 0.1417 - val_binary_accuracy: 0.9448\n",
            "278/278 [==============================] - 63s 177ms/step - loss: 0.0771 - binary_accuracy: 0.9688 - val_loss: 0.1561 - val_binary_accuracy: 0.9399\n",
            "278/278 [==============================] - 62s 176ms/step - loss: 0.0688 - binary_accuracy: 0.9725 - val_loss: 0.1488 - val_binary_accuracy: 0.9447\n",
            "278/278 [==============================] - 63s 176ms/step - loss: 0.0613 - binary_accuracy: 0.9755 - val_loss: 0.1533 - val_binary_accuracy: 0.9430\n",
            "278/278 [==============================] - 65s 178ms/step - loss: 0.0551 - binary_accuracy: 0.9783 - val_loss: 0.1686 - val_binary_accuracy: 0.9410\n",
            "278/278 [==============================] - 63s 178ms/step - loss: 0.0493 - binary_accuracy: 0.9807 - val_loss: 0.1740 - val_binary_accuracy: 0.9416\n",
            "278/278 [==============================] - 64s 178ms/step - loss: 0.0434 - binary_accuracy: 0.9830 - val_loss: 0.1742 - val_binary_accuracy: 0.9425\n",
            "278/278 [==============================] - 62s 176ms/step - loss: 0.0397 - binary_accuracy: 0.9847 - val_loss: 0.1855 - val_binary_accuracy: 0.9425\n",
            "Early stopping\n"
          ]
        },
        {
          "name": "stderr",
          "output_type": "stream",
          "text": [
            "WARNING:tensorflow:TPU system grpc://10.27.56.234:8470 has already been initialized. Reinitializing the TPU can cause previously created variables on TPU to be lost.\n"
          ]
        },
        {
          "name": "stdout",
          "output_type": "stream",
          "text": [
            "Running on TPU  grpc://10.27.56.234:8470\n",
            "REPLICAS:  8\n",
            "dieleman FOLD 1\n",
            "Loading model from gs://tomasmuzas-phd-datasets/SDSS/models/128x128/initial_models/dieleman\n",
            "Model: \"Dieleman\"\n",
            "_________________________________________________________________\n",
            " Layer (type)                Output Shape              Param #   \n",
            "=================================================================\n",
            " conv2d_4 (Conv2D)           (None, 123, 123, 32)      3488      \n",
            "                                                                 \n",
            " batch_normalization_3 (Batc  (None, 123, 123, 32)     128       \n",
            " hNormalization)                                                 \n",
            "                                                                 \n",
            " max_pooling2d_3 (MaxPooling  (None, 61, 61, 32)       0         \n",
            " 2D)                                                             \n",
            "                                                                 \n",
            " conv2d_5 (Conv2D)           (None, 57, 57, 64)        51264     \n",
            "                                                                 \n",
            " batch_normalization_4 (Batc  (None, 57, 57, 64)       256       \n",
            " hNormalization)                                                 \n",
            "                                                                 \n",
            " max_pooling2d_4 (MaxPooling  (None, 28, 28, 64)       0         \n",
            " 2D)                                                             \n",
            "                                                                 \n",
            " conv2d_6 (Conv2D)           (None, 26, 26, 128)       73856     \n",
            "                                                                 \n",
            " conv2d_7 (Conv2D)           (None, 24, 24, 128)       147584    \n",
            "                                                                 \n",
            " batch_normalization_5 (Batc  (None, 24, 24, 128)      512       \n",
            " hNormalization)                                                 \n",
            "                                                                 \n",
            " max_pooling2d_5 (MaxPooling  (None, 12, 12, 128)      0         \n",
            " 2D)                                                             \n",
            "                                                                 \n",
            " flatten_1 (Flatten)         (None, 18432)             0         \n",
            "                                                                 \n",
            " dropout_1 (Dropout)         (None, 18432)             0         \n",
            "                                                                 \n",
            " dense_3 (Dense)             (None, 256)               4718848   \n",
            "                                                                 \n",
            " dense_4 (Dense)             (None, 256)               65792     \n",
            "                                                                 \n",
            " dense_5 (Dense)             (None, 1)                 257       \n",
            "                                                                 \n",
            "=================================================================\n",
            "Total params: 5,061,985\n",
            "Trainable params: 5,061,537\n",
            "Non-trainable params: 448\n",
            "_________________________________________________________________\n",
            "278/278 [==============================] - 72s 165ms/step - loss: 0.2387 - binary_accuracy: 0.9042 - val_loss: 4.8070 - val_binary_accuracy: 0.2886\n",
            "278/278 [==============================] - 57s 157ms/step - loss: 0.1649 - binary_accuracy: 0.9334 - val_loss: 0.3008 - val_binary_accuracy: 0.8778\n",
            "Loss improved. Saving model.\n"
          ]
        },
        {
          "name": "stderr",
          "output_type": "stream",
          "text": [
            "WARNING:absl:Found untraced functions such as _jit_compiled_convolution_op, _jit_compiled_convolution_op, _jit_compiled_convolution_op, _jit_compiled_convolution_op while saving (showing 4 of 4). These functions will not be directly callable after loading.\n"
          ]
        },
        {
          "name": "stdout",
          "output_type": "stream",
          "text": [
            "278/278 [==============================] - 55s 156ms/step - loss: 0.1475 - binary_accuracy: 0.9403 - val_loss: 0.1730 - val_binary_accuracy: 0.9296\n",
            "Loss improved. Saving model.\n"
          ]
        },
        {
          "name": "stderr",
          "output_type": "stream",
          "text": [
            "WARNING:absl:Found untraced functions such as _jit_compiled_convolution_op, _jit_compiled_convolution_op, _jit_compiled_convolution_op, _jit_compiled_convolution_op while saving (showing 4 of 4). These functions will not be directly callable after loading.\n"
          ]
        },
        {
          "name": "stdout",
          "output_type": "stream",
          "text": [
            "278/278 [==============================] - 58s 156ms/step - loss: 0.1354 - binary_accuracy: 0.9450 - val_loss: 0.1431 - val_binary_accuracy: 0.9420\n",
            "Loss improved. Saving model.\n"
          ]
        },
        {
          "name": "stderr",
          "output_type": "stream",
          "text": [
            "WARNING:absl:Found untraced functions such as _jit_compiled_convolution_op, _jit_compiled_convolution_op, _jit_compiled_convolution_op, _jit_compiled_convolution_op while saving (showing 4 of 4). These functions will not be directly callable after loading.\n"
          ]
        },
        {
          "name": "stdout",
          "output_type": "stream",
          "text": [
            "278/278 [==============================] - 64s 157ms/step - loss: 0.1290 - binary_accuracy: 0.9474 - val_loss: 0.1355 - val_binary_accuracy: 0.9459\n",
            "Loss improved. Saving model.\n"
          ]
        },
        {
          "name": "stderr",
          "output_type": "stream",
          "text": [
            "WARNING:absl:Found untraced functions such as _jit_compiled_convolution_op, _jit_compiled_convolution_op, _jit_compiled_convolution_op, _jit_compiled_convolution_op while saving (showing 4 of 4). These functions will not be directly callable after loading.\n"
          ]
        },
        {
          "name": "stdout",
          "output_type": "stream",
          "text": [
            "278/278 [==============================] - 58s 157ms/step - loss: 0.1214 - binary_accuracy: 0.9502 - val_loss: 0.1588 - val_binary_accuracy: 0.9376\n",
            "278/278 [==============================] - 57s 156ms/step - loss: 0.1138 - binary_accuracy: 0.9534 - val_loss: 0.1353 - val_binary_accuracy: 0.9459\n",
            "Loss improved. Saving model.\n"
          ]
        },
        {
          "name": "stderr",
          "output_type": "stream",
          "text": [
            "WARNING:absl:Found untraced functions such as _jit_compiled_convolution_op, _jit_compiled_convolution_op, _jit_compiled_convolution_op, _jit_compiled_convolution_op while saving (showing 4 of 4). These functions will not be directly callable after loading.\n"
          ]
        },
        {
          "name": "stdout",
          "output_type": "stream",
          "text": [
            "278/278 [==============================] - 59s 158ms/step - loss: 0.1074 - binary_accuracy: 0.9559 - val_loss: 0.1375 - val_binary_accuracy: 0.9448\n",
            "278/278 [==============================] - 60s 159ms/step - loss: 0.1008 - binary_accuracy: 0.9589 - val_loss: 0.1277 - val_binary_accuracy: 0.9486\n",
            "Loss improved. Saving model.\n"
          ]
        },
        {
          "name": "stderr",
          "output_type": "stream",
          "text": [
            "WARNING:absl:Found untraced functions such as _jit_compiled_convolution_op, _jit_compiled_convolution_op, _jit_compiled_convolution_op, _jit_compiled_convolution_op while saving (showing 4 of 4). These functions will not be directly callable after loading.\n"
          ]
        },
        {
          "name": "stdout",
          "output_type": "stream",
          "text": [
            "278/278 [==============================] - 57s 157ms/step - loss: 0.0933 - binary_accuracy: 0.9619 - val_loss: 0.1342 - val_binary_accuracy: 0.9473\n",
            "278/278 [==============================] - 59s 156ms/step - loss: 0.0855 - binary_accuracy: 0.9654 - val_loss: 0.1433 - val_binary_accuracy: 0.9448\n",
            "278/278 [==============================] - 55s 156ms/step - loss: 0.0791 - binary_accuracy: 0.9678 - val_loss: 0.1529 - val_binary_accuracy: 0.9449\n",
            "278/278 [==============================] - 57s 156ms/step - loss: 0.0701 - binary_accuracy: 0.9721 - val_loss: 0.1436 - val_binary_accuracy: 0.9470\n",
            "278/278 [==============================] - 57s 158ms/step - loss: 0.0641 - binary_accuracy: 0.9742 - val_loss: 0.1464 - val_binary_accuracy: 0.9459\n",
            "278/278 [==============================] - 58s 160ms/step - loss: 0.0569 - binary_accuracy: 0.9776 - val_loss: 0.1633 - val_binary_accuracy: 0.9439\n",
            "278/278 [==============================] - 57s 160ms/step - loss: 0.0507 - binary_accuracy: 0.9803 - val_loss: 0.1606 - val_binary_accuracy: 0.9459\n",
            "278/278 [==============================] - 58s 155ms/step - loss: 0.0454 - binary_accuracy: 0.9825 - val_loss: 0.1752 - val_binary_accuracy: 0.9427\n",
            "278/278 [==============================] - 57s 154ms/step - loss: 0.0394 - binary_accuracy: 0.9849 - val_loss: 0.1861 - val_binary_accuracy: 0.9397\n",
            "278/278 [==============================] - 58s 157ms/step - loss: 0.0358 - binary_accuracy: 0.9866 - val_loss: 0.1923 - val_binary_accuracy: 0.9441\n",
            "Early stopping\n"
          ]
        },
        {
          "name": "stderr",
          "output_type": "stream",
          "text": [
            "WARNING:tensorflow:TPU system grpc://10.27.56.234:8470 has already been initialized. Reinitializing the TPU can cause previously created variables on TPU to be lost.\n"
          ]
        },
        {
          "name": "stdout",
          "output_type": "stream",
          "text": [
            "Running on TPU  grpc://10.27.56.234:8470\n",
            "REPLICAS:  8\n",
            "dieleman FOLD 2\n",
            "Loading model from gs://tomasmuzas-phd-datasets/SDSS/models/128x128/initial_models/dieleman\n",
            "Model: \"Dieleman\"\n",
            "_________________________________________________________________\n",
            " Layer (type)                Output Shape              Param #   \n",
            "=================================================================\n",
            " conv2d_4 (Conv2D)           (None, 123, 123, 32)      3488      \n",
            "                                                                 \n",
            " batch_normalization_3 (Batc  (None, 123, 123, 32)     128       \n",
            " hNormalization)                                                 \n",
            "                                                                 \n",
            " max_pooling2d_3 (MaxPooling  (None, 61, 61, 32)       0         \n",
            " 2D)                                                             \n",
            "                                                                 \n",
            " conv2d_5 (Conv2D)           (None, 57, 57, 64)        51264     \n",
            "                                                                 \n",
            " batch_normalization_4 (Batc  (None, 57, 57, 64)       256       \n",
            " hNormalization)                                                 \n",
            "                                                                 \n",
            " max_pooling2d_4 (MaxPooling  (None, 28, 28, 64)       0         \n",
            " 2D)                                                             \n",
            "                                                                 \n",
            " conv2d_6 (Conv2D)           (None, 26, 26, 128)       73856     \n",
            "                                                                 \n",
            " conv2d_7 (Conv2D)           (None, 24, 24, 128)       147584    \n",
            "                                                                 \n",
            " batch_normalization_5 (Batc  (None, 24, 24, 128)      512       \n",
            " hNormalization)                                                 \n",
            "                                                                 \n",
            " max_pooling2d_5 (MaxPooling  (None, 12, 12, 128)      0         \n",
            " 2D)                                                             \n",
            "                                                                 \n",
            " flatten_1 (Flatten)         (None, 18432)             0         \n",
            "                                                                 \n",
            " dropout_1 (Dropout)         (None, 18432)             0         \n",
            "                                                                 \n",
            " dense_3 (Dense)             (None, 256)               4718848   \n",
            "                                                                 \n",
            " dense_4 (Dense)             (None, 256)               65792     \n",
            "                                                                 \n",
            " dense_5 (Dense)             (None, 1)                 257       \n",
            "                                                                 \n",
            "=================================================================\n",
            "Total params: 5,061,985\n",
            "Trainable params: 5,061,537\n",
            "Non-trainable params: 448\n",
            "_________________________________________________________________\n",
            "278/278 [==============================] - 63s 165ms/step - loss: 0.2381 - binary_accuracy: 0.9042 - val_loss: 4.7184 - val_binary_accuracy: 0.2887\n",
            "278/278 [==============================] - 56s 155ms/step - loss: 0.1627 - binary_accuracy: 0.9344 - val_loss: 0.5077 - val_binary_accuracy: 0.7692\n",
            "Loss improved. Saving model.\n"
          ]
        },
        {
          "name": "stderr",
          "output_type": "stream",
          "text": [
            "WARNING:absl:Found untraced functions such as _jit_compiled_convolution_op, _jit_compiled_convolution_op, _jit_compiled_convolution_op, _jit_compiled_convolution_op while saving (showing 4 of 4). These functions will not be directly callable after loading.\n"
          ]
        },
        {
          "name": "stdout",
          "output_type": "stream",
          "text": [
            "278/278 [==============================] - 56s 155ms/step - loss: 0.1473 - binary_accuracy: 0.9407 - val_loss: 0.1900 - val_binary_accuracy: 0.9200\n",
            "Loss improved. Saving model.\n"
          ]
        },
        {
          "name": "stderr",
          "output_type": "stream",
          "text": [
            "WARNING:absl:Found untraced functions such as _jit_compiled_convolution_op, _jit_compiled_convolution_op, _jit_compiled_convolution_op, _jit_compiled_convolution_op while saving (showing 4 of 4). These functions will not be directly callable after loading.\n"
          ]
        },
        {
          "name": "stdout",
          "output_type": "stream",
          "text": [
            "278/278 [==============================] - 58s 157ms/step - loss: 0.1356 - binary_accuracy: 0.9451 - val_loss: 0.1627 - val_binary_accuracy: 0.9347\n",
            "Loss improved. Saving model.\n"
          ]
        },
        {
          "name": "stderr",
          "output_type": "stream",
          "text": [
            "WARNING:absl:Found untraced functions such as _jit_compiled_convolution_op, _jit_compiled_convolution_op, _jit_compiled_convolution_op, _jit_compiled_convolution_op while saving (showing 4 of 4). These functions will not be directly callable after loading.\n"
          ]
        },
        {
          "name": "stdout",
          "output_type": "stream",
          "text": [
            "278/278 [==============================] - 57s 156ms/step - loss: 0.1279 - binary_accuracy: 0.9476 - val_loss: 0.1433 - val_binary_accuracy: 0.9398\n",
            "Loss improved. Saving model.\n"
          ]
        },
        {
          "name": "stderr",
          "output_type": "stream",
          "text": [
            "WARNING:absl:Found untraced functions such as _jit_compiled_convolution_op, _jit_compiled_convolution_op, _jit_compiled_convolution_op, _jit_compiled_convolution_op while saving (showing 4 of 4). These functions will not be directly callable after loading.\n"
          ]
        },
        {
          "name": "stdout",
          "output_type": "stream",
          "text": [
            "278/278 [==============================] - 59s 156ms/step - loss: 0.1215 - binary_accuracy: 0.9505 - val_loss: 0.1699 - val_binary_accuracy: 0.9302\n",
            "278/278 [==============================] - 58s 157ms/step - loss: 0.1148 - binary_accuracy: 0.9533 - val_loss: 0.1269 - val_binary_accuracy: 0.9481\n",
            "Loss improved. Saving model.\n"
          ]
        },
        {
          "name": "stderr",
          "output_type": "stream",
          "text": [
            "WARNING:absl:Found untraced functions such as _jit_compiled_convolution_op, _jit_compiled_convolution_op, _jit_compiled_convolution_op, _jit_compiled_convolution_op while saving (showing 4 of 4). These functions will not be directly callable after loading.\n"
          ]
        },
        {
          "name": "stdout",
          "output_type": "stream",
          "text": [
            "278/278 [==============================] - 57s 159ms/step - loss: 0.1078 - binary_accuracy: 0.9558 - val_loss: 0.1392 - val_binary_accuracy: 0.9454\n",
            "278/278 [==============================] - 58s 157ms/step - loss: 0.1003 - binary_accuracy: 0.9589 - val_loss: 0.1459 - val_binary_accuracy: 0.9420\n",
            "278/278 [==============================] - 57s 156ms/step - loss: 0.0938 - binary_accuracy: 0.9619 - val_loss: 0.1291 - val_binary_accuracy: 0.9491\n",
            "278/278 [==============================] - 59s 156ms/step - loss: 0.0862 - binary_accuracy: 0.9648 - val_loss: 0.1328 - val_binary_accuracy: 0.9466\n",
            "278/278 [==============================] - 58s 156ms/step - loss: 0.0776 - binary_accuracy: 0.9685 - val_loss: 0.1410 - val_binary_accuracy: 0.9460\n",
            "278/278 [==============================] - 58s 157ms/step - loss: 0.0714 - binary_accuracy: 0.9713 - val_loss: 0.1598 - val_binary_accuracy: 0.9413\n",
            "278/278 [==============================] - 55s 157ms/step - loss: 0.0633 - binary_accuracy: 0.9747 - val_loss: 0.1696 - val_binary_accuracy: 0.9409\n",
            "278/278 [==============================] - 59s 159ms/step - loss: 0.0565 - binary_accuracy: 0.9779 - val_loss: 0.1626 - val_binary_accuracy: 0.9421\n",
            "278/278 [==============================] - 56s 155ms/step - loss: 0.0507 - binary_accuracy: 0.9802 - val_loss: 0.1554 - val_binary_accuracy: 0.9447\n",
            "278/278 [==============================] - 56s 155ms/step - loss: 0.0442 - binary_accuracy: 0.9829 - val_loss: 0.1559 - val_binary_accuracy: 0.9451\n",
            "Early stopping\n"
          ]
        },
        {
          "name": "stderr",
          "output_type": "stream",
          "text": [
            "WARNING:tensorflow:TPU system grpc://10.27.56.234:8470 has already been initialized. Reinitializing the TPU can cause previously created variables on TPU to be lost.\n"
          ]
        },
        {
          "name": "stdout",
          "output_type": "stream",
          "text": [
            "Running on TPU  grpc://10.27.56.234:8470\n",
            "REPLICAS:  8\n",
            "dieleman FOLD 3\n",
            "Loading model from gs://tomasmuzas-phd-datasets/SDSS/models/128x128/initial_models/dieleman\n",
            "Model: \"Dieleman\"\n",
            "_________________________________________________________________\n",
            " Layer (type)                Output Shape              Param #   \n",
            "=================================================================\n",
            " conv2d_4 (Conv2D)           (None, 123, 123, 32)      3488      \n",
            "                                                                 \n",
            " batch_normalization_3 (Batc  (None, 123, 123, 32)     128       \n",
            " hNormalization)                                                 \n",
            "                                                                 \n",
            " max_pooling2d_3 (MaxPooling  (None, 61, 61, 32)       0         \n",
            " 2D)                                                             \n",
            "                                                                 \n",
            " conv2d_5 (Conv2D)           (None, 57, 57, 64)        51264     \n",
            "                                                                 \n",
            " batch_normalization_4 (Batc  (None, 57, 57, 64)       256       \n",
            " hNormalization)                                                 \n",
            "                                                                 \n",
            " max_pooling2d_4 (MaxPooling  (None, 28, 28, 64)       0         \n",
            " 2D)                                                             \n",
            "                                                                 \n",
            " conv2d_6 (Conv2D)           (None, 26, 26, 128)       73856     \n",
            "                                                                 \n",
            " conv2d_7 (Conv2D)           (None, 24, 24, 128)       147584    \n",
            "                                                                 \n",
            " batch_normalization_5 (Batc  (None, 24, 24, 128)      512       \n",
            " hNormalization)                                                 \n",
            "                                                                 \n",
            " max_pooling2d_5 (MaxPooling  (None, 12, 12, 128)      0         \n",
            " 2D)                                                             \n",
            "                                                                 \n",
            " flatten_1 (Flatten)         (None, 18432)             0         \n",
            "                                                                 \n",
            " dropout_1 (Dropout)         (None, 18432)             0         \n",
            "                                                                 \n",
            " dense_3 (Dense)             (None, 256)               4718848   \n",
            "                                                                 \n",
            " dense_4 (Dense)             (None, 256)               65792     \n",
            "                                                                 \n",
            " dense_5 (Dense)             (None, 1)                 257       \n",
            "                                                                 \n",
            "=================================================================\n",
            "Total params: 5,061,985\n",
            "Trainable params: 5,061,537\n",
            "Non-trainable params: 448\n",
            "_________________________________________________________________\n",
            "278/278 [==============================] - 61s 161ms/step - loss: 0.2354 - binary_accuracy: 0.9053 - val_loss: 4.7734 - val_binary_accuracy: 0.2886\n",
            "278/278 [==============================] - 58s 157ms/step - loss: 0.1637 - binary_accuracy: 0.9345 - val_loss: 0.3228 - val_binary_accuracy: 0.8650\n",
            "Loss improved. Saving model.\n"
          ]
        },
        {
          "name": "stderr",
          "output_type": "stream",
          "text": [
            "WARNING:absl:Found untraced functions such as _jit_compiled_convolution_op, _jit_compiled_convolution_op, _jit_compiled_convolution_op, _jit_compiled_convolution_op while saving (showing 4 of 4). These functions will not be directly callable after loading.\n"
          ]
        },
        {
          "name": "stdout",
          "output_type": "stream",
          "text": [
            "278/278 [==============================] - 60s 161ms/step - loss: 0.1466 - binary_accuracy: 0.9411 - val_loss: 0.1564 - val_binary_accuracy: 0.9356\n",
            "Loss improved. Saving model.\n"
          ]
        },
        {
          "name": "stderr",
          "output_type": "stream",
          "text": [
            "WARNING:absl:Found untraced functions such as _jit_compiled_convolution_op, _jit_compiled_convolution_op, _jit_compiled_convolution_op, _jit_compiled_convolution_op while saving (showing 4 of 4). These functions will not be directly callable after loading.\n"
          ]
        },
        {
          "name": "stdout",
          "output_type": "stream",
          "text": [
            "278/278 [==============================] - 55s 158ms/step - loss: 0.1352 - binary_accuracy: 0.9452 - val_loss: 0.1376 - val_binary_accuracy: 0.9447\n",
            "Loss improved. Saving model.\n"
          ]
        },
        {
          "name": "stderr",
          "output_type": "stream",
          "text": [
            "WARNING:absl:Found untraced functions such as _jit_compiled_convolution_op, _jit_compiled_convolution_op, _jit_compiled_convolution_op, _jit_compiled_convolution_op while saving (showing 4 of 4). These functions will not be directly callable after loading.\n"
          ]
        },
        {
          "name": "stdout",
          "output_type": "stream",
          "text": [
            "278/278 [==============================] - 58s 157ms/step - loss: 0.1294 - binary_accuracy: 0.9475 - val_loss: 0.1337 - val_binary_accuracy: 0.9472\n",
            "Loss improved. Saving model.\n"
          ]
        },
        {
          "name": "stderr",
          "output_type": "stream",
          "text": [
            "WARNING:absl:Found untraced functions such as _jit_compiled_convolution_op, _jit_compiled_convolution_op, _jit_compiled_convolution_op, _jit_compiled_convolution_op while saving (showing 4 of 4). These functions will not be directly callable after loading.\n"
          ]
        },
        {
          "name": "stdout",
          "output_type": "stream",
          "text": [
            "278/278 [==============================] - 61s 156ms/step - loss: 0.1213 - binary_accuracy: 0.9507 - val_loss: 0.1411 - val_binary_accuracy: 0.9430\n",
            "278/278 [==============================] - 58s 154ms/step - loss: 0.1154 - binary_accuracy: 0.9531 - val_loss: 0.1532 - val_binary_accuracy: 0.9411\n",
            "278/278 [==============================] - 57s 156ms/step - loss: 0.1077 - binary_accuracy: 0.9561 - val_loss: 0.1489 - val_binary_accuracy: 0.9385\n",
            "278/278 [==============================] - 57s 155ms/step - loss: 0.1017 - binary_accuracy: 0.9581 - val_loss: 0.1411 - val_binary_accuracy: 0.9441\n",
            "278/278 [==============================] - 57s 155ms/step - loss: 0.0927 - binary_accuracy: 0.9623 - val_loss: 0.1335 - val_binary_accuracy: 0.9470\n",
            "Loss improved. Saving model.\n"
          ]
        },
        {
          "name": "stderr",
          "output_type": "stream",
          "text": [
            "WARNING:absl:Found untraced functions such as _jit_compiled_convolution_op, _jit_compiled_convolution_op, _jit_compiled_convolution_op, _jit_compiled_convolution_op while saving (showing 4 of 4). These functions will not be directly callable after loading.\n"
          ]
        },
        {
          "name": "stdout",
          "output_type": "stream",
          "text": [
            "278/278 [==============================] - 55s 156ms/step - loss: 0.0860 - binary_accuracy: 0.9651 - val_loss: 0.1504 - val_binary_accuracy: 0.9429\n",
            "278/278 [==============================] - 58s 154ms/step - loss: 0.0780 - binary_accuracy: 0.9684 - val_loss: 0.1424 - val_binary_accuracy: 0.9433\n",
            "278/278 [==============================] - 57s 155ms/step - loss: 0.0713 - binary_accuracy: 0.9710 - val_loss: 0.1433 - val_binary_accuracy: 0.9457\n",
            "278/278 [==============================] - 56s 156ms/step - loss: 0.0635 - binary_accuracy: 0.9743 - val_loss: 0.1502 - val_binary_accuracy: 0.9448\n",
            "278/278 [==============================] - 57s 153ms/step - loss: 0.0562 - binary_accuracy: 0.9776 - val_loss: 0.1586 - val_binary_accuracy: 0.9427\n",
            "278/278 [==============================] - 57s 155ms/step - loss: 0.0504 - binary_accuracy: 0.9803 - val_loss: 0.1717 - val_binary_accuracy: 0.9429\n",
            "278/278 [==============================] - 56s 155ms/step - loss: 0.0441 - binary_accuracy: 0.9826 - val_loss: 0.1725 - val_binary_accuracy: 0.9437\n",
            "278/278 [==============================] - 55s 153ms/step - loss: 0.0388 - binary_accuracy: 0.9851 - val_loss: 0.1982 - val_binary_accuracy: 0.9396\n",
            "278/278 [==============================] - 60s 154ms/step - loss: 0.0359 - binary_accuracy: 0.9863 - val_loss: 0.1882 - val_binary_accuracy: 0.9443\n",
            "278/278 [==============================] - 57s 157ms/step - loss: 0.0318 - binary_accuracy: 0.9881 - val_loss: 0.2091 - val_binary_accuracy: 0.9412\n",
            "Early stopping\n"
          ]
        },
        {
          "name": "stderr",
          "output_type": "stream",
          "text": [
            "WARNING:tensorflow:TPU system grpc://10.27.56.234:8470 has already been initialized. Reinitializing the TPU can cause previously created variables on TPU to be lost.\n"
          ]
        },
        {
          "name": "stdout",
          "output_type": "stream",
          "text": [
            "Running on TPU  grpc://10.27.56.234:8470\n",
            "REPLICAS:  8\n",
            "dieleman FOLD 4\n",
            "Loading model from gs://tomasmuzas-phd-datasets/SDSS/models/128x128/initial_models/dieleman\n",
            "Model: \"Dieleman\"\n",
            "_________________________________________________________________\n",
            " Layer (type)                Output Shape              Param #   \n",
            "=================================================================\n",
            " conv2d_4 (Conv2D)           (None, 123, 123, 32)      3488      \n",
            "                                                                 \n",
            " batch_normalization_3 (Batc  (None, 123, 123, 32)     128       \n",
            " hNormalization)                                                 \n",
            "                                                                 \n",
            " max_pooling2d_3 (MaxPooling  (None, 61, 61, 32)       0         \n",
            " 2D)                                                             \n",
            "                                                                 \n",
            " conv2d_5 (Conv2D)           (None, 57, 57, 64)        51264     \n",
            "                                                                 \n",
            " batch_normalization_4 (Batc  (None, 57, 57, 64)       256       \n",
            " hNormalization)                                                 \n",
            "                                                                 \n",
            " max_pooling2d_4 (MaxPooling  (None, 28, 28, 64)       0         \n",
            " 2D)                                                             \n",
            "                                                                 \n",
            " conv2d_6 (Conv2D)           (None, 26, 26, 128)       73856     \n",
            "                                                                 \n",
            " conv2d_7 (Conv2D)           (None, 24, 24, 128)       147584    \n",
            "                                                                 \n",
            " batch_normalization_5 (Batc  (None, 24, 24, 128)      512       \n",
            " hNormalization)                                                 \n",
            "                                                                 \n",
            " max_pooling2d_5 (MaxPooling  (None, 12, 12, 128)      0         \n",
            " 2D)                                                             \n",
            "                                                                 \n",
            " flatten_1 (Flatten)         (None, 18432)             0         \n",
            "                                                                 \n",
            " dropout_1 (Dropout)         (None, 18432)             0         \n",
            "                                                                 \n",
            " dense_3 (Dense)             (None, 256)               4718848   \n",
            "                                                                 \n",
            " dense_4 (Dense)             (None, 256)               65792     \n",
            "                                                                 \n",
            " dense_5 (Dense)             (None, 1)                 257       \n",
            "                                                                 \n",
            "=================================================================\n",
            "Total params: 5,061,985\n",
            "Trainable params: 5,061,537\n",
            "Non-trainable params: 448\n",
            "_________________________________________________________________\n",
            "278/278 [==============================] - 61s 160ms/step - loss: 0.2371 - binary_accuracy: 0.9045 - val_loss: 5.2902 - val_binary_accuracy: 0.2885\n",
            "278/278 [==============================] - 58s 154ms/step - loss: 0.1623 - binary_accuracy: 0.9347 - val_loss: 0.3273 - val_binary_accuracy: 0.8615\n",
            "Loss improved. Saving model.\n"
          ]
        },
        {
          "name": "stderr",
          "output_type": "stream",
          "text": [
            "WARNING:absl:Found untraced functions such as _jit_compiled_convolution_op, _jit_compiled_convolution_op, _jit_compiled_convolution_op, _jit_compiled_convolution_op while saving (showing 4 of 4). These functions will not be directly callable after loading.\n"
          ]
        },
        {
          "name": "stdout",
          "output_type": "stream",
          "text": [
            "278/278 [==============================] - 56s 155ms/step - loss: 0.1465 - binary_accuracy: 0.9407 - val_loss: 0.1486 - val_binary_accuracy: 0.9403\n",
            "Loss improved. Saving model.\n"
          ]
        },
        {
          "name": "stderr",
          "output_type": "stream",
          "text": [
            "WARNING:absl:Found untraced functions such as _jit_compiled_convolution_op, _jit_compiled_convolution_op, _jit_compiled_convolution_op, _jit_compiled_convolution_op while saving (showing 4 of 4). These functions will not be directly callable after loading.\n"
          ]
        },
        {
          "name": "stdout",
          "output_type": "stream",
          "text": [
            "278/278 [==============================] - 58s 155ms/step - loss: 0.1363 - binary_accuracy: 0.9450 - val_loss: 0.1379 - val_binary_accuracy: 0.9452\n",
            "Loss improved. Saving model.\n"
          ]
        },
        {
          "name": "stderr",
          "output_type": "stream",
          "text": [
            "WARNING:absl:Found untraced functions such as _jit_compiled_convolution_op, _jit_compiled_convolution_op, _jit_compiled_convolution_op, _jit_compiled_convolution_op while saving (showing 4 of 4). These functions will not be directly callable after loading.\n"
          ]
        },
        {
          "name": "stdout",
          "output_type": "stream",
          "text": [
            "278/278 [==============================] - 56s 155ms/step - loss: 0.1277 - binary_accuracy: 0.9482 - val_loss: 0.1415 - val_binary_accuracy: 0.9417\n",
            "278/278 [==============================] - 59s 157ms/step - loss: 0.1223 - binary_accuracy: 0.9503 - val_loss: 0.1358 - val_binary_accuracy: 0.9435\n",
            "Loss improved. Saving model.\n"
          ]
        },
        {
          "name": "stderr",
          "output_type": "stream",
          "text": [
            "WARNING:absl:Found untraced functions such as _jit_compiled_convolution_op, _jit_compiled_convolution_op, _jit_compiled_convolution_op, _jit_compiled_convolution_op while saving (showing 4 of 4). These functions will not be directly callable after loading.\n"
          ]
        },
        {
          "name": "stdout",
          "output_type": "stream",
          "text": [
            "278/278 [==============================] - 57s 155ms/step - loss: 0.1142 - binary_accuracy: 0.9534 - val_loss: 0.1729 - val_binary_accuracy: 0.9291\n",
            "278/278 [==============================] - 56s 155ms/step - loss: 0.1085 - binary_accuracy: 0.9557 - val_loss: 0.1396 - val_binary_accuracy: 0.9449\n",
            "278/278 [==============================] - 59s 158ms/step - loss: 0.1016 - binary_accuracy: 0.9588 - val_loss: 0.1391 - val_binary_accuracy: 0.9417\n",
            "278/278 [==============================] - 55s 157ms/step - loss: 0.0937 - binary_accuracy: 0.9621 - val_loss: 0.1371 - val_binary_accuracy: 0.9452\n",
            "278/278 [==============================] - 56s 158ms/step - loss: 0.0858 - binary_accuracy: 0.9651 - val_loss: 0.1445 - val_binary_accuracy: 0.9439\n",
            "278/278 [==============================] - 57s 158ms/step - loss: 0.0794 - binary_accuracy: 0.9676 - val_loss: 0.1513 - val_binary_accuracy: 0.9414\n",
            "278/278 [==============================] - 58s 157ms/step - loss: 0.0723 - binary_accuracy: 0.9707 - val_loss: 0.1616 - val_binary_accuracy: 0.9446\n",
            "278/278 [==============================] - 56s 158ms/step - loss: 0.0642 - binary_accuracy: 0.9744 - val_loss: 0.1584 - val_binary_accuracy: 0.9449\n",
            "278/278 [==============================] - 59s 157ms/step - loss: 0.0565 - binary_accuracy: 0.9777 - val_loss: 0.1694 - val_binary_accuracy: 0.9416\n",
            "278/278 [==============================] - 56s 155ms/step - loss: 0.0513 - binary_accuracy: 0.9797 - val_loss: 0.1763 - val_binary_accuracy: 0.9405\n",
            "Early stopping\n"
          ]
        },
        {
          "name": "stderr",
          "output_type": "stream",
          "text": [
            "WARNING:tensorflow:TPU system grpc://10.27.56.234:8470 has already been initialized. Reinitializing the TPU can cause previously created variables on TPU to be lost.\n"
          ]
        },
        {
          "name": "stdout",
          "output_type": "stream",
          "text": [
            "Running on TPU  grpc://10.27.56.234:8470\n",
            "REPLICAS:  8\n",
            "dieleman FOLD 5\n",
            "Loading model from gs://tomasmuzas-phd-datasets/SDSS/models/128x128/initial_models/dieleman\n",
            "Model: \"Dieleman\"\n",
            "_________________________________________________________________\n",
            " Layer (type)                Output Shape              Param #   \n",
            "=================================================================\n",
            " conv2d_4 (Conv2D)           (None, 123, 123, 32)      3488      \n",
            "                                                                 \n",
            " batch_normalization_3 (Batc  (None, 123, 123, 32)     128       \n",
            " hNormalization)                                                 \n",
            "                                                                 \n",
            " max_pooling2d_3 (MaxPooling  (None, 61, 61, 32)       0         \n",
            " 2D)                                                             \n",
            "                                                                 \n",
            " conv2d_5 (Conv2D)           (None, 57, 57, 64)        51264     \n",
            "                                                                 \n",
            " batch_normalization_4 (Batc  (None, 57, 57, 64)       256       \n",
            " hNormalization)                                                 \n",
            "                                                                 \n",
            " max_pooling2d_4 (MaxPooling  (None, 28, 28, 64)       0         \n",
            " 2D)                                                             \n",
            "                                                                 \n",
            " conv2d_6 (Conv2D)           (None, 26, 26, 128)       73856     \n",
            "                                                                 \n",
            " conv2d_7 (Conv2D)           (None, 24, 24, 128)       147584    \n",
            "                                                                 \n",
            " batch_normalization_5 (Batc  (None, 24, 24, 128)      512       \n",
            " hNormalization)                                                 \n",
            "                                                                 \n",
            " max_pooling2d_5 (MaxPooling  (None, 12, 12, 128)      0         \n",
            " 2D)                                                             \n",
            "                                                                 \n",
            " flatten_1 (Flatten)         (None, 18432)             0         \n",
            "                                                                 \n",
            " dropout_1 (Dropout)         (None, 18432)             0         \n",
            "                                                                 \n",
            " dense_3 (Dense)             (None, 256)               4718848   \n",
            "                                                                 \n",
            " dense_4 (Dense)             (None, 256)               65792     \n",
            "                                                                 \n",
            " dense_5 (Dense)             (None, 1)                 257       \n",
            "                                                                 \n",
            "=================================================================\n",
            "Total params: 5,061,985\n",
            "Trainable params: 5,061,537\n",
            "Non-trainable params: 448\n",
            "_________________________________________________________________\n",
            "278/278 [==============================] - 62s 159ms/step - loss: 0.2396 - binary_accuracy: 0.9030 - val_loss: 5.2797 - val_binary_accuracy: 0.2886\n",
            "278/278 [==============================] - 57s 156ms/step - loss: 0.1652 - binary_accuracy: 0.9336 - val_loss: 0.2682 - val_binary_accuracy: 0.8949\n",
            "Loss improved. Saving model.\n"
          ]
        },
        {
          "name": "stderr",
          "output_type": "stream",
          "text": [
            "WARNING:absl:Found untraced functions such as _jit_compiled_convolution_op, _jit_compiled_convolution_op, _jit_compiled_convolution_op, _jit_compiled_convolution_op while saving (showing 4 of 4). These functions will not be directly callable after loading.\n"
          ]
        },
        {
          "name": "stdout",
          "output_type": "stream",
          "text": [
            "278/278 [==============================] - 57s 154ms/step - loss: 0.1482 - binary_accuracy: 0.9400 - val_loss: 0.1566 - val_binary_accuracy: 0.9370\n",
            "Loss improved. Saving model.\n"
          ]
        },
        {
          "name": "stderr",
          "output_type": "stream",
          "text": [
            "WARNING:absl:Found untraced functions such as _jit_compiled_convolution_op, _jit_compiled_convolution_op, _jit_compiled_convolution_op, _jit_compiled_convolution_op while saving (showing 4 of 4). These functions will not be directly callable after loading.\n"
          ]
        },
        {
          "name": "stdout",
          "output_type": "stream",
          "text": [
            "278/278 [==============================] - 55s 154ms/step - loss: 0.1375 - binary_accuracy: 0.9442 - val_loss: 0.1373 - val_binary_accuracy: 0.9454\n",
            "Loss improved. Saving model.\n"
          ]
        },
        {
          "name": "stderr",
          "output_type": "stream",
          "text": [
            "WARNING:absl:Found untraced functions such as _jit_compiled_convolution_op, _jit_compiled_convolution_op, _jit_compiled_convolution_op, _jit_compiled_convolution_op while saving (showing 4 of 4). These functions will not be directly callable after loading.\n"
          ]
        },
        {
          "name": "stdout",
          "output_type": "stream",
          "text": [
            "278/278 [==============================] - 59s 155ms/step - loss: 0.1288 - binary_accuracy: 0.9478 - val_loss: 0.1440 - val_binary_accuracy: 0.9418\n",
            "278/278 [==============================] - 56s 155ms/step - loss: 0.1209 - binary_accuracy: 0.9511 - val_loss: 0.1379 - val_binary_accuracy: 0.9448\n",
            "278/278 [==============================] - 59s 160ms/step - loss: 0.1149 - binary_accuracy: 0.9532 - val_loss: 0.1575 - val_binary_accuracy: 0.9355\n",
            "278/278 [==============================] - 60s 155ms/step - loss: 0.1082 - binary_accuracy: 0.9557 - val_loss: 0.1353 - val_binary_accuracy: 0.9471\n",
            "Loss improved. Saving model.\n"
          ]
        },
        {
          "name": "stderr",
          "output_type": "stream",
          "text": [
            "WARNING:absl:Found untraced functions such as _jit_compiled_convolution_op, _jit_compiled_convolution_op, _jit_compiled_convolution_op, _jit_compiled_convolution_op while saving (showing 4 of 4). These functions will not be directly callable after loading.\n"
          ]
        },
        {
          "name": "stdout",
          "output_type": "stream",
          "text": [
            "278/278 [==============================] - 59s 156ms/step - loss: 0.1012 - binary_accuracy: 0.9583 - val_loss: 0.1391 - val_binary_accuracy: 0.9442\n",
            "278/278 [==============================] - 57s 155ms/step - loss: 0.0933 - binary_accuracy: 0.9619 - val_loss: 0.1561 - val_binary_accuracy: 0.9402\n",
            "278/278 [==============================] - 57s 155ms/step - loss: 0.0855 - binary_accuracy: 0.9650 - val_loss: 0.1509 - val_binary_accuracy: 0.9452\n",
            "278/278 [==============================] - 55s 156ms/step - loss: 0.0784 - binary_accuracy: 0.9681 - val_loss: 0.1467 - val_binary_accuracy: 0.9481\n",
            "278/278 [==============================] - 55s 156ms/step - loss: 0.0722 - binary_accuracy: 0.9707 - val_loss: 0.1568 - val_binary_accuracy: 0.9422\n",
            "278/278 [==============================] - 59s 154ms/step - loss: 0.0640 - binary_accuracy: 0.9744 - val_loss: 0.1730 - val_binary_accuracy: 0.9401\n",
            "278/278 [==============================] - 58s 155ms/step - loss: 0.0562 - binary_accuracy: 0.9777 - val_loss: 0.1570 - val_binary_accuracy: 0.9457\n",
            "278/278 [==============================] - 56s 156ms/step - loss: 0.0503 - binary_accuracy: 0.9805 - val_loss: 0.2070 - val_binary_accuracy: 0.9387\n",
            "278/278 [==============================] - 57s 153ms/step - loss: 0.0454 - binary_accuracy: 0.9823 - val_loss: 0.2009 - val_binary_accuracy: 0.9392\n",
            "278/278 [==============================] - 55s 154ms/step - loss: 0.0399 - binary_accuracy: 0.9847 - val_loss: 0.1784 - val_binary_accuracy: 0.9451\n",
            "Early stopping\n"
          ]
        },
        {
          "name": "stderr",
          "output_type": "stream",
          "text": [
            "WARNING:tensorflow:TPU system grpc://10.27.56.234:8470 has already been initialized. Reinitializing the TPU can cause previously created variables on TPU to be lost.\n"
          ]
        },
        {
          "name": "stdout",
          "output_type": "stream",
          "text": [
            "Running on TPU  grpc://10.27.56.234:8470\n",
            "REPLICAS:  8\n",
            "dieleman FOLD 6\n",
            "Loading model from gs://tomasmuzas-phd-datasets/SDSS/models/128x128/initial_models/dieleman\n",
            "Model: \"Dieleman\"\n",
            "_________________________________________________________________\n",
            " Layer (type)                Output Shape              Param #   \n",
            "=================================================================\n",
            " conv2d_4 (Conv2D)           (None, 123, 123, 32)      3488      \n",
            "                                                                 \n",
            " batch_normalization_3 (Batc  (None, 123, 123, 32)     128       \n",
            " hNormalization)                                                 \n",
            "                                                                 \n",
            " max_pooling2d_3 (MaxPooling  (None, 61, 61, 32)       0         \n",
            " 2D)                                                             \n",
            "                                                                 \n",
            " conv2d_5 (Conv2D)           (None, 57, 57, 64)        51264     \n",
            "                                                                 \n",
            " batch_normalization_4 (Batc  (None, 57, 57, 64)       256       \n",
            " hNormalization)                                                 \n",
            "                                                                 \n",
            " max_pooling2d_4 (MaxPooling  (None, 28, 28, 64)       0         \n",
            " 2D)                                                             \n",
            "                                                                 \n",
            " conv2d_6 (Conv2D)           (None, 26, 26, 128)       73856     \n",
            "                                                                 \n",
            " conv2d_7 (Conv2D)           (None, 24, 24, 128)       147584    \n",
            "                                                                 \n",
            " batch_normalization_5 (Batc  (None, 24, 24, 128)      512       \n",
            " hNormalization)                                                 \n",
            "                                                                 \n",
            " max_pooling2d_5 (MaxPooling  (None, 12, 12, 128)      0         \n",
            " 2D)                                                             \n",
            "                                                                 \n",
            " flatten_1 (Flatten)         (None, 18432)             0         \n",
            "                                                                 \n",
            " dropout_1 (Dropout)         (None, 18432)             0         \n",
            "                                                                 \n",
            " dense_3 (Dense)             (None, 256)               4718848   \n",
            "                                                                 \n",
            " dense_4 (Dense)             (None, 256)               65792     \n",
            "                                                                 \n",
            " dense_5 (Dense)             (None, 1)                 257       \n",
            "                                                                 \n",
            "=================================================================\n",
            "Total params: 5,061,985\n",
            "Trainable params: 5,061,537\n",
            "Non-trainable params: 448\n",
            "_________________________________________________________________\n",
            "278/278 [==============================] - 63s 159ms/step - loss: 0.2396 - binary_accuracy: 0.9042 - val_loss: 4.9808 - val_binary_accuracy: 0.2886\n",
            "278/278 [==============================] - 57s 155ms/step - loss: 0.1643 - binary_accuracy: 0.9341 - val_loss: 0.6029 - val_binary_accuracy: 0.7496\n",
            "Loss improved. Saving model.\n"
          ]
        },
        {
          "name": "stderr",
          "output_type": "stream",
          "text": [
            "WARNING:absl:Found untraced functions such as _jit_compiled_convolution_op, _jit_compiled_convolution_op, _jit_compiled_convolution_op, _jit_compiled_convolution_op while saving (showing 4 of 4). These functions will not be directly callable after loading.\n"
          ]
        },
        {
          "name": "stdout",
          "output_type": "stream",
          "text": [
            "278/278 [==============================] - 59s 155ms/step - loss: 0.1478 - binary_accuracy: 0.9405 - val_loss: 0.1378 - val_binary_accuracy: 0.9436\n",
            "Loss improved. Saving model.\n"
          ]
        },
        {
          "name": "stderr",
          "output_type": "stream",
          "text": [
            "WARNING:absl:Found untraced functions such as _jit_compiled_convolution_op, _jit_compiled_convolution_op, _jit_compiled_convolution_op, _jit_compiled_convolution_op while saving (showing 4 of 4). These functions will not be directly callable after loading.\n"
          ]
        },
        {
          "name": "stdout",
          "output_type": "stream",
          "text": [
            "278/278 [==============================] - 57s 157ms/step - loss: 0.1363 - binary_accuracy: 0.9450 - val_loss: 0.1436 - val_binary_accuracy: 0.9429\n",
            "278/278 [==============================] - 55s 155ms/step - loss: 0.1293 - binary_accuracy: 0.9477 - val_loss: 0.1349 - val_binary_accuracy: 0.9453\n",
            "Loss improved. Saving model.\n"
          ]
        },
        {
          "name": "stderr",
          "output_type": "stream",
          "text": [
            "WARNING:absl:Found untraced functions such as _jit_compiled_convolution_op, _jit_compiled_convolution_op, _jit_compiled_convolution_op, _jit_compiled_convolution_op while saving (showing 4 of 4). These functions will not be directly callable after loading.\n"
          ]
        },
        {
          "name": "stdout",
          "output_type": "stream",
          "text": [
            "278/278 [==============================] - 57s 154ms/step - loss: 0.1212 - binary_accuracy: 0.9506 - val_loss: 0.1311 - val_binary_accuracy: 0.9474\n",
            "Loss improved. Saving model.\n"
          ]
        },
        {
          "name": "stderr",
          "output_type": "stream",
          "text": [
            "WARNING:absl:Found untraced functions such as _jit_compiled_convolution_op, _jit_compiled_convolution_op, _jit_compiled_convolution_op, _jit_compiled_convolution_op while saving (showing 4 of 4). These functions will not be directly callable after loading.\n"
          ]
        },
        {
          "name": "stdout",
          "output_type": "stream",
          "text": [
            "278/278 [==============================] - 57s 157ms/step - loss: 0.1148 - binary_accuracy: 0.9530 - val_loss: 0.1310 - val_binary_accuracy: 0.9469\n",
            "Loss improved. Saving model.\n"
          ]
        },
        {
          "name": "stderr",
          "output_type": "stream",
          "text": [
            "WARNING:absl:Found untraced functions such as _jit_compiled_convolution_op, _jit_compiled_convolution_op, _jit_compiled_convolution_op, _jit_compiled_convolution_op while saving (showing 4 of 4). These functions will not be directly callable after loading.\n"
          ]
        },
        {
          "name": "stdout",
          "output_type": "stream",
          "text": [
            "278/278 [==============================] - 58s 154ms/step - loss: 0.1081 - binary_accuracy: 0.9556 - val_loss: 0.1244 - val_binary_accuracy: 0.9503\n",
            "Loss improved. Saving model.\n"
          ]
        },
        {
          "name": "stderr",
          "output_type": "stream",
          "text": [
            "WARNING:absl:Found untraced functions such as _jit_compiled_convolution_op, _jit_compiled_convolution_op, _jit_compiled_convolution_op, _jit_compiled_convolution_op while saving (showing 4 of 4). These functions will not be directly callable after loading.\n"
          ]
        },
        {
          "name": "stdout",
          "output_type": "stream",
          "text": [
            "278/278 [==============================] - 58s 155ms/step - loss: 0.1011 - binary_accuracy: 0.9588 - val_loss: 0.1312 - val_binary_accuracy: 0.9485\n",
            "278/278 [==============================] - 57s 154ms/step - loss: 0.0944 - binary_accuracy: 0.9615 - val_loss: 0.1390 - val_binary_accuracy: 0.9454\n",
            "278/278 [==============================] - 59s 156ms/step - loss: 0.0870 - binary_accuracy: 0.9649 - val_loss: 0.1324 - val_binary_accuracy: 0.9474\n",
            "278/278 [==============================] - 56s 156ms/step - loss: 0.0792 - binary_accuracy: 0.9681 - val_loss: 0.1364 - val_binary_accuracy: 0.9473\n",
            "278/278 [==============================] - 57s 154ms/step - loss: 0.0710 - binary_accuracy: 0.9712 - val_loss: 0.1413 - val_binary_accuracy: 0.9463\n",
            "278/278 [==============================] - 59s 155ms/step - loss: 0.0641 - binary_accuracy: 0.9744 - val_loss: 0.1425 - val_binary_accuracy: 0.9463\n",
            "278/278 [==============================] - 57s 155ms/step - loss: 0.0565 - binary_accuracy: 0.9776 - val_loss: 0.1416 - val_binary_accuracy: 0.9482\n",
            "278/278 [==============================] - 56s 154ms/step - loss: 0.0507 - binary_accuracy: 0.9803 - val_loss: 0.1722 - val_binary_accuracy: 0.9428\n",
            "278/278 [==============================] - 55s 155ms/step - loss: 0.0469 - binary_accuracy: 0.9817 - val_loss: 0.1591 - val_binary_accuracy: 0.9474\n",
            "278/278 [==============================] - 56s 155ms/step - loss: 0.0407 - binary_accuracy: 0.9843 - val_loss: 0.1580 - val_binary_accuracy: 0.9473\n",
            "Early stopping\n"
          ]
        },
        {
          "name": "stderr",
          "output_type": "stream",
          "text": [
            "WARNING:tensorflow:TPU system grpc://10.27.56.234:8470 has already been initialized. Reinitializing the TPU can cause previously created variables on TPU to be lost.\n"
          ]
        },
        {
          "name": "stdout",
          "output_type": "stream",
          "text": [
            "Running on TPU  grpc://10.27.56.234:8470\n",
            "REPLICAS:  8\n",
            "dieleman FOLD 7\n",
            "Loading model from gs://tomasmuzas-phd-datasets/SDSS/models/128x128/initial_models/dieleman\n",
            "Model: \"Dieleman\"\n",
            "_________________________________________________________________\n",
            " Layer (type)                Output Shape              Param #   \n",
            "=================================================================\n",
            " conv2d_4 (Conv2D)           (None, 123, 123, 32)      3488      \n",
            "                                                                 \n",
            " batch_normalization_3 (Batc  (None, 123, 123, 32)     128       \n",
            " hNormalization)                                                 \n",
            "                                                                 \n",
            " max_pooling2d_3 (MaxPooling  (None, 61, 61, 32)       0         \n",
            " 2D)                                                             \n",
            "                                                                 \n",
            " conv2d_5 (Conv2D)           (None, 57, 57, 64)        51264     \n",
            "                                                                 \n",
            " batch_normalization_4 (Batc  (None, 57, 57, 64)       256       \n",
            " hNormalization)                                                 \n",
            "                                                                 \n",
            " max_pooling2d_4 (MaxPooling  (None, 28, 28, 64)       0         \n",
            " 2D)                                                             \n",
            "                                                                 \n",
            " conv2d_6 (Conv2D)           (None, 26, 26, 128)       73856     \n",
            "                                                                 \n",
            " conv2d_7 (Conv2D)           (None, 24, 24, 128)       147584    \n",
            "                                                                 \n",
            " batch_normalization_5 (Batc  (None, 24, 24, 128)      512       \n",
            " hNormalization)                                                 \n",
            "                                                                 \n",
            " max_pooling2d_5 (MaxPooling  (None, 12, 12, 128)      0         \n",
            " 2D)                                                             \n",
            "                                                                 \n",
            " flatten_1 (Flatten)         (None, 18432)             0         \n",
            "                                                                 \n",
            " dropout_1 (Dropout)         (None, 18432)             0         \n",
            "                                                                 \n",
            " dense_3 (Dense)             (None, 256)               4718848   \n",
            "                                                                 \n",
            " dense_4 (Dense)             (None, 256)               65792     \n",
            "                                                                 \n",
            " dense_5 (Dense)             (None, 1)                 257       \n",
            "                                                                 \n",
            "=================================================================\n",
            "Total params: 5,061,985\n",
            "Trainable params: 5,061,537\n",
            "Non-trainable params: 448\n",
            "_________________________________________________________________\n",
            "278/278 [==============================] - 66s 165ms/step - loss: 0.2389 - binary_accuracy: 0.9036 - val_loss: 5.4221 - val_binary_accuracy: 0.2886\n",
            "278/278 [==============================] - 57s 157ms/step - loss: 0.1638 - binary_accuracy: 0.9337 - val_loss: 0.5672 - val_binary_accuracy: 0.7392\n",
            "Loss improved. Saving model.\n"
          ]
        },
        {
          "name": "stderr",
          "output_type": "stream",
          "text": [
            "WARNING:absl:Found untraced functions such as _jit_compiled_convolution_op, _jit_compiled_convolution_op, _jit_compiled_convolution_op, _jit_compiled_convolution_op while saving (showing 4 of 4). These functions will not be directly callable after loading.\n"
          ]
        },
        {
          "name": "stdout",
          "output_type": "stream",
          "text": [
            "278/278 [==============================] - 59s 156ms/step - loss: 0.1470 - binary_accuracy: 0.9408 - val_loss: 0.1514 - val_binary_accuracy: 0.9389\n",
            "Loss improved. Saving model.\n"
          ]
        },
        {
          "name": "stderr",
          "output_type": "stream",
          "text": [
            "WARNING:absl:Found untraced functions such as _jit_compiled_convolution_op, _jit_compiled_convolution_op, _jit_compiled_convolution_op, _jit_compiled_convolution_op while saving (showing 4 of 4). These functions will not be directly callable after loading.\n"
          ]
        },
        {
          "name": "stdout",
          "output_type": "stream",
          "text": [
            "278/278 [==============================] - 58s 157ms/step - loss: 0.1354 - binary_accuracy: 0.9452 - val_loss: 0.1358 - val_binary_accuracy: 0.9446\n",
            "Loss improved. Saving model.\n"
          ]
        },
        {
          "name": "stderr",
          "output_type": "stream",
          "text": [
            "WARNING:absl:Found untraced functions such as _jit_compiled_convolution_op, _jit_compiled_convolution_op, _jit_compiled_convolution_op, _jit_compiled_convolution_op while saving (showing 4 of 4). These functions will not be directly callable after loading.\n"
          ]
        },
        {
          "name": "stdout",
          "output_type": "stream",
          "text": [
            "278/278 [==============================] - 54s 154ms/step - loss: 0.1274 - binary_accuracy: 0.9485 - val_loss: 0.1358 - val_binary_accuracy: 0.9447\n",
            "278/278 [==============================] - 54s 153ms/step - loss: 0.1213 - binary_accuracy: 0.9507 - val_loss: 0.1371 - val_binary_accuracy: 0.9434\n",
            "278/278 [==============================] - 57s 154ms/step - loss: 0.1143 - binary_accuracy: 0.9536 - val_loss: 0.1378 - val_binary_accuracy: 0.9459\n",
            "278/278 [==============================] - 57s 154ms/step - loss: 0.1071 - binary_accuracy: 0.9562 - val_loss: 0.1344 - val_binary_accuracy: 0.9445\n",
            "Loss improved. Saving model.\n"
          ]
        },
        {
          "name": "stderr",
          "output_type": "stream",
          "text": [
            "WARNING:absl:Found untraced functions such as _jit_compiled_convolution_op, _jit_compiled_convolution_op, _jit_compiled_convolution_op, _jit_compiled_convolution_op while saving (showing 4 of 4). These functions will not be directly callable after loading.\n"
          ]
        },
        {
          "name": "stdout",
          "output_type": "stream",
          "text": [
            "278/278 [==============================] - 56s 155ms/step - loss: 0.0996 - binary_accuracy: 0.9596 - val_loss: 0.1394 - val_binary_accuracy: 0.9441\n",
            "278/278 [==============================] - 56s 154ms/step - loss: 0.0941 - binary_accuracy: 0.9618 - val_loss: 0.1367 - val_binary_accuracy: 0.9467\n",
            "278/278 [==============================] - 56s 155ms/step - loss: 0.0854 - binary_accuracy: 0.9653 - val_loss: 0.1511 - val_binary_accuracy: 0.9428\n",
            "278/278 [==============================] - 59s 157ms/step - loss: 0.0777 - binary_accuracy: 0.9690 - val_loss: 0.1436 - val_binary_accuracy: 0.9448\n",
            "278/278 [==============================] - 56s 156ms/step - loss: 0.0699 - binary_accuracy: 0.9720 - val_loss: 0.1483 - val_binary_accuracy: 0.9433\n",
            "278/278 [==============================] - 56s 155ms/step - loss: 0.0630 - binary_accuracy: 0.9752 - val_loss: 0.1607 - val_binary_accuracy: 0.9420\n",
            "278/278 [==============================] - 57s 155ms/step - loss: 0.0555 - binary_accuracy: 0.9784 - val_loss: 0.1642 - val_binary_accuracy: 0.9452\n",
            "278/278 [==============================] - 55s 155ms/step - loss: 0.0504 - binary_accuracy: 0.9803 - val_loss: 0.1566 - val_binary_accuracy: 0.9432\n",
            "278/278 [==============================] - 58s 154ms/step - loss: 0.0437 - binary_accuracy: 0.9832 - val_loss: 0.1665 - val_binary_accuracy: 0.9454\n",
            "278/278 [==============================] - 56s 154ms/step - loss: 0.0401 - binary_accuracy: 0.9848 - val_loss: 0.1733 - val_binary_accuracy: 0.9465\n",
            "Early stopping\n"
          ]
        },
        {
          "name": "stderr",
          "output_type": "stream",
          "text": [
            "WARNING:tensorflow:TPU system grpc://10.27.56.234:8470 has already been initialized. Reinitializing the TPU can cause previously created variables on TPU to be lost.\n"
          ]
        },
        {
          "name": "stdout",
          "output_type": "stream",
          "text": [
            "Running on TPU  grpc://10.27.56.234:8470\n",
            "REPLICAS:  8\n",
            "dieleman FOLD 8\n",
            "Loading model from gs://tomasmuzas-phd-datasets/SDSS/models/128x128/initial_models/dieleman\n",
            "Model: \"Dieleman\"\n",
            "_________________________________________________________________\n",
            " Layer (type)                Output Shape              Param #   \n",
            "=================================================================\n",
            " conv2d_4 (Conv2D)           (None, 123, 123, 32)      3488      \n",
            "                                                                 \n",
            " batch_normalization_3 (Batc  (None, 123, 123, 32)     128       \n",
            " hNormalization)                                                 \n",
            "                                                                 \n",
            " max_pooling2d_3 (MaxPooling  (None, 61, 61, 32)       0         \n",
            " 2D)                                                             \n",
            "                                                                 \n",
            " conv2d_5 (Conv2D)           (None, 57, 57, 64)        51264     \n",
            "                                                                 \n",
            " batch_normalization_4 (Batc  (None, 57, 57, 64)       256       \n",
            " hNormalization)                                                 \n",
            "                                                                 \n",
            " max_pooling2d_4 (MaxPooling  (None, 28, 28, 64)       0         \n",
            " 2D)                                                             \n",
            "                                                                 \n",
            " conv2d_6 (Conv2D)           (None, 26, 26, 128)       73856     \n",
            "                                                                 \n",
            " conv2d_7 (Conv2D)           (None, 24, 24, 128)       147584    \n",
            "                                                                 \n",
            " batch_normalization_5 (Batc  (None, 24, 24, 128)      512       \n",
            " hNormalization)                                                 \n",
            "                                                                 \n",
            " max_pooling2d_5 (MaxPooling  (None, 12, 12, 128)      0         \n",
            " 2D)                                                             \n",
            "                                                                 \n",
            " flatten_1 (Flatten)         (None, 18432)             0         \n",
            "                                                                 \n",
            " dropout_1 (Dropout)         (None, 18432)             0         \n",
            "                                                                 \n",
            " dense_3 (Dense)             (None, 256)               4718848   \n",
            "                                                                 \n",
            " dense_4 (Dense)             (None, 256)               65792     \n",
            "                                                                 \n",
            " dense_5 (Dense)             (None, 1)                 257       \n",
            "                                                                 \n",
            "=================================================================\n",
            "Total params: 5,061,985\n",
            "Trainable params: 5,061,537\n",
            "Non-trainable params: 448\n",
            "_________________________________________________________________\n",
            "278/278 [==============================] - 62s 157ms/step - loss: 0.2396 - binary_accuracy: 0.9036 - val_loss: 4.8075 - val_binary_accuracy: 0.2886\n",
            "278/278 [==============================] - 55s 154ms/step - loss: 0.1642 - binary_accuracy: 0.9342 - val_loss: 0.3756 - val_binary_accuracy: 0.8394\n",
            "Loss improved. Saving model.\n"
          ]
        },
        {
          "name": "stderr",
          "output_type": "stream",
          "text": [
            "WARNING:absl:Found untraced functions such as _jit_compiled_convolution_op, _jit_compiled_convolution_op, _jit_compiled_convolution_op, _jit_compiled_convolution_op while saving (showing 4 of 4). These functions will not be directly callable after loading.\n"
          ]
        },
        {
          "name": "stdout",
          "output_type": "stream",
          "text": [
            "278/278 [==============================] - 58s 155ms/step - loss: 0.1478 - binary_accuracy: 0.9403 - val_loss: 0.1413 - val_binary_accuracy: 0.9420\n",
            "Loss improved. Saving model.\n"
          ]
        },
        {
          "name": "stderr",
          "output_type": "stream",
          "text": [
            "WARNING:absl:Found untraced functions such as _jit_compiled_convolution_op, _jit_compiled_convolution_op, _jit_compiled_convolution_op, _jit_compiled_convolution_op while saving (showing 4 of 4). These functions will not be directly callable after loading.\n"
          ]
        },
        {
          "name": "stdout",
          "output_type": "stream",
          "text": [
            "278/278 [==============================] - 57s 156ms/step - loss: 0.1367 - binary_accuracy: 0.9446 - val_loss: 0.1491 - val_binary_accuracy: 0.9404\n",
            "278/278 [==============================] - 58s 156ms/step - loss: 0.1283 - binary_accuracy: 0.9477 - val_loss: 0.1497 - val_binary_accuracy: 0.9415\n",
            "278/278 [==============================] - 57s 154ms/step - loss: 0.1222 - binary_accuracy: 0.9503 - val_loss: 0.1274 - val_binary_accuracy: 0.9487\n",
            "Loss improved. Saving model.\n"
          ]
        },
        {
          "name": "stderr",
          "output_type": "stream",
          "text": [
            "WARNING:absl:Found untraced functions such as _jit_compiled_convolution_op, _jit_compiled_convolution_op, _jit_compiled_convolution_op, _jit_compiled_convolution_op while saving (showing 4 of 4). These functions will not be directly callable after loading.\n"
          ]
        },
        {
          "name": "stdout",
          "output_type": "stream",
          "text": [
            "278/278 [==============================] - 59s 156ms/step - loss: 0.1155 - binary_accuracy: 0.9531 - val_loss: 0.1340 - val_binary_accuracy: 0.9445\n",
            "278/278 [==============================] - 59s 156ms/step - loss: 0.1087 - binary_accuracy: 0.9554 - val_loss: 0.1300 - val_binary_accuracy: 0.9489\n",
            "278/278 [==============================] - 58s 155ms/step - loss: 0.1003 - binary_accuracy: 0.9589 - val_loss: 0.1284 - val_binary_accuracy: 0.9491\n",
            "278/278 [==============================] - 57s 155ms/step - loss: 0.0940 - binary_accuracy: 0.9613 - val_loss: 0.1326 - val_binary_accuracy: 0.9477\n",
            "278/278 [==============================] - 56s 157ms/step - loss: 0.0864 - binary_accuracy: 0.9647 - val_loss: 0.1362 - val_binary_accuracy: 0.9478\n",
            "278/278 [==============================] - 57s 159ms/step - loss: 0.0790 - binary_accuracy: 0.9678 - val_loss: 0.1388 - val_binary_accuracy: 0.9472\n",
            "278/278 [==============================] - 58s 158ms/step - loss: 0.0713 - binary_accuracy: 0.9714 - val_loss: 0.1530 - val_binary_accuracy: 0.9447\n",
            "278/278 [==============================] - 58s 157ms/step - loss: 0.0632 - binary_accuracy: 0.9748 - val_loss: 0.1588 - val_binary_accuracy: 0.9440\n",
            "278/278 [==============================] - 56s 156ms/step - loss: 0.0567 - binary_accuracy: 0.9775 - val_loss: 0.1581 - val_binary_accuracy: 0.9441\n",
            "278/278 [==============================] - 57s 156ms/step - loss: 0.0503 - binary_accuracy: 0.9801 - val_loss: 0.1525 - val_binary_accuracy: 0.9481\n",
            "Early stopping\n"
          ]
        },
        {
          "name": "stderr",
          "output_type": "stream",
          "text": [
            "WARNING:tensorflow:TPU system grpc://10.27.56.234:8470 has already been initialized. Reinitializing the TPU can cause previously created variables on TPU to be lost.\n"
          ]
        },
        {
          "name": "stdout",
          "output_type": "stream",
          "text": [
            "Running on TPU  grpc://10.27.56.234:8470\n",
            "REPLICAS:  8\n",
            "dieleman FOLD 9\n",
            "Loading model from gs://tomasmuzas-phd-datasets/SDSS/models/128x128/initial_models/dieleman\n",
            "Model: \"Dieleman\"\n",
            "_________________________________________________________________\n",
            " Layer (type)                Output Shape              Param #   \n",
            "=================================================================\n",
            " conv2d_4 (Conv2D)           (None, 123, 123, 32)      3488      \n",
            "                                                                 \n",
            " batch_normalization_3 (Batc  (None, 123, 123, 32)     128       \n",
            " hNormalization)                                                 \n",
            "                                                                 \n",
            " max_pooling2d_3 (MaxPooling  (None, 61, 61, 32)       0         \n",
            " 2D)                                                             \n",
            "                                                                 \n",
            " conv2d_5 (Conv2D)           (None, 57, 57, 64)        51264     \n",
            "                                                                 \n",
            " batch_normalization_4 (Batc  (None, 57, 57, 64)       256       \n",
            " hNormalization)                                                 \n",
            "                                                                 \n",
            " max_pooling2d_4 (MaxPooling  (None, 28, 28, 64)       0         \n",
            " 2D)                                                             \n",
            "                                                                 \n",
            " conv2d_6 (Conv2D)           (None, 26, 26, 128)       73856     \n",
            "                                                                 \n",
            " conv2d_7 (Conv2D)           (None, 24, 24, 128)       147584    \n",
            "                                                                 \n",
            " batch_normalization_5 (Batc  (None, 24, 24, 128)      512       \n",
            " hNormalization)                                                 \n",
            "                                                                 \n",
            " max_pooling2d_5 (MaxPooling  (None, 12, 12, 128)      0         \n",
            " 2D)                                                             \n",
            "                                                                 \n",
            " flatten_1 (Flatten)         (None, 18432)             0         \n",
            "                                                                 \n",
            " dropout_1 (Dropout)         (None, 18432)             0         \n",
            "                                                                 \n",
            " dense_3 (Dense)             (None, 256)               4718848   \n",
            "                                                                 \n",
            " dense_4 (Dense)             (None, 256)               65792     \n",
            "                                                                 \n",
            " dense_5 (Dense)             (None, 1)                 257       \n",
            "                                                                 \n",
            "=================================================================\n",
            "Total params: 5,061,985\n",
            "Trainable params: 5,061,537\n",
            "Non-trainable params: 448\n",
            "_________________________________________________________________\n",
            "278/278 [==============================] - 64s 162ms/step - loss: 0.2349 - binary_accuracy: 0.9055 - val_loss: 4.7855 - val_binary_accuracy: 0.2886\n",
            "278/278 [==============================] - 57s 157ms/step - loss: 0.1633 - binary_accuracy: 0.9342 - val_loss: 0.4833 - val_binary_accuracy: 0.7771\n",
            "Loss improved. Saving model.\n"
          ]
        },
        {
          "name": "stderr",
          "output_type": "stream",
          "text": [
            "WARNING:absl:Found untraced functions such as _jit_compiled_convolution_op, _jit_compiled_convolution_op, _jit_compiled_convolution_op, _jit_compiled_convolution_op while saving (showing 4 of 4). These functions will not be directly callable after loading.\n"
          ]
        },
        {
          "name": "stdout",
          "output_type": "stream",
          "text": [
            "278/278 [==============================] - 57s 154ms/step - loss: 0.1465 - binary_accuracy: 0.9408 - val_loss: 0.1595 - val_binary_accuracy: 0.9349\n",
            "Loss improved. Saving model.\n"
          ]
        },
        {
          "name": "stderr",
          "output_type": "stream",
          "text": [
            "WARNING:absl:Found untraced functions such as _jit_compiled_convolution_op, _jit_compiled_convolution_op, _jit_compiled_convolution_op, _jit_compiled_convolution_op while saving (showing 4 of 4). These functions will not be directly callable after loading.\n"
          ]
        },
        {
          "name": "stdout",
          "output_type": "stream",
          "text": [
            "278/278 [==============================] - 55s 154ms/step - loss: 0.1363 - binary_accuracy: 0.9452 - val_loss: 0.1413 - val_binary_accuracy: 0.9431\n",
            "Loss improved. Saving model.\n"
          ]
        },
        {
          "name": "stderr",
          "output_type": "stream",
          "text": [
            "WARNING:absl:Found untraced functions such as _jit_compiled_convolution_op, _jit_compiled_convolution_op, _jit_compiled_convolution_op, _jit_compiled_convolution_op while saving (showing 4 of 4). These functions will not be directly callable after loading.\n"
          ]
        },
        {
          "name": "stdout",
          "output_type": "stream",
          "text": [
            "278/278 [==============================] - 58s 157ms/step - loss: 0.1275 - binary_accuracy: 0.9485 - val_loss: 0.1424 - val_binary_accuracy: 0.9409\n",
            "278/278 [==============================] - 58s 156ms/step - loss: 0.1213 - binary_accuracy: 0.9508 - val_loss: 0.1288 - val_binary_accuracy: 0.9471\n",
            "Loss improved. Saving model.\n"
          ]
        },
        {
          "name": "stderr",
          "output_type": "stream",
          "text": [
            "WARNING:absl:Found untraced functions such as _jit_compiled_convolution_op, _jit_compiled_convolution_op, _jit_compiled_convolution_op, _jit_compiled_convolution_op while saving (showing 4 of 4). These functions will not be directly callable after loading.\n"
          ]
        },
        {
          "name": "stdout",
          "output_type": "stream",
          "text": [
            "278/278 [==============================] - 59s 155ms/step - loss: 0.1147 - binary_accuracy: 0.9536 - val_loss: 0.1296 - val_binary_accuracy: 0.9482\n",
            "278/278 [==============================] - 57s 156ms/step - loss: 0.1082 - binary_accuracy: 0.9559 - val_loss: 0.1533 - val_binary_accuracy: 0.9368\n",
            "278/278 [==============================] - 59s 156ms/step - loss: 0.1004 - binary_accuracy: 0.9588 - val_loss: 0.1310 - val_binary_accuracy: 0.9467\n",
            "278/278 [==============================] - 55s 155ms/step - loss: 0.0933 - binary_accuracy: 0.9621 - val_loss: 0.1334 - val_binary_accuracy: 0.9474\n",
            "278/278 [==============================] - 57s 156ms/step - loss: 0.0864 - binary_accuracy: 0.9651 - val_loss: 0.1347 - val_binary_accuracy: 0.9463\n",
            "278/278 [==============================] - 57s 156ms/step - loss: 0.0778 - binary_accuracy: 0.9684 - val_loss: 0.1423 - val_binary_accuracy: 0.9440\n",
            "278/278 [==============================] - 59s 158ms/step - loss: 0.0705 - binary_accuracy: 0.9717 - val_loss: 0.1450 - val_binary_accuracy: 0.9457\n",
            "278/278 [==============================] - 58s 156ms/step - loss: 0.0626 - binary_accuracy: 0.9751 - val_loss: 0.1466 - val_binary_accuracy: 0.9448\n",
            "278/278 [==============================] - 56s 155ms/step - loss: 0.0561 - binary_accuracy: 0.9781 - val_loss: 0.1599 - val_binary_accuracy: 0.9442\n",
            "278/278 [==============================] - 55s 158ms/step - loss: 0.0488 - binary_accuracy: 0.9808 - val_loss: 0.1655 - val_binary_accuracy: 0.9448\n",
            "Early stopping\n"
          ]
        },
        {
          "name": "stderr",
          "output_type": "stream",
          "text": [
            "WARNING:tensorflow:TPU system grpc://10.27.56.234:8470 has already been initialized. Reinitializing the TPU can cause previously created variables on TPU to be lost.\n"
          ]
        },
        {
          "name": "stdout",
          "output_type": "stream",
          "text": [
            "Running on TPU  grpc://10.27.56.234:8470\n",
            "REPLICAS:  8\n",
            "dieleman FOLD 10\n",
            "Loading model from gs://tomasmuzas-phd-datasets/SDSS/models/128x128/initial_models/dieleman\n",
            "Model: \"Dieleman\"\n",
            "_________________________________________________________________\n",
            " Layer (type)                Output Shape              Param #   \n",
            "=================================================================\n",
            " conv2d_4 (Conv2D)           (None, 123, 123, 32)      3488      \n",
            "                                                                 \n",
            " batch_normalization_3 (Batc  (None, 123, 123, 32)     128       \n",
            " hNormalization)                                                 \n",
            "                                                                 \n",
            " max_pooling2d_3 (MaxPooling  (None, 61, 61, 32)       0         \n",
            " 2D)                                                             \n",
            "                                                                 \n",
            " conv2d_5 (Conv2D)           (None, 57, 57, 64)        51264     \n",
            "                                                                 \n",
            " batch_normalization_4 (Batc  (None, 57, 57, 64)       256       \n",
            " hNormalization)                                                 \n",
            "                                                                 \n",
            " max_pooling2d_4 (MaxPooling  (None, 28, 28, 64)       0         \n",
            " 2D)                                                             \n",
            "                                                                 \n",
            " conv2d_6 (Conv2D)           (None, 26, 26, 128)       73856     \n",
            "                                                                 \n",
            " conv2d_7 (Conv2D)           (None, 24, 24, 128)       147584    \n",
            "                                                                 \n",
            " batch_normalization_5 (Batc  (None, 24, 24, 128)      512       \n",
            " hNormalization)                                                 \n",
            "                                                                 \n",
            " max_pooling2d_5 (MaxPooling  (None, 12, 12, 128)      0         \n",
            " 2D)                                                             \n",
            "                                                                 \n",
            " flatten_1 (Flatten)         (None, 18432)             0         \n",
            "                                                                 \n",
            " dropout_1 (Dropout)         (None, 18432)             0         \n",
            "                                                                 \n",
            " dense_3 (Dense)             (None, 256)               4718848   \n",
            "                                                                 \n",
            " dense_4 (Dense)             (None, 256)               65792     \n",
            "                                                                 \n",
            " dense_5 (Dense)             (None, 1)                 257       \n",
            "                                                                 \n",
            "=================================================================\n",
            "Total params: 5,061,985\n",
            "Trainable params: 5,061,537\n",
            "Non-trainable params: 448\n",
            "_________________________________________________________________\n",
            "278/278 [==============================] - 64s 160ms/step - loss: 0.2368 - binary_accuracy: 0.9043 - val_loss: 4.6751 - val_binary_accuracy: 0.2886\n",
            "278/278 [==============================] - 57s 156ms/step - loss: 0.1642 - binary_accuracy: 0.9337 - val_loss: 0.2659 - val_binary_accuracy: 0.8912\n",
            "Loss improved. Saving model.\n"
          ]
        },
        {
          "name": "stderr",
          "output_type": "stream",
          "text": [
            "WARNING:absl:Found untraced functions such as _jit_compiled_convolution_op, _jit_compiled_convolution_op, _jit_compiled_convolution_op, _jit_compiled_convolution_op while saving (showing 4 of 4). These functions will not be directly callable after loading.\n"
          ]
        },
        {
          "name": "stdout",
          "output_type": "stream",
          "text": [
            "278/278 [==============================] - 59s 155ms/step - loss: 0.1464 - binary_accuracy: 0.9410 - val_loss: 0.1488 - val_binary_accuracy: 0.9407\n",
            "Loss improved. Saving model.\n"
          ]
        },
        {
          "name": "stderr",
          "output_type": "stream",
          "text": [
            "WARNING:absl:Found untraced functions such as _jit_compiled_convolution_op, _jit_compiled_convolution_op, _jit_compiled_convolution_op, _jit_compiled_convolution_op while saving (showing 4 of 4). These functions will not be directly callable after loading.\n"
          ]
        },
        {
          "name": "stdout",
          "output_type": "stream",
          "text": [
            "278/278 [==============================] - 61s 155ms/step - loss: 0.1368 - binary_accuracy: 0.9448 - val_loss: 0.1359 - val_binary_accuracy: 0.9448\n",
            "Loss improved. Saving model.\n"
          ]
        },
        {
          "name": "stderr",
          "output_type": "stream",
          "text": [
            "WARNING:absl:Found untraced functions such as _jit_compiled_convolution_op, _jit_compiled_convolution_op, _jit_compiled_convolution_op, _jit_compiled_convolution_op while saving (showing 4 of 4). These functions will not be directly callable after loading.\n"
          ]
        },
        {
          "name": "stdout",
          "output_type": "stream",
          "text": [
            "278/278 [==============================] - 58s 157ms/step - loss: 0.1283 - binary_accuracy: 0.9479 - val_loss: 0.1332 - val_binary_accuracy: 0.9460\n",
            "Loss improved. Saving model.\n"
          ]
        },
        {
          "name": "stderr",
          "output_type": "stream",
          "text": [
            "WARNING:absl:Found untraced functions such as _jit_compiled_convolution_op, _jit_compiled_convolution_op, _jit_compiled_convolution_op, _jit_compiled_convolution_op while saving (showing 4 of 4). These functions will not be directly callable after loading.\n"
          ]
        },
        {
          "name": "stdout",
          "output_type": "stream",
          "text": [
            "278/278 [==============================] - 58s 156ms/step - loss: 0.1218 - binary_accuracy: 0.9504 - val_loss: 0.1346 - val_binary_accuracy: 0.9456\n",
            "278/278 [==============================] - 58s 158ms/step - loss: 0.1156 - binary_accuracy: 0.9530 - val_loss: 0.1294 - val_binary_accuracy: 0.9478\n",
            "Loss improved. Saving model.\n"
          ]
        },
        {
          "name": "stderr",
          "output_type": "stream",
          "text": [
            "WARNING:absl:Found untraced functions such as _jit_compiled_convolution_op, _jit_compiled_convolution_op, _jit_compiled_convolution_op, _jit_compiled_convolution_op while saving (showing 4 of 4). These functions will not be directly callable after loading.\n"
          ]
        },
        {
          "name": "stdout",
          "output_type": "stream",
          "text": [
            "278/278 [==============================] - 57s 157ms/step - loss: 0.1081 - binary_accuracy: 0.9558 - val_loss: 0.1462 - val_binary_accuracy: 0.9421\n",
            "278/278 [==============================] - 57s 157ms/step - loss: 0.1014 - binary_accuracy: 0.9583 - val_loss: 0.1347 - val_binary_accuracy: 0.9464\n",
            "278/278 [==============================] - 59s 158ms/step - loss: 0.0949 - binary_accuracy: 0.9610 - val_loss: 0.1438 - val_binary_accuracy: 0.9449\n",
            "278/278 [==============================] - 58s 157ms/step - loss: 0.0874 - binary_accuracy: 0.9641 - val_loss: 0.1387 - val_binary_accuracy: 0.9439\n",
            "278/278 [==============================] - 58s 159ms/step - loss: 0.0798 - binary_accuracy: 0.9674 - val_loss: 0.1538 - val_binary_accuracy: 0.9426\n",
            "278/278 [==============================] - 59s 157ms/step - loss: 0.0705 - binary_accuracy: 0.9719 - val_loss: 0.1437 - val_binary_accuracy: 0.9450\n",
            "278/278 [==============================] - 57s 156ms/step - loss: 0.0642 - binary_accuracy: 0.9746 - val_loss: 0.1445 - val_binary_accuracy: 0.9482\n",
            "278/278 [==============================] - 60s 157ms/step - loss: 0.0583 - binary_accuracy: 0.9767 - val_loss: 0.1559 - val_binary_accuracy: 0.9399\n",
            "278/278 [==============================] - 59s 159ms/step - loss: 0.0522 - binary_accuracy: 0.9793 - val_loss: 0.1690 - val_binary_accuracy: 0.9426\n",
            "278/278 [==============================] - 58s 163ms/step - loss: 0.0460 - binary_accuracy: 0.9820 - val_loss: 0.1804 - val_binary_accuracy: 0.9438\n",
            "Early stopping\n"
          ]
        },
        {
          "name": "stderr",
          "output_type": "stream",
          "text": [
            "WARNING:tensorflow:TPU system grpc://10.27.56.234:8470 has already been initialized. Reinitializing the TPU can cause previously created variables on TPU to be lost.\n"
          ]
        },
        {
          "name": "stdout",
          "output_type": "stream",
          "text": [
            "Running on TPU  grpc://10.27.56.234:8470\n",
            "REPLICAS:  8\n",
            "resnet50 FOLD 1\n",
            "Loading model from gs://tomasmuzas-phd-datasets/SDSS/models/128x128/initial_models/resnet50\n",
            "Model: \"sequential\"\n",
            "_________________________________________________________________\n",
            " Layer (type)                Output Shape              Param #   \n",
            "=================================================================\n",
            " resnet50 (Functional)       (None, 2048)              23587712  \n",
            "                                                                 \n",
            " dense_6 (Dense)             (None, 1)                 2049      \n",
            "                                                                 \n",
            "=================================================================\n",
            "Total params: 23,589,761\n",
            "Trainable params: 23,536,641\n",
            "Non-trainable params: 53,120\n",
            "_________________________________________________________________\n",
            "278/278 [==============================] - 164s 312ms/step - loss: 0.2260 - binary_accuracy: 0.9069 - val_loss: 1.8113 - val_binary_accuracy: 0.7114\n",
            "278/278 [==============================] - 95s 286ms/step - loss: 0.1683 - binary_accuracy: 0.9316 - val_loss: 2.9380 - val_binary_accuracy: 0.7114\n",
            "278/278 [==============================] - 97s 288ms/step - loss: 0.1511 - binary_accuracy: 0.9385 - val_loss: 0.3513 - val_binary_accuracy: 0.8657\n",
            "Loss improved. Saving model.\n"
          ]
        },
        {
          "name": "stderr",
          "output_type": "stream",
          "text": [
            "WARNING:absl:Found untraced functions such as _jit_compiled_convolution_op, _jit_compiled_convolution_op, _jit_compiled_convolution_op, _jit_compiled_convolution_op, _jit_compiled_convolution_op while saving (showing 5 of 53). These functions will not be directly callable after loading.\n"
          ]
        },
        {
          "name": "stdout",
          "output_type": "stream",
          "text": [
            "278/278 [==============================] - 103s 290ms/step - loss: 0.1402 - binary_accuracy: 0.9428 - val_loss: 0.1554 - val_binary_accuracy: 0.9353\n",
            "Loss improved. Saving model.\n"
          ]
        },
        {
          "name": "stderr",
          "output_type": "stream",
          "text": [
            "WARNING:absl:Found untraced functions such as _jit_compiled_convolution_op, _jit_compiled_convolution_op, _jit_compiled_convolution_op, _jit_compiled_convolution_op, _jit_compiled_convolution_op while saving (showing 5 of 53). These functions will not be directly callable after loading.\n"
          ]
        },
        {
          "name": "stdout",
          "output_type": "stream",
          "text": [
            "278/278 [==============================] - 103s 290ms/step - loss: 0.1325 - binary_accuracy: 0.9457 - val_loss: 0.1465 - val_binary_accuracy: 0.9415\n",
            "Loss improved. Saving model.\n"
          ]
        },
        {
          "name": "stderr",
          "output_type": "stream",
          "text": [
            "WARNING:absl:Found untraced functions such as _jit_compiled_convolution_op, _jit_compiled_convolution_op, _jit_compiled_convolution_op, _jit_compiled_convolution_op, _jit_compiled_convolution_op while saving (showing 5 of 53). These functions will not be directly callable after loading.\n"
          ]
        },
        {
          "name": "stdout",
          "output_type": "stream",
          "text": [
            "278/278 [==============================] - 104s 289ms/step - loss: 0.1229 - binary_accuracy: 0.9495 - val_loss: 0.2178 - val_binary_accuracy: 0.9144\n",
            "278/278 [==============================] - 101s 286ms/step - loss: 0.1168 - binary_accuracy: 0.9524 - val_loss: 0.1798 - val_binary_accuracy: 0.9275\n",
            "278/278 [==============================] - 102s 287ms/step - loss: 0.1084 - binary_accuracy: 0.9556 - val_loss: 0.1606 - val_binary_accuracy: 0.9392\n",
            "278/278 [==============================] - 106s 288ms/step - loss: 0.0997 - binary_accuracy: 0.9593 - val_loss: 0.2123 - val_binary_accuracy: 0.9172\n",
            "278/278 [==============================] - 99s 285ms/step - loss: 0.0909 - binary_accuracy: 0.9629 - val_loss: 0.2097 - val_binary_accuracy: 0.9249\n",
            "278/278 [==============================] - 100s 285ms/step - loss: 0.0808 - binary_accuracy: 0.9671 - val_loss: 0.2690 - val_binary_accuracy: 0.9136\n",
            "278/278 [==============================] - 100s 286ms/step - loss: 0.0698 - binary_accuracy: 0.9718 - val_loss: 0.2140 - val_binary_accuracy: 0.9321\n",
            "278/278 [==============================] - 98s 286ms/step - loss: 0.0597 - binary_accuracy: 0.9762 - val_loss: 0.2297 - val_binary_accuracy: 0.9213\n",
            "278/278 [==============================] - 100s 288ms/step - loss: 0.0503 - binary_accuracy: 0.9799 - val_loss: 0.2213 - val_binary_accuracy: 0.9306\n",
            "278/278 [==============================] - 99s 290ms/step - loss: 0.0424 - binary_accuracy: 0.9833 - val_loss: 0.2433 - val_binary_accuracy: 0.9317\n",
            "Early stopping\n"
          ]
        },
        {
          "name": "stderr",
          "output_type": "stream",
          "text": [
            "WARNING:tensorflow:TPU system grpc://10.27.56.234:8470 has already been initialized. Reinitializing the TPU can cause previously created variables on TPU to be lost.\n"
          ]
        },
        {
          "name": "stdout",
          "output_type": "stream",
          "text": [
            "Running on TPU  grpc://10.27.56.234:8470\n",
            "REPLICAS:  8\n",
            "resnet50 FOLD 2\n",
            "Loading model from gs://tomasmuzas-phd-datasets/SDSS/models/128x128/initial_models/resnet50\n",
            "Model: \"sequential\"\n",
            "_________________________________________________________________\n",
            " Layer (type)                Output Shape              Param #   \n",
            "=================================================================\n",
            " resnet50 (Functional)       (None, 2048)              23587712  \n",
            "                                                                 \n",
            " dense_6 (Dense)             (None, 1)                 2049      \n",
            "                                                                 \n",
            "=================================================================\n",
            "Total params: 23,589,761\n",
            "Trainable params: 23,536,641\n",
            "Non-trainable params: 53,120\n",
            "_________________________________________________________________\n",
            "278/278 [==============================] - 134s 302ms/step - loss: 0.2205 - binary_accuracy: 0.9093 - val_loss: 2.3100 - val_binary_accuracy: 0.7113\n",
            "278/278 [==============================] - 103s 287ms/step - loss: 0.1675 - binary_accuracy: 0.9322 - val_loss: 2.6285 - val_binary_accuracy: 0.7115\n",
            "278/278 [==============================] - 98s 288ms/step - loss: 0.1512 - binary_accuracy: 0.9389 - val_loss: 0.5110 - val_binary_accuracy: 0.8149\n",
            "Loss improved. Saving model.\n"
          ]
        },
        {
          "name": "stderr",
          "output_type": "stream",
          "text": [
            "WARNING:absl:Found untraced functions such as _jit_compiled_convolution_op, _jit_compiled_convolution_op, _jit_compiled_convolution_op, _jit_compiled_convolution_op, _jit_compiled_convolution_op while saving (showing 5 of 53). These functions will not be directly callable after loading.\n"
          ]
        },
        {
          "name": "stdout",
          "output_type": "stream",
          "text": [
            "278/278 [==============================] - 99s 289ms/step - loss: 0.1395 - binary_accuracy: 0.9432 - val_loss: 0.1804 - val_binary_accuracy: 0.9236\n",
            "Loss improved. Saving model.\n"
          ]
        },
        {
          "name": "stderr",
          "output_type": "stream",
          "text": [
            "WARNING:absl:Found untraced functions such as _jit_compiled_convolution_op, _jit_compiled_convolution_op, _jit_compiled_convolution_op, _jit_compiled_convolution_op, _jit_compiled_convolution_op while saving (showing 5 of 53). These functions will not be directly callable after loading.\n"
          ]
        },
        {
          "name": "stdout",
          "output_type": "stream",
          "text": [
            "278/278 [==============================] - 101s 294ms/step - loss: 0.1298 - binary_accuracy: 0.9469 - val_loss: 0.1896 - val_binary_accuracy: 0.9247\n",
            "278/278 [==============================] - 98s 293ms/step - loss: 0.1224 - binary_accuracy: 0.9501 - val_loss: 0.2632 - val_binary_accuracy: 0.8871\n",
            "278/278 [==============================] - 108s 296ms/step - loss: 0.1168 - binary_accuracy: 0.9520 - val_loss: 0.1917 - val_binary_accuracy: 0.9279\n",
            "278/278 [==============================] - 103s 293ms/step - loss: 0.1085 - binary_accuracy: 0.9559 - val_loss: 0.2593 - val_binary_accuracy: 0.9141\n",
            "278/278 [==============================] - 102s 295ms/step - loss: 0.1005 - binary_accuracy: 0.9590 - val_loss: 0.3537 - val_binary_accuracy: 0.8745\n",
            "278/278 [==============================] - 104s 294ms/step - loss: 0.0896 - binary_accuracy: 0.9639 - val_loss: 0.2066 - val_binary_accuracy: 0.9216\n",
            "278/278 [==============================] - 103s 292ms/step - loss: 0.0815 - binary_accuracy: 0.9669 - val_loss: 0.1625 - val_binary_accuracy: 0.9378\n",
            "Loss improved. Saving model.\n"
          ]
        },
        {
          "name": "stderr",
          "output_type": "stream",
          "text": [
            "WARNING:absl:Found untraced functions such as _jit_compiled_convolution_op, _jit_compiled_convolution_op, _jit_compiled_convolution_op, _jit_compiled_convolution_op, _jit_compiled_convolution_op while saving (showing 5 of 53). These functions will not be directly callable after loading.\n"
          ]
        },
        {
          "name": "stdout",
          "output_type": "stream",
          "text": [
            "278/278 [==============================] - 108s 291ms/step - loss: 0.0697 - binary_accuracy: 0.9722 - val_loss: 0.2241 - val_binary_accuracy: 0.9298\n",
            "278/278 [==============================] - 101s 292ms/step - loss: 0.0612 - binary_accuracy: 0.9756 - val_loss: 0.1937 - val_binary_accuracy: 0.9344\n",
            "278/278 [==============================] - 104s 293ms/step - loss: 0.0499 - binary_accuracy: 0.9805 - val_loss: 0.2579 - val_binary_accuracy: 0.9259\n",
            "278/278 [==============================] - 98s 291ms/step - loss: 0.0417 - binary_accuracy: 0.9838 - val_loss: 0.2623 - val_binary_accuracy: 0.9338\n",
            "278/278 [==============================] - 99s 289ms/step - loss: 0.0352 - binary_accuracy: 0.9864 - val_loss: 0.3203 - val_binary_accuracy: 0.9183\n",
            "278/278 [==============================] - 102s 294ms/step - loss: 0.0302 - binary_accuracy: 0.9884 - val_loss: 0.3001 - val_binary_accuracy: 0.9335\n",
            "278/278 [==============================] - 106s 292ms/step - loss: 0.0257 - binary_accuracy: 0.9902 - val_loss: 0.2863 - val_binary_accuracy: 0.9220\n",
            "278/278 [==============================] - 100s 291ms/step - loss: 0.0248 - binary_accuracy: 0.9906 - val_loss: 0.2401 - val_binary_accuracy: 0.9328\n",
            "278/278 [==============================] - 102s 291ms/step - loss: 0.0210 - binary_accuracy: 0.9921 - val_loss: 0.4245 - val_binary_accuracy: 0.9041\n",
            "278/278 [==============================] - 101s 292ms/step - loss: 0.0211 - binary_accuracy: 0.9922 - val_loss: 0.3373 - val_binary_accuracy: 0.9202\n",
            "Early stopping\n"
          ]
        },
        {
          "name": "stderr",
          "output_type": "stream",
          "text": [
            "WARNING:tensorflow:TPU system grpc://10.27.56.234:8470 has already been initialized. Reinitializing the TPU can cause previously created variables on TPU to be lost.\n"
          ]
        },
        {
          "name": "stdout",
          "output_type": "stream",
          "text": [
            "Running on TPU  grpc://10.27.56.234:8470\n",
            "REPLICAS:  8\n",
            "resnet50 FOLD 3\n",
            "Loading model from gs://tomasmuzas-phd-datasets/SDSS/models/128x128/initial_models/resnet50\n",
            "Model: \"sequential\"\n",
            "_________________________________________________________________\n",
            " Layer (type)                Output Shape              Param #   \n",
            "=================================================================\n",
            " resnet50 (Functional)       (None, 2048)              23587712  \n",
            "                                                                 \n",
            " dense_6 (Dense)             (None, 1)                 2049      \n",
            "                                                                 \n",
            "=================================================================\n",
            "Total params: 23,589,761\n",
            "Trainable params: 23,536,641\n",
            "Non-trainable params: 53,120\n",
            "_________________________________________________________________\n",
            "278/278 [==============================] - 132s 306ms/step - loss: 0.2275 - binary_accuracy: 0.9058 - val_loss: 1.4246 - val_binary_accuracy: 0.7114\n",
            "278/278 [==============================] - 101s 287ms/step - loss: 0.1681 - binary_accuracy: 0.9319 - val_loss: 3.9433 - val_binary_accuracy: 0.7114\n",
            "278/278 [==============================] - 104s 289ms/step - loss: 0.1502 - binary_accuracy: 0.9394 - val_loss: 0.3162 - val_binary_accuracy: 0.8641\n",
            "Loss improved. Saving model.\n"
          ]
        },
        {
          "name": "stderr",
          "output_type": "stream",
          "text": [
            "WARNING:absl:Found untraced functions such as _jit_compiled_convolution_op, _jit_compiled_convolution_op, _jit_compiled_convolution_op, _jit_compiled_convolution_op, _jit_compiled_convolution_op while saving (showing 5 of 53). These functions will not be directly callable after loading.\n"
          ]
        },
        {
          "name": "stdout",
          "output_type": "stream",
          "text": [
            "278/278 [==============================] - 105s 292ms/step - loss: 0.1384 - binary_accuracy: 0.9435 - val_loss: 0.1577 - val_binary_accuracy: 0.9366\n",
            "Loss improved. Saving model.\n"
          ]
        },
        {
          "name": "stderr",
          "output_type": "stream",
          "text": [
            "WARNING:absl:Found untraced functions such as _jit_compiled_convolution_op, _jit_compiled_convolution_op, _jit_compiled_convolution_op, _jit_compiled_convolution_op, _jit_compiled_convolution_op while saving (showing 5 of 53). These functions will not be directly callable after loading.\n"
          ]
        },
        {
          "name": "stdout",
          "output_type": "stream",
          "text": [
            "278/278 [==============================] - 101s 288ms/step - loss: 0.1297 - binary_accuracy: 0.9467 - val_loss: 0.6534 - val_binary_accuracy: 0.7900\n",
            "278/278 [==============================] - 103s 290ms/step - loss: 0.1206 - binary_accuracy: 0.9506 - val_loss: 0.1748 - val_binary_accuracy: 0.9370\n",
            "278/278 [==============================] - 106s 291ms/step - loss: 0.1127 - binary_accuracy: 0.9540 - val_loss: 0.1705 - val_binary_accuracy: 0.9300\n",
            "278/278 [==============================] - 100s 289ms/step - loss: 0.1071 - binary_accuracy: 0.9564 - val_loss: 0.3002 - val_binary_accuracy: 0.9050\n",
            "278/278 [==============================] - 101s 292ms/step - loss: 0.0995 - binary_accuracy: 0.9592 - val_loss: 0.2533 - val_binary_accuracy: 0.9152\n",
            "278/278 [==============================] - 102s 291ms/step - loss: 0.0895 - binary_accuracy: 0.9639 - val_loss: 0.2037 - val_binary_accuracy: 0.9255\n",
            "278/278 [==============================] - 100s 292ms/step - loss: 0.0804 - binary_accuracy: 0.9674 - val_loss: 0.1900 - val_binary_accuracy: 0.9337\n",
            "278/278 [==============================] - 99s 292ms/step - loss: 0.0683 - binary_accuracy: 0.9723 - val_loss: 0.2575 - val_binary_accuracy: 0.9168\n",
            "278/278 [==============================] - 100s 288ms/step - loss: 0.0590 - binary_accuracy: 0.9764 - val_loss: 0.1943 - val_binary_accuracy: 0.9358\n",
            "278/278 [==============================] - 105s 290ms/step - loss: 0.0485 - binary_accuracy: 0.9810 - val_loss: 0.3972 - val_binary_accuracy: 0.8817\n",
            "Early stopping\n"
          ]
        },
        {
          "name": "stderr",
          "output_type": "stream",
          "text": [
            "WARNING:tensorflow:TPU system grpc://10.27.56.234:8470 has already been initialized. Reinitializing the TPU can cause previously created variables on TPU to be lost.\n"
          ]
        },
        {
          "name": "stdout",
          "output_type": "stream",
          "text": [
            "Running on TPU  grpc://10.27.56.234:8470\n",
            "REPLICAS:  8\n",
            "resnet50 FOLD 4\n",
            "Loading model from gs://tomasmuzas-phd-datasets/SDSS/models/128x128/initial_models/resnet50\n",
            "Model: \"sequential\"\n",
            "_________________________________________________________________\n",
            " Layer (type)                Output Shape              Param #   \n",
            "=================================================================\n",
            " resnet50 (Functional)       (None, 2048)              23587712  \n",
            "                                                                 \n",
            " dense_6 (Dense)             (None, 1)                 2049      \n",
            "                                                                 \n",
            "=================================================================\n",
            "Total params: 23,589,761\n",
            "Trainable params: 23,536,641\n",
            "Non-trainable params: 53,120\n",
            "_________________________________________________________________\n",
            "278/278 [==============================] - 138s 304ms/step - loss: 0.2223 - binary_accuracy: 0.9086 - val_loss: 1.8040 - val_binary_accuracy: 0.7115\n",
            "278/278 [==============================] - 104s 308ms/step - loss: 0.1652 - binary_accuracy: 0.9334 - val_loss: 3.8161 - val_binary_accuracy: 0.7115\n",
            "278/278 [==============================] - 106s 312ms/step - loss: 0.1478 - binary_accuracy: 0.9398 - val_loss: 0.7071 - val_binary_accuracy: 0.7866\n",
            "Loss improved. Saving model.\n"
          ]
        },
        {
          "name": "stderr",
          "output_type": "stream",
          "text": [
            "WARNING:absl:Found untraced functions such as _jit_compiled_convolution_op, _jit_compiled_convolution_op, _jit_compiled_convolution_op, _jit_compiled_convolution_op, _jit_compiled_convolution_op while saving (showing 5 of 53). These functions will not be directly callable after loading.\n"
          ]
        },
        {
          "name": "stdout",
          "output_type": "stream",
          "text": [
            "278/278 [==============================] - 109s 303ms/step - loss: 0.1364 - binary_accuracy: 0.9446 - val_loss: 0.1930 - val_binary_accuracy: 0.9243\n",
            "Loss improved. Saving model.\n"
          ]
        },
        {
          "name": "stderr",
          "output_type": "stream",
          "text": [
            "WARNING:absl:Found untraced functions such as _jit_compiled_convolution_op, _jit_compiled_convolution_op, _jit_compiled_convolution_op, _jit_compiled_convolution_op, _jit_compiled_convolution_op while saving (showing 5 of 53). These functions will not be directly callable after loading.\n"
          ]
        },
        {
          "name": "stdout",
          "output_type": "stream",
          "text": [
            "278/278 [==============================] - 104s 291ms/step - loss: 0.1274 - binary_accuracy: 0.9479 - val_loss: 0.1664 - val_binary_accuracy: 0.9340\n",
            "Loss improved. Saving model.\n"
          ]
        },
        {
          "name": "stderr",
          "output_type": "stream",
          "text": [
            "WARNING:absl:Found untraced functions such as _jit_compiled_convolution_op, _jit_compiled_convolution_op, _jit_compiled_convolution_op, _jit_compiled_convolution_op, _jit_compiled_convolution_op while saving (showing 5 of 53). These functions will not be directly callable after loading.\n"
          ]
        },
        {
          "name": "stdout",
          "output_type": "stream",
          "text": [
            "278/278 [==============================] - 107s 294ms/step - loss: 0.1201 - binary_accuracy: 0.9503 - val_loss: 0.1681 - val_binary_accuracy: 0.9317\n",
            "278/278 [==============================] - 101s 294ms/step - loss: 0.1143 - binary_accuracy: 0.9530 - val_loss: 0.2165 - val_binary_accuracy: 0.9127\n",
            "278/278 [==============================] - 101s 294ms/step - loss: 0.1058 - binary_accuracy: 0.9565 - val_loss: 0.1740 - val_binary_accuracy: 0.9262\n",
            "278/278 [==============================] - 103s 293ms/step - loss: 0.0976 - binary_accuracy: 0.9604 - val_loss: 0.1662 - val_binary_accuracy: 0.9341\n",
            "Loss improved. Saving model.\n"
          ]
        },
        {
          "name": "stderr",
          "output_type": "stream",
          "text": [
            "WARNING:absl:Found untraced functions such as _jit_compiled_convolution_op, _jit_compiled_convolution_op, _jit_compiled_convolution_op, _jit_compiled_convolution_op, _jit_compiled_convolution_op while saving (showing 5 of 53). These functions will not be directly callable after loading.\n"
          ]
        },
        {
          "name": "stdout",
          "output_type": "stream",
          "text": [
            "278/278 [==============================] - 101s 298ms/step - loss: 0.0891 - binary_accuracy: 0.9635 - val_loss: 0.1670 - val_binary_accuracy: 0.9353\n",
            "278/278 [==============================] - 100s 292ms/step - loss: 0.0789 - binary_accuracy: 0.9682 - val_loss: 0.3468 - val_binary_accuracy: 0.8831\n",
            "278/278 [==============================] - 106s 302ms/step - loss: 0.0669 - binary_accuracy: 0.9735 - val_loss: 0.2257 - val_binary_accuracy: 0.9216\n",
            "278/278 [==============================] - 100s 295ms/step - loss: 0.0602 - binary_accuracy: 0.9761 - val_loss: 0.2903 - val_binary_accuracy: 0.9156\n",
            "278/278 [==============================] - 100s 295ms/step - loss: 0.0488 - binary_accuracy: 0.9810 - val_loss: 0.2890 - val_binary_accuracy: 0.9177\n",
            "278/278 [==============================] - 102s 297ms/step - loss: 0.0407 - binary_accuracy: 0.9841 - val_loss: 0.2283 - val_binary_accuracy: 0.9325\n",
            "278/278 [==============================] - 105s 295ms/step - loss: 0.0367 - binary_accuracy: 0.9856 - val_loss: 0.2833 - val_binary_accuracy: 0.9308\n",
            "278/278 [==============================] - 101s 292ms/step - loss: 0.0301 - binary_accuracy: 0.9885 - val_loss: 0.3573 - val_binary_accuracy: 0.9022\n",
            "278/278 [==============================] - 103s 293ms/step - loss: 0.0263 - binary_accuracy: 0.9898 - val_loss: 0.2801 - val_binary_accuracy: 0.9350\n",
            "278/278 [==============================] - 104s 295ms/step - loss: 0.0229 - binary_accuracy: 0.9912 - val_loss: 0.2803 - val_binary_accuracy: 0.9267\n",
            "Early stopping\n"
          ]
        },
        {
          "name": "stderr",
          "output_type": "stream",
          "text": [
            "WARNING:tensorflow:TPU system grpc://10.27.56.234:8470 has already been initialized. Reinitializing the TPU can cause previously created variables on TPU to be lost.\n"
          ]
        },
        {
          "name": "stdout",
          "output_type": "stream",
          "text": [
            "Running on TPU  grpc://10.27.56.234:8470\n",
            "REPLICAS:  8\n",
            "resnet50 FOLD 5\n",
            "Loading model from gs://tomasmuzas-phd-datasets/SDSS/models/128x128/initial_models/resnet50\n",
            "Model: \"sequential\"\n",
            "_________________________________________________________________\n",
            " Layer (type)                Output Shape              Param #   \n",
            "=================================================================\n",
            " resnet50 (Functional)       (None, 2048)              23587712  \n",
            "                                                                 \n",
            " dense_6 (Dense)             (None, 1)                 2049      \n",
            "                                                                 \n",
            "=================================================================\n",
            "Total params: 23,589,761\n",
            "Trainable params: 23,536,641\n",
            "Non-trainable params: 53,120\n",
            "_________________________________________________________________\n",
            "278/278 [==============================] - 139s 301ms/step - loss: 0.2214 - binary_accuracy: 0.9084 - val_loss: 1.6992 - val_binary_accuracy: 0.7114\n",
            "278/278 [==============================] - 99s 291ms/step - loss: 0.1663 - binary_accuracy: 0.9320 - val_loss: 2.7137 - val_binary_accuracy: 0.7113\n",
            "278/278 [==============================] - 101s 290ms/step - loss: 0.1498 - binary_accuracy: 0.9389 - val_loss: 0.3470 - val_binary_accuracy: 0.8541\n",
            "Loss improved. Saving model.\n"
          ]
        },
        {
          "name": "stderr",
          "output_type": "stream",
          "text": [
            "WARNING:absl:Found untraced functions such as _jit_compiled_convolution_op, _jit_compiled_convolution_op, _jit_compiled_convolution_op, _jit_compiled_convolution_op, _jit_compiled_convolution_op while saving (showing 5 of 53). These functions will not be directly callable after loading.\n"
          ]
        },
        {
          "name": "stdout",
          "output_type": "stream",
          "text": [
            "278/278 [==============================] - 104s 300ms/step - loss: 0.1382 - binary_accuracy: 0.9434 - val_loss: 0.1682 - val_binary_accuracy: 0.9308\n",
            "Loss improved. Saving model.\n"
          ]
        },
        {
          "name": "stderr",
          "output_type": "stream",
          "text": [
            "WARNING:absl:Found untraced functions such as _jit_compiled_convolution_op, _jit_compiled_convolution_op, _jit_compiled_convolution_op, _jit_compiled_convolution_op, _jit_compiled_convolution_op while saving (showing 5 of 53). These functions will not be directly callable after loading.\n"
          ]
        },
        {
          "name": "stdout",
          "output_type": "stream",
          "text": [
            "278/278 [==============================] - 105s 295ms/step - loss: 0.1298 - binary_accuracy: 0.9468 - val_loss: 0.3141 - val_binary_accuracy: 0.8848\n",
            "278/278 [==============================] - 103s 292ms/step - loss: 0.1226 - binary_accuracy: 0.9502 - val_loss: 0.1878 - val_binary_accuracy: 0.9229\n",
            "278/278 [==============================] - 103s 292ms/step - loss: 0.1165 - binary_accuracy: 0.9519 - val_loss: 0.2143 - val_binary_accuracy: 0.9223\n",
            "278/278 [==============================] - 99s 290ms/step - loss: 0.1084 - binary_accuracy: 0.9554 - val_loss: 0.1999 - val_binary_accuracy: 0.9260\n",
            "278/278 [==============================] - 101s 291ms/step - loss: 0.1014 - binary_accuracy: 0.9586 - val_loss: 0.2339 - val_binary_accuracy: 0.9037\n",
            "278/278 [==============================] - 102s 302ms/step - loss: 0.0928 - binary_accuracy: 0.9621 - val_loss: 0.2079 - val_binary_accuracy: 0.9193\n",
            "278/278 [==============================] - 104s 294ms/step - loss: 0.0821 - binary_accuracy: 0.9664 - val_loss: 0.3551 - val_binary_accuracy: 0.8839\n",
            "278/278 [==============================] - 101s 295ms/step - loss: 0.0728 - binary_accuracy: 0.9701 - val_loss: 0.3234 - val_binary_accuracy: 0.9062\n",
            "278/278 [==============================] - 101s 295ms/step - loss: 0.0596 - binary_accuracy: 0.9763 - val_loss: 0.1997 - val_binary_accuracy: 0.9306\n",
            "278/278 [==============================] - 107s 295ms/step - loss: 0.0519 - binary_accuracy: 0.9793 - val_loss: 0.3716 - val_binary_accuracy: 0.9138\n",
            "Early stopping\n"
          ]
        },
        {
          "name": "stderr",
          "output_type": "stream",
          "text": [
            "WARNING:tensorflow:TPU system grpc://10.27.56.234:8470 has already been initialized. Reinitializing the TPU can cause previously created variables on TPU to be lost.\n"
          ]
        },
        {
          "name": "stdout",
          "output_type": "stream",
          "text": [
            "Running on TPU  grpc://10.27.56.234:8470\n",
            "REPLICAS:  8\n",
            "resnet50 FOLD 6\n",
            "Loading model from gs://tomasmuzas-phd-datasets/SDSS/models/128x128/initial_models/resnet50\n",
            "Model: \"sequential\"\n",
            "_________________________________________________________________\n",
            " Layer (type)                Output Shape              Param #   \n",
            "=================================================================\n",
            " resnet50 (Functional)       (None, 2048)              23587712  \n",
            "                                                                 \n",
            " dense_6 (Dense)             (None, 1)                 2049      \n",
            "                                                                 \n",
            "=================================================================\n",
            "Total params: 23,589,761\n",
            "Trainable params: 23,536,641\n",
            "Non-trainable params: 53,120\n",
            "_________________________________________________________________\n",
            "278/278 [==============================] - 139s 312ms/step - loss: 0.2277 - binary_accuracy: 0.9056 - val_loss: 2.2931 - val_binary_accuracy: 0.7114\n",
            "278/278 [==============================] - 108s 298ms/step - loss: 0.1693 - binary_accuracy: 0.9315 - val_loss: 3.5214 - val_binary_accuracy: 0.7114\n",
            "278/278 [==============================] - 106s 296ms/step - loss: 0.1509 - binary_accuracy: 0.9388 - val_loss: 0.9995 - val_binary_accuracy: 0.7528\n",
            "Loss improved. Saving model.\n"
          ]
        },
        {
          "name": "stderr",
          "output_type": "stream",
          "text": [
            "WARNING:absl:Found untraced functions such as _jit_compiled_convolution_op, _jit_compiled_convolution_op, _jit_compiled_convolution_op, _jit_compiled_convolution_op, _jit_compiled_convolution_op while saving (showing 5 of 53). These functions will not be directly callable after loading.\n"
          ]
        },
        {
          "name": "stdout",
          "output_type": "stream",
          "text": [
            "278/278 [==============================] - 106s 296ms/step - loss: 0.1404 - binary_accuracy: 0.9430 - val_loss: 0.1480 - val_binary_accuracy: 0.9411\n",
            "Loss improved. Saving model.\n"
          ]
        },
        {
          "name": "stderr",
          "output_type": "stream",
          "text": [
            "WARNING:absl:Found untraced functions such as _jit_compiled_convolution_op, _jit_compiled_convolution_op, _jit_compiled_convolution_op, _jit_compiled_convolution_op, _jit_compiled_convolution_op while saving (showing 5 of 53). These functions will not be directly callable after loading.\n"
          ]
        },
        {
          "name": "stdout",
          "output_type": "stream",
          "text": [
            "278/278 [==============================] - 104s 293ms/step - loss: 0.1303 - binary_accuracy: 0.9467 - val_loss: 0.1662 - val_binary_accuracy: 0.9316\n",
            "278/278 [==============================] - 102s 294ms/step - loss: 0.1233 - binary_accuracy: 0.9493 - val_loss: 0.2504 - val_binary_accuracy: 0.9009\n",
            "278/278 [==============================] - 106s 298ms/step - loss: 0.1163 - binary_accuracy: 0.9524 - val_loss: 0.1817 - val_binary_accuracy: 0.9282\n",
            "278/278 [==============================] - 102s 300ms/step - loss: 0.1094 - binary_accuracy: 0.9552 - val_loss: 0.2132 - val_binary_accuracy: 0.9086\n",
            "278/278 [==============================] - 97s 298ms/step - loss: 0.0993 - binary_accuracy: 0.9594 - val_loss: 0.6081 - val_binary_accuracy: 0.7934\n",
            "278/278 [==============================] - 105s 307ms/step - loss: 0.0906 - binary_accuracy: 0.9627 - val_loss: 0.1623 - val_binary_accuracy: 0.9392\n",
            "278/278 [==============================] - 108s 301ms/step - loss: 0.0803 - binary_accuracy: 0.9676 - val_loss: 0.1808 - val_binary_accuracy: 0.9315\n",
            "278/278 [==============================] - 104s 302ms/step - loss: 0.0682 - binary_accuracy: 0.9729 - val_loss: 0.2139 - val_binary_accuracy: 0.9318\n",
            "278/278 [==============================] - 106s 305ms/step - loss: 0.0582 - binary_accuracy: 0.9767 - val_loss: 0.2821 - val_binary_accuracy: 0.9102\n",
            "278/278 [==============================] - 104s 304ms/step - loss: 0.0493 - binary_accuracy: 0.9804 - val_loss: 0.2359 - val_binary_accuracy: 0.9297\n",
            "Early stopping\n"
          ]
        },
        {
          "name": "stderr",
          "output_type": "stream",
          "text": [
            "WARNING:tensorflow:TPU system grpc://10.27.56.234:8470 has already been initialized. Reinitializing the TPU can cause previously created variables on TPU to be lost.\n"
          ]
        },
        {
          "name": "stdout",
          "output_type": "stream",
          "text": [
            "Running on TPU  grpc://10.27.56.234:8470\n",
            "REPLICAS:  8\n",
            "resnet50 FOLD 7\n",
            "Loading model from gs://tomasmuzas-phd-datasets/SDSS/models/128x128/initial_models/resnet50\n",
            "Model: \"sequential\"\n",
            "_________________________________________________________________\n",
            " Layer (type)                Output Shape              Param #   \n",
            "=================================================================\n",
            " resnet50 (Functional)       (None, 2048)              23587712  \n",
            "                                                                 \n",
            " dense_6 (Dense)             (None, 1)                 2049      \n",
            "                                                                 \n",
            "=================================================================\n",
            "Total params: 23,589,761\n",
            "Trainable params: 23,536,641\n",
            "Non-trainable params: 53,120\n",
            "_________________________________________________________________\n",
            "278/278 [==============================] - 141s 306ms/step - loss: 0.2254 - binary_accuracy: 0.9076 - val_loss: 1.7009 - val_binary_accuracy: 0.7114\n",
            "278/278 [==============================] - 106s 293ms/step - loss: 0.1657 - binary_accuracy: 0.9328 - val_loss: 3.3946 - val_binary_accuracy: 0.7114\n",
            "278/278 [==============================] - 105s 291ms/step - loss: 0.1485 - binary_accuracy: 0.9399 - val_loss: 0.2332 - val_binary_accuracy: 0.9045\n",
            "Loss improved. Saving model.\n"
          ]
        },
        {
          "name": "stderr",
          "output_type": "stream",
          "text": [
            "WARNING:absl:Found untraced functions such as _jit_compiled_convolution_op, _jit_compiled_convolution_op, _jit_compiled_convolution_op, _jit_compiled_convolution_op, _jit_compiled_convolution_op while saving (showing 5 of 53). These functions will not be directly callable after loading.\n"
          ]
        },
        {
          "name": "stdout",
          "output_type": "stream",
          "text": [
            "278/278 [==============================] - 107s 291ms/step - loss: 0.1372 - binary_accuracy: 0.9441 - val_loss: 0.2055 - val_binary_accuracy: 0.9152\n",
            "Loss improved. Saving model.\n"
          ]
        },
        {
          "name": "stderr",
          "output_type": "stream",
          "text": [
            "WARNING:absl:Found untraced functions such as _jit_compiled_convolution_op, _jit_compiled_convolution_op, _jit_compiled_convolution_op, _jit_compiled_convolution_op, _jit_compiled_convolution_op while saving (showing 5 of 53). These functions will not be directly callable after loading.\n"
          ]
        },
        {
          "name": "stdout",
          "output_type": "stream",
          "text": [
            "278/278 [==============================] - 97s 291ms/step - loss: 0.1290 - binary_accuracy: 0.9477 - val_loss: 0.3490 - val_binary_accuracy: 0.8666\n",
            "278/278 [==============================] - 103s 293ms/step - loss: 0.1205 - binary_accuracy: 0.9509 - val_loss: 0.3198 - val_binary_accuracy: 0.8947\n",
            "278/278 [==============================] - 102s 293ms/step - loss: 0.1127 - binary_accuracy: 0.9540 - val_loss: 0.1679 - val_binary_accuracy: 0.9346\n",
            "Loss improved. Saving model.\n"
          ]
        },
        {
          "name": "stderr",
          "output_type": "stream",
          "text": [
            "WARNING:absl:Found untraced functions such as _jit_compiled_convolution_op, _jit_compiled_convolution_op, _jit_compiled_convolution_op, _jit_compiled_convolution_op, _jit_compiled_convolution_op while saving (showing 5 of 53). These functions will not be directly callable after loading.\n"
          ]
        },
        {
          "name": "stdout",
          "output_type": "stream",
          "text": [
            "278/278 [==============================] - 102s 290ms/step - loss: 0.1064 - binary_accuracy: 0.9565 - val_loss: 0.1623 - val_binary_accuracy: 0.9369\n",
            "Loss improved. Saving model.\n"
          ]
        },
        {
          "name": "stderr",
          "output_type": "stream",
          "text": [
            "WARNING:absl:Found untraced functions such as _jit_compiled_convolution_op, _jit_compiled_convolution_op, _jit_compiled_convolution_op, _jit_compiled_convolution_op, _jit_compiled_convolution_op while saving (showing 5 of 53). These functions will not be directly callable after loading.\n"
          ]
        },
        {
          "name": "stdout",
          "output_type": "stream",
          "text": [
            "278/278 [==============================] - 102s 292ms/step - loss: 0.0990 - binary_accuracy: 0.9595 - val_loss: 0.3541 - val_binary_accuracy: 0.8788\n",
            "278/278 [==============================] - 99s 291ms/step - loss: 0.0901 - binary_accuracy: 0.9633 - val_loss: 0.1674 - val_binary_accuracy: 0.9345\n",
            "278/278 [==============================] - 103s 292ms/step - loss: 0.0797 - binary_accuracy: 0.9678 - val_loss: 0.2239 - val_binary_accuracy: 0.9204\n",
            "278/278 [==============================] - 101s 291ms/step - loss: 0.0675 - binary_accuracy: 0.9729 - val_loss: 0.2286 - val_binary_accuracy: 0.9212\n",
            "278/278 [==============================] - 99s 291ms/step - loss: 0.0592 - binary_accuracy: 0.9762 - val_loss: 0.2468 - val_binary_accuracy: 0.9192\n",
            "278/278 [==============================] - 102s 294ms/step - loss: 0.0505 - binary_accuracy: 0.9801 - val_loss: 0.2452 - val_binary_accuracy: 0.9311\n",
            "278/278 [==============================] - 100s 290ms/step - loss: 0.0430 - binary_accuracy: 0.9832 - val_loss: 0.2624 - val_binary_accuracy: 0.9202\n",
            "278/278 [==============================] - 103s 291ms/step - loss: 0.0366 - binary_accuracy: 0.9857 - val_loss: 0.2526 - val_binary_accuracy: 0.9236\n",
            "278/278 [==============================] - 100s 292ms/step - loss: 0.0307 - binary_accuracy: 0.9883 - val_loss: 0.3241 - val_binary_accuracy: 0.9159\n",
            "278/278 [==============================] - 103s 294ms/step - loss: 0.0281 - binary_accuracy: 0.9893 - val_loss: 0.3141 - val_binary_accuracy: 0.9275\n",
            "Early stopping\n"
          ]
        },
        {
          "name": "stderr",
          "output_type": "stream",
          "text": [
            "WARNING:tensorflow:TPU system grpc://10.27.56.234:8470 has already been initialized. Reinitializing the TPU can cause previously created variables on TPU to be lost.\n"
          ]
        },
        {
          "name": "stdout",
          "output_type": "stream",
          "text": [
            "Running on TPU  grpc://10.27.56.234:8470\n",
            "REPLICAS:  8\n",
            "resnet50 FOLD 8\n",
            "Loading model from gs://tomasmuzas-phd-datasets/SDSS/models/128x128/initial_models/resnet50\n",
            "Model: \"sequential\"\n",
            "_________________________________________________________________\n",
            " Layer (type)                Output Shape              Param #   \n",
            "=================================================================\n",
            " resnet50 (Functional)       (None, 2048)              23587712  \n",
            "                                                                 \n",
            " dense_6 (Dense)             (None, 1)                 2049      \n",
            "                                                                 \n",
            "=================================================================\n",
            "Total params: 23,589,761\n",
            "Trainable params: 23,536,641\n",
            "Non-trainable params: 53,120\n",
            "_________________________________________________________________\n",
            "278/278 [==============================] - 136s 302ms/step - loss: 0.2230 - binary_accuracy: 0.9076 - val_loss: 1.5098 - val_binary_accuracy: 0.7114\n",
            "278/278 [==============================] - 106s 295ms/step - loss: 0.1681 - binary_accuracy: 0.9316 - val_loss: 1.9580 - val_binary_accuracy: 0.7114\n",
            "278/278 [==============================] - 104s 292ms/step - loss: 0.1510 - binary_accuracy: 0.9388 - val_loss: 1.4595 - val_binary_accuracy: 0.7270\n",
            "278/278 [==============================] - 108s 294ms/step - loss: 0.1400 - binary_accuracy: 0.9427 - val_loss: 0.4085 - val_binary_accuracy: 0.8206\n",
            "Loss improved. Saving model.\n"
          ]
        },
        {
          "name": "stderr",
          "output_type": "stream",
          "text": [
            "WARNING:absl:Found untraced functions such as _jit_compiled_convolution_op, _jit_compiled_convolution_op, _jit_compiled_convolution_op, _jit_compiled_convolution_op, _jit_compiled_convolution_op while saving (showing 5 of 53). These functions will not be directly callable after loading.\n"
          ]
        },
        {
          "name": "stdout",
          "output_type": "stream",
          "text": [
            "278/278 [==============================] - 100s 296ms/step - loss: 0.1325 - binary_accuracy: 0.9459 - val_loss: 0.1509 - val_binary_accuracy: 0.9408\n",
            "Loss improved. Saving model.\n"
          ]
        },
        {
          "name": "stderr",
          "output_type": "stream",
          "text": [
            "WARNING:absl:Found untraced functions such as _jit_compiled_convolution_op, _jit_compiled_convolution_op, _jit_compiled_convolution_op, _jit_compiled_convolution_op, _jit_compiled_convolution_op while saving (showing 5 of 53). These functions will not be directly callable after loading.\n"
          ]
        },
        {
          "name": "stdout",
          "output_type": "stream",
          "text": [
            "278/278 [==============================] - 108s 304ms/step - loss: 0.1242 - binary_accuracy: 0.9491 - val_loss: 0.1610 - val_binary_accuracy: 0.9360\n",
            "278/278 [==============================] - 104s 294ms/step - loss: 0.1175 - binary_accuracy: 0.9522 - val_loss: 0.1811 - val_binary_accuracy: 0.9233\n",
            "278/278 [==============================] - 104s 294ms/step - loss: 0.1111 - binary_accuracy: 0.9544 - val_loss: 0.1766 - val_binary_accuracy: 0.9312\n",
            "278/278 [==============================] - 101s 295ms/step - loss: 0.1036 - binary_accuracy: 0.9573 - val_loss: 0.2181 - val_binary_accuracy: 0.9123\n",
            "278/278 [==============================] - 97s 294ms/step - loss: 0.0961 - binary_accuracy: 0.9605 - val_loss: 0.2658 - val_binary_accuracy: 0.9112\n",
            "278/278 [==============================] - 101s 294ms/step - loss: 0.0876 - binary_accuracy: 0.9642 - val_loss: 0.1906 - val_binary_accuracy: 0.9316\n",
            "278/278 [==============================] - 101s 294ms/step - loss: 0.0773 - binary_accuracy: 0.9684 - val_loss: 0.1972 - val_binary_accuracy: 0.9300\n",
            "278/278 [==============================] - 103s 293ms/step - loss: 0.0673 - binary_accuracy: 0.9729 - val_loss: 0.2759 - val_binary_accuracy: 0.9164\n",
            "278/278 [==============================] - 99s 289ms/step - loss: 0.0553 - binary_accuracy: 0.9782 - val_loss: 0.2646 - val_binary_accuracy: 0.9151\n",
            "278/278 [==============================] - 102s 294ms/step - loss: 0.0461 - binary_accuracy: 0.9817 - val_loss: 0.2895 - val_binary_accuracy: 0.9161\n",
            "Early stopping\n"
          ]
        },
        {
          "name": "stderr",
          "output_type": "stream",
          "text": [
            "WARNING:tensorflow:TPU system grpc://10.27.56.234:8470 has already been initialized. Reinitializing the TPU can cause previously created variables on TPU to be lost.\n"
          ]
        },
        {
          "name": "stdout",
          "output_type": "stream",
          "text": [
            "Running on TPU  grpc://10.27.56.234:8470\n",
            "REPLICAS:  8\n",
            "resnet50 FOLD 9\n",
            "Loading model from gs://tomasmuzas-phd-datasets/SDSS/models/128x128/initial_models/resnet50\n",
            "Model: \"sequential\"\n",
            "_________________________________________________________________\n",
            " Layer (type)                Output Shape              Param #   \n",
            "=================================================================\n",
            " resnet50 (Functional)       (None, 2048)              23587712  \n",
            "                                                                 \n",
            " dense_6 (Dense)             (None, 1)                 2049      \n",
            "                                                                 \n",
            "=================================================================\n",
            "Total params: 23,589,761\n",
            "Trainable params: 23,536,641\n",
            "Non-trainable params: 53,120\n",
            "_________________________________________________________________\n",
            "278/278 [==============================] - 135s 308ms/step - loss: 0.2257 - binary_accuracy: 0.9060 - val_loss: 1.8450 - val_binary_accuracy: 0.7114\n",
            "278/278 [==============================] - 103s 291ms/step - loss: 0.1667 - binary_accuracy: 0.9324 - val_loss: 2.5567 - val_binary_accuracy: 0.7126\n",
            "278/278 [==============================] - 106s 293ms/step - loss: 0.1499 - binary_accuracy: 0.9395 - val_loss: 0.9938 - val_binary_accuracy: 0.7488\n",
            "Loss improved. Saving model.\n"
          ]
        },
        {
          "name": "stderr",
          "output_type": "stream",
          "text": [
            "WARNING:absl:Found untraced functions such as _jit_compiled_convolution_op, _jit_compiled_convolution_op, _jit_compiled_convolution_op, _jit_compiled_convolution_op, _jit_compiled_convolution_op while saving (showing 5 of 53). These functions will not be directly callable after loading.\n"
          ]
        },
        {
          "name": "stdout",
          "output_type": "stream",
          "text": [
            "278/278 [==============================] - 102s 291ms/step - loss: 0.1397 - binary_accuracy: 0.9430 - val_loss: 0.5612 - val_binary_accuracy: 0.8146\n",
            "Loss improved. Saving model.\n"
          ]
        },
        {
          "name": "stderr",
          "output_type": "stream",
          "text": [
            "WARNING:absl:Found untraced functions such as _jit_compiled_convolution_op, _jit_compiled_convolution_op, _jit_compiled_convolution_op, _jit_compiled_convolution_op, _jit_compiled_convolution_op while saving (showing 5 of 53). These functions will not be directly callable after loading.\n"
          ]
        },
        {
          "name": "stdout",
          "output_type": "stream",
          "text": [
            "278/278 [==============================] - 102s 293ms/step - loss: 0.1291 - binary_accuracy: 0.9474 - val_loss: 0.1495 - val_binary_accuracy: 0.9386\n",
            "Loss improved. Saving model.\n"
          ]
        },
        {
          "name": "stderr",
          "output_type": "stream",
          "text": [
            "WARNING:absl:Found untraced functions such as _jit_compiled_convolution_op, _jit_compiled_convolution_op, _jit_compiled_convolution_op, _jit_compiled_convolution_op, _jit_compiled_convolution_op while saving (showing 5 of 53). These functions will not be directly callable after loading.\n"
          ]
        },
        {
          "name": "stdout",
          "output_type": "stream",
          "text": [
            "278/278 [==============================] - 107s 292ms/step - loss: 0.1220 - binary_accuracy: 0.9503 - val_loss: 0.5824 - val_binary_accuracy: 0.8110\n",
            "278/278 [==============================] - 105s 294ms/step - loss: 0.1138 - binary_accuracy: 0.9536 - val_loss: 0.6112 - val_binary_accuracy: 0.8066\n",
            "278/278 [==============================] - 99s 293ms/step - loss: 0.1084 - binary_accuracy: 0.9557 - val_loss: 0.2695 - val_binary_accuracy: 0.9064\n",
            "278/278 [==============================] - 101s 296ms/step - loss: 0.1011 - binary_accuracy: 0.9587 - val_loss: 0.1963 - val_binary_accuracy: 0.9268\n",
            "278/278 [==============================] - 103s 294ms/step - loss: 0.0921 - binary_accuracy: 0.9624 - val_loss: 0.2150 - val_binary_accuracy: 0.9268\n",
            "278/278 [==============================] - 99s 292ms/step - loss: 0.0831 - binary_accuracy: 0.9659 - val_loss: 0.3197 - val_binary_accuracy: 0.8810\n",
            "278/278 [==============================] - 104s 295ms/step - loss: 0.0723 - binary_accuracy: 0.9711 - val_loss: 0.2652 - val_binary_accuracy: 0.9144\n",
            "278/278 [==============================] - 105s 291ms/step - loss: 0.0632 - binary_accuracy: 0.9744 - val_loss: 0.1946 - val_binary_accuracy: 0.9354\n",
            "278/278 [==============================] - 102s 294ms/step - loss: 0.0532 - binary_accuracy: 0.9790 - val_loss: 0.2527 - val_binary_accuracy: 0.9153\n",
            "278/278 [==============================] - 101s 291ms/step - loss: 0.0453 - binary_accuracy: 0.9822 - val_loss: 0.2791 - val_binary_accuracy: 0.9278\n",
            "Early stopping\n"
          ]
        },
        {
          "name": "stderr",
          "output_type": "stream",
          "text": [
            "WARNING:tensorflow:TPU system grpc://10.27.56.234:8470 has already been initialized. Reinitializing the TPU can cause previously created variables on TPU to be lost.\n"
          ]
        },
        {
          "name": "stdout",
          "output_type": "stream",
          "text": [
            "Running on TPU  grpc://10.27.56.234:8470\n",
            "REPLICAS:  8\n",
            "resnet50 FOLD 10\n",
            "Loading model from gs://tomasmuzas-phd-datasets/SDSS/models/128x128/initial_models/resnet50\n",
            "Model: \"sequential\"\n",
            "_________________________________________________________________\n",
            " Layer (type)                Output Shape              Param #   \n",
            "=================================================================\n",
            " resnet50 (Functional)       (None, 2048)              23587712  \n",
            "                                                                 \n",
            " dense_6 (Dense)             (None, 1)                 2049      \n",
            "                                                                 \n",
            "=================================================================\n",
            "Total params: 23,589,761\n",
            "Trainable params: 23,536,641\n",
            "Non-trainable params: 53,120\n",
            "_________________________________________________________________\n",
            "278/278 [==============================] - 136s 312ms/step - loss: 0.2256 - binary_accuracy: 0.9068 - val_loss: 2.4017 - val_binary_accuracy: 0.7114\n",
            "278/278 [==============================] - 101s 295ms/step - loss: 0.1659 - binary_accuracy: 0.9326 - val_loss: 3.3262 - val_binary_accuracy: 0.7114\n",
            "278/278 [==============================] - 102s 293ms/step - loss: 0.1494 - binary_accuracy: 0.9392 - val_loss: 0.3206 - val_binary_accuracy: 0.8778\n",
            "Loss improved. Saving model.\n"
          ]
        },
        {
          "name": "stderr",
          "output_type": "stream",
          "text": [
            "WARNING:absl:Found untraced functions such as _jit_compiled_convolution_op, _jit_compiled_convolution_op, _jit_compiled_convolution_op, _jit_compiled_convolution_op, _jit_compiled_convolution_op while saving (showing 5 of 53). These functions will not be directly callable after loading.\n"
          ]
        },
        {
          "name": "stdout",
          "output_type": "stream",
          "text": [
            "278/278 [==============================] - 102s 294ms/step - loss: 0.1383 - binary_accuracy: 0.9435 - val_loss: 0.1721 - val_binary_accuracy: 0.9318\n",
            "Loss improved. Saving model.\n"
          ]
        },
        {
          "name": "stderr",
          "output_type": "stream",
          "text": [
            "WARNING:absl:Found untraced functions such as _jit_compiled_convolution_op, _jit_compiled_convolution_op, _jit_compiled_convolution_op, _jit_compiled_convolution_op, _jit_compiled_convolution_op while saving (showing 5 of 53). These functions will not be directly callable after loading.\n"
          ]
        },
        {
          "name": "stdout",
          "output_type": "stream",
          "text": [
            "278/278 [==============================] - 103s 291ms/step - loss: 0.1299 - binary_accuracy: 0.9469 - val_loss: 0.1731 - val_binary_accuracy: 0.9286\n",
            "278/278 [==============================] - 106s 304ms/step - loss: 0.1229 - binary_accuracy: 0.9494 - val_loss: 0.1967 - val_binary_accuracy: 0.9195\n",
            "278/278 [==============================] - 103s 293ms/step - loss: 0.1144 - binary_accuracy: 0.9538 - val_loss: 0.3270 - val_binary_accuracy: 0.8721\n",
            "278/278 [==============================] - 104s 293ms/step - loss: 0.1064 - binary_accuracy: 0.9563 - val_loss: 0.1726 - val_binary_accuracy: 0.9296\n",
            "278/278 [==============================] - 103s 291ms/step - loss: 0.0988 - binary_accuracy: 0.9596 - val_loss: 0.2487 - val_binary_accuracy: 0.9156\n",
            "278/278 [==============================] - 102s 292ms/step - loss: 0.0888 - binary_accuracy: 0.9638 - val_loss: 0.1865 - val_binary_accuracy: 0.9392\n",
            "278/278 [==============================] - 96s 290ms/step - loss: 0.0800 - binary_accuracy: 0.9677 - val_loss: 0.2092 - val_binary_accuracy: 0.9303\n",
            "278/278 [==============================] - 102s 292ms/step - loss: 0.0685 - binary_accuracy: 0.9724 - val_loss: 0.2597 - val_binary_accuracy: 0.9222\n",
            "278/278 [==============================] - 101s 289ms/step - loss: 0.0587 - binary_accuracy: 0.9764 - val_loss: 0.2844 - val_binary_accuracy: 0.9246\n",
            "278/278 [==============================] - 101s 290ms/step - loss: 0.0501 - binary_accuracy: 0.9803 - val_loss: 0.3273 - val_binary_accuracy: 0.9034\n",
            "Early stopping\n"
          ]
        }
      ],
      "source": [
        "models = [\n",
        "    # {'name': 'effnetb7', 'func': create_EffNetB7, 'starting_fold': 1},\n",
        "    {'name': 'cavanagh', 'func': Cavanagh, 'starting_fold': 1},\n",
        "    {'name': 'dieleman', 'func': Dieleman, 'starting_fold': 1},\n",
        "    {'name': 'resnet50', 'func': create_ResNet50, 'starting_fold': 1},\n",
        "    # {'name': 'simple', 'func': SimpleModel, 'starting_fold': 1},\n",
        "    # {'name': 'simpler', 'func': SimplerModel, 'starting_fold': 1},\n",
        "]\n",
        "\n",
        "if not os.path.isdir(\"gcs\"):\n",
        "  raise Exception(\"local GCS folder must be mounted!\")\n",
        "\n",
        "for model in models:\n",
        "  model_name = model['name']\n",
        "  model_factory = model['func']\n",
        "  model_starting_fold = model['starting_fold']\n",
        "\n",
        "  model_path = f\"models/{IMAGE_SIZE}x{IMAGE_SIZE}/experiments/{EXPERIMENT_DESCRIPTION}/{model_name}\"\n",
        "  initial_model_path = f\"models/{IMAGE_SIZE}x{IMAGE_SIZE}/initial_models/{model_name}\"\n",
        "  # Create initial model\n",
        "  if not os.path.isdir(f\"{LOCAL_GCP_PATH_BASE}/{initial_model_path}\"):\n",
        "    print(\"Creating new weights\")\n",
        "    strategy = reset_tpu()\n",
        "    with strategy.scope():\n",
        "      optimizer = optimizers.Adam(learning_rate= LEARNING_RATE, beta_1=0.9, beta_2=0.999, epsilon=1e-08)\n",
        "      model = model_factory()\n",
        "\n",
        "      model.compile(\n",
        "          loss=tf.keras.losses.BinaryCrossentropy(),\n",
        "          steps_per_execution = 1,\n",
        "          optimizer=optimizer,\n",
        "          metrics=[tf.keras.metrics.BinaryAccuracy()])\n",
        "\n",
        "      print(f\"Saving initial model to {REMOTE_GCP_PATH_BASE}/{initial_model_path}\")\n",
        "      model.save(f\"{REMOTE_GCP_PATH_BASE}/{initial_model_path}\")\n",
        "\n",
        "  for i in range(model_starting_fold, 11):\n",
        "    tf.keras.backend.clear_session()\n",
        "    strategy = reset_tpu()\n",
        "    with strategy.scope():\n",
        "    # with tf.device(\"/device:GPU:0\"):\n",
        "      optimizer = optimizers.Adam(learning_rate= LEARNING_RATE, beta_1=0.9, beta_2=0.999, epsilon=1e-08)\n",
        "      print(f\"{model_name} FOLD {i}\")\n",
        "\n",
        "      best_epoch = 0\n",
        "      best_loss = 1\n",
        "\n",
        "      test_dataset = get_dataset(\n",
        "          f\"{REMOTE_GCP_PATH_BASE}/data/{IMAGE_SIZE}x{IMAGE_SIZE}/fold_{i}/test\",\n",
        "          TEST_BATCH_SIZE,\n",
        "          seed = SEED,\n",
        "          augment = False,\n",
        "          shuffle = False,\n",
        "          drop_remainder = True)\n",
        "\n",
        "      if TPU:\n",
        "        test_dataset = test_dataset.cache()\n",
        "\n",
        "      print(f\"Loading model from {REMOTE_GCP_PATH_BASE}/{initial_model_path}\")\n",
        "      model = tf.keras.models.load_model(f\"{REMOTE_GCP_PATH_BASE}/{initial_model_path}\")\n",
        "\n",
        "      model.compile(\n",
        "          loss=tf.keras.losses.BinaryCrossentropy(),\n",
        "          steps_per_execution = 1,\n",
        "          optimizer=optimizer,\n",
        "          metrics=[tf.keras.metrics.BinaryAccuracy()])\n",
        "\n",
        "      model.summary()\n",
        "\n",
        "      for epoch in range(NUMBER_OF_EPOCHS):\n",
        "        train_dataset = get_dataset(\n",
        "            f\"{REMOTE_GCP_PATH_BASE}/data/{IMAGE_SIZE}x{IMAGE_SIZE}/fold_{i}/train\",\n",
        "            TRAIN_BATCH_SIZE,\n",
        "            seed = SEED + epoch,\n",
        "            augment = True,\n",
        "            shuffle = True,\n",
        "            drop_remainder = False)\n",
        "\n",
        "        history = model.fit(\n",
        "          x= train_dataset,\n",
        "          validation_data = test_dataset,\n",
        "          epochs = 1,\n",
        "          steps_per_epoch = 284672 // TRAIN_BATCH_SIZE,\n",
        "          validation_steps = 31595 // TEST_BATCH_SIZE,\n",
        "          verbose = 1,\n",
        "          shuffle = False,\n",
        "          workers= 32 if TPU else 1)\n",
        "\n",
        "        last_loss = history.history['val_loss'][-1]\n",
        "        if (last_loss < best_loss):\n",
        "          print(\"Loss improved. Saving model.\")\n",
        "          best_epoch = epoch\n",
        "          best_loss = last_loss\n",
        "          model.save(f\"{REMOTE_GCP_PATH_BASE}/{model_path}/best_loss/fold_{i}\")\n",
        "\n",
        "\n",
        "        if(epoch - EARLY_STOPPING_TOLERANCE == best_epoch):\n",
        "          print(\"Early stopping\")\n",
        "          break"
      ]
    },
    {
      "cell_type": "code",
      "execution_count": null,
      "metadata": {
        "colab": {
          "base_uri": "https://localhost:8080/",
          "height": 412,
          "referenced_widgets": [
            "b8a095b6503348e7b1f872f42234bbde",
            "b5b3555399d845c4b80f83ab402060b9",
            "6cc15fee21da42beb5b23426de118fe4",
            "6d922075b6c9452dafb499dde994778b",
            "305ac5abc7774bcaa0f7c9ddeb590320",
            "8626aff524444b0b803a939822191b63",
            "5615db030b0449dc8ddbbae6032ef40a",
            "e6f2fc1e9c9d424a89d0baaac5d729b1",
            "daee5b5a47604aa6911740215c5d6ed8",
            "78e1c213e1e64884ba2f31d8421abeb9",
            "ce52ddec19d74879a0d3312d55379e65"
          ]
        },
        "id": "PTKKalIwv-6i",
        "outputId": "c3385fbd-05b3-42d3-d659-5fe44edd8274"
      },
      "outputs": [
        {
          "data": {
            "application/vnd.jupyter.widget-view+json": {
              "model_id": "b8a095b6503348e7b1f872f42234bbde",
              "version_major": 2,
              "version_minor": 0
            },
            "text/plain": [
              "1it [00:00, ?it/s]"
            ]
          },
          "metadata": {},
          "output_type": "display_data"
        },
        {
          "name": "stdout",
          "output_type": "stream",
          "text": [
            "\n",
            "************ Summary ************\n",
            "\n",
            "Examples/sec (First included) 6285.04 ex/sec (total: 284672 ex, 45.29 sec)\n",
            "Examples/sec (First only) 27.90 ex/sec (total: 1024 ex, 36.70 sec)\n",
            "Examples/sec (First excluded) 33008.07 ex/sec (total: 283648 ex, 8.59 sec)\n"
          ]
        },
        {
          "name": "stderr",
          "output_type": "stream",
          "text": [
            "Exception ignored in: <function Executor.__del__ at 0x7f2f1be284d0>\n",
            "Traceback (most recent call last):\n",
            "  File \"/usr/local/lib/python3.7/dist-packages/tensorflow/python/eager/executor.py\", line 46, in __del__\n",
            "    self.wait()\n",
            "  File \"/usr/local/lib/python3.7/dist-packages/tensorflow/python/eager/executor.py\", line 65, in wait\n",
            "    pywrap_tfe.TFE_ExecutorWaitForAllPendingNodes(self._handle)\n",
            "tensorflow.python.framework.errors_impl.OutOfRangeError: End of sequence\n"
          ]
        },
        {
          "data": {
            "text/html": [
              "<strong>BenchmarkResult:</strong><br/><div>\n",
              "<style scoped>\n",
              "    .dataframe tbody tr th:only-of-type {\n",
              "        vertical-align: middle;\n",
              "    }\n",
              "\n",
              "    .dataframe tbody tr th {\n",
              "        vertical-align: top;\n",
              "    }\n",
              "\n",
              "    .dataframe thead th {\n",
              "        text-align: right;\n",
              "    }\n",
              "</style>\n",
              "<table border=\"1\" class=\"dataframe\">\n",
              "  <thead>\n",
              "    <tr style=\"text-align: right;\">\n",
              "      <th></th>\n",
              "      <th>duration</th>\n",
              "      <th>num_examples</th>\n",
              "      <th>avg</th>\n",
              "    </tr>\n",
              "  </thead>\n",
              "  <tbody>\n",
              "    <tr>\n",
              "      <th>first+lasts</th>\n",
              "      <td>45.293556</td>\n",
              "      <td>284672</td>\n",
              "      <td>6285.044149</td>\n",
              "    </tr>\n",
              "    <tr>\n",
              "      <th>first</th>\n",
              "      <td>36.700264</td>\n",
              "      <td>1024</td>\n",
              "      <td>27.901707</td>\n",
              "    </tr>\n",
              "    <tr>\n",
              "      <th>lasts</th>\n",
              "      <td>8.593293</td>\n",
              "      <td>283648</td>\n",
              "      <td>33008.069569</td>\n",
              "    </tr>\n",
              "  </tbody>\n",
              "</table>\n",
              "</div>"
            ],
            "text/plain": [
              "BenchmarkResult(stats=              duration  num_examples           avg\n",
              "first+lasts  45.293556        284672   6285.044149\n",
              "first        36.700264          1024     27.901707\n",
              "lasts         8.593293        283648  33008.069569, raw_stats=                    duration\n",
              "start_time        367.695004\n",
              "first_batch_time  404.395268\n",
              "end_time          412.988561\n",
              "num_iter          278.000000)"
            ]
          },
          "execution_count": 8,
          "metadata": {},
          "output_type": "execute_result"
        }
      ],
      "source": [
        "# with tf.device(\"/device:GPU:0\"):\n",
        "train_dataset = get_dataset(\n",
        "f\"{REMOTE_GCP_PATH_BASE}/data/{IMAGE_SIZE}x{IMAGE_SIZE}/fold_1/train\",\n",
        "TRAIN_BATCH_SIZE,\n",
        "seed = SEED + 1,\n",
        "augment = True,\n",
        "shuffle = True,\n",
        "drop_remainder = False)\n",
        "\n",
        "tfds.benchmark(train_dataset, batch_size=TRAIN_BATCH_SIZE)"
      ]
    },
    {
      "cell_type": "code",
      "execution_count": null,
      "metadata": {
        "colab": {
          "base_uri": "https://localhost:8080/"
        },
        "id": "y1_iX4tr2hv3",
        "outputId": "4c8c3c10-2039-4ecc-9674-83d8c2799b17"
      },
      "outputs": [
        {
          "name": "stdout",
          "output_type": "stream",
          "text": [
            "Model: \"SimplerModel\"\n",
            "_________________________________________________________________\n",
            " Layer (type)                Output Shape              Param #   \n",
            "=================================================================\n",
            " conv2d_6 (Conv2D)           (None, 123, 123, 128)     13952     \n",
            "                                                                 \n",
            " max_pooling2d (MaxPooling2D  (None, 61, 61, 128)      0         \n",
            " )                                                               \n",
            "                                                                 \n",
            " conv2d_7 (Conv2D)           (None, 57, 57, 32)        102432    \n",
            "                                                                 \n",
            " max_pooling2d_1 (MaxPooling  (None, 28, 28, 32)       0         \n",
            " 2D)                                                             \n",
            "                                                                 \n",
            " conv2d_8 (Conv2D)           (None, 26, 26, 16)        4624      \n",
            "                                                                 \n",
            " flatten_2 (Flatten)         (None, 10816)             0         \n",
            "                                                                 \n",
            " dense_2 (Dense)             (None, 1)                 10817     \n",
            "                                                                 \n",
            "=================================================================\n",
            "Total params: 131,825\n",
            "Trainable params: 131,825\n",
            "Non-trainable params: 0\n",
            "_________________________________________________________________\n"
          ]
        }
      ],
      "source": [
        "t = SimplerModel()\n",
        "t.summary()"
      ]
    }
  ],
  "metadata": {
    "accelerator": "TPU",
    "colab": {
      "authorship_tag": "ABX9TyOC+TosF7Xnpq4MjmAWIZ3B",
      "collapsed_sections": [
        "_Lyvje0L5Fhf",
        "ssvCqgBW49XS",
        "5PmexVmh45rr",
        "R3YKxbnx4VyJ"
      ],
      "mount_file_id": "1raMG5kTe5UWF8jMcdxGEGg05ttIz1v1l",
      "provenance": []
    },
    "gpuClass": "standard",
    "kernelspec": {
      "display_name": "Python 3",
      "language": "python",
      "name": "python3"
    },
    "language_info": {
      "name": "python",
      "version": "3.10.4 (main, Dec 19 2022, 20:24:16) [GCC 9.4.0]"
    },
    "vscode": {
      "interpreter": {
        "hash": "3ad933181bd8a04b432d3370b9dc3b0662ad032c4dfaa4e4f1596c548f763858"
      }
    },
    "widgets": {
      "application/vnd.jupyter.widget-state+json": {
        "305ac5abc7774bcaa0f7c9ddeb590320": {
          "model_module": "@jupyter-widgets/base",
          "model_module_version": "1.2.0",
          "model_name": "LayoutModel",
          "state": {
            "_model_module": "@jupyter-widgets/base",
            "_model_module_version": "1.2.0",
            "_model_name": "LayoutModel",
            "_view_count": null,
            "_view_module": "@jupyter-widgets/base",
            "_view_module_version": "1.2.0",
            "_view_name": "LayoutView",
            "align_content": null,
            "align_items": null,
            "align_self": null,
            "border": null,
            "bottom": null,
            "display": null,
            "flex": null,
            "flex_flow": null,
            "grid_area": null,
            "grid_auto_columns": null,
            "grid_auto_flow": null,
            "grid_auto_rows": null,
            "grid_column": null,
            "grid_gap": null,
            "grid_row": null,
            "grid_template_areas": null,
            "grid_template_columns": null,
            "grid_template_rows": null,
            "height": null,
            "justify_content": null,
            "justify_items": null,
            "left": null,
            "margin": null,
            "max_height": null,
            "max_width": null,
            "min_height": null,
            "min_width": null,
            "object_fit": null,
            "object_position": null,
            "order": null,
            "overflow": null,
            "overflow_x": null,
            "overflow_y": null,
            "padding": null,
            "right": null,
            "top": null,
            "visibility": null,
            "width": null
          }
        },
        "5615db030b0449dc8ddbbae6032ef40a": {
          "model_module": "@jupyter-widgets/controls",
          "model_module_version": "1.5.0",
          "model_name": "DescriptionStyleModel",
          "state": {
            "_model_module": "@jupyter-widgets/controls",
            "_model_module_version": "1.5.0",
            "_model_name": "DescriptionStyleModel",
            "_view_count": null,
            "_view_module": "@jupyter-widgets/base",
            "_view_module_version": "1.2.0",
            "_view_name": "StyleView",
            "description_width": ""
          }
        },
        "6cc15fee21da42beb5b23426de118fe4": {
          "model_module": "@jupyter-widgets/controls",
          "model_module_version": "1.5.0",
          "model_name": "FloatProgressModel",
          "state": {
            "_dom_classes": [],
            "_model_module": "@jupyter-widgets/controls",
            "_model_module_version": "1.5.0",
            "_model_name": "FloatProgressModel",
            "_view_count": null,
            "_view_module": "@jupyter-widgets/controls",
            "_view_module_version": "1.5.0",
            "_view_name": "ProgressView",
            "bar_style": "success",
            "description": "",
            "description_tooltip": null,
            "layout": "IPY_MODEL_e6f2fc1e9c9d424a89d0baaac5d729b1",
            "max": 1,
            "min": 0,
            "orientation": "horizontal",
            "style": "IPY_MODEL_daee5b5a47604aa6911740215c5d6ed8",
            "value": 1
          }
        },
        "6d922075b6c9452dafb499dde994778b": {
          "model_module": "@jupyter-widgets/controls",
          "model_module_version": "1.5.0",
          "model_name": "HTMLModel",
          "state": {
            "_dom_classes": [],
            "_model_module": "@jupyter-widgets/controls",
            "_model_module_version": "1.5.0",
            "_model_name": "HTMLModel",
            "_view_count": null,
            "_view_module": "@jupyter-widgets/controls",
            "_view_module_version": "1.5.0",
            "_view_name": "HTMLView",
            "description": "",
            "description_tooltip": null,
            "layout": "IPY_MODEL_78e1c213e1e64884ba2f31d8421abeb9",
            "placeholder": "​",
            "style": "IPY_MODEL_ce52ddec19d74879a0d3312d55379e65",
            "value": " 278/? [00:08&lt;00:00, 32.07it/s]"
          }
        },
        "78e1c213e1e64884ba2f31d8421abeb9": {
          "model_module": "@jupyter-widgets/base",
          "model_module_version": "1.2.0",
          "model_name": "LayoutModel",
          "state": {
            "_model_module": "@jupyter-widgets/base",
            "_model_module_version": "1.2.0",
            "_model_name": "LayoutModel",
            "_view_count": null,
            "_view_module": "@jupyter-widgets/base",
            "_view_module_version": "1.2.0",
            "_view_name": "LayoutView",
            "align_content": null,
            "align_items": null,
            "align_self": null,
            "border": null,
            "bottom": null,
            "display": null,
            "flex": null,
            "flex_flow": null,
            "grid_area": null,
            "grid_auto_columns": null,
            "grid_auto_flow": null,
            "grid_auto_rows": null,
            "grid_column": null,
            "grid_gap": null,
            "grid_row": null,
            "grid_template_areas": null,
            "grid_template_columns": null,
            "grid_template_rows": null,
            "height": null,
            "justify_content": null,
            "justify_items": null,
            "left": null,
            "margin": null,
            "max_height": null,
            "max_width": null,
            "min_height": null,
            "min_width": null,
            "object_fit": null,
            "object_position": null,
            "order": null,
            "overflow": null,
            "overflow_x": null,
            "overflow_y": null,
            "padding": null,
            "right": null,
            "top": null,
            "visibility": null,
            "width": null
          }
        },
        "8626aff524444b0b803a939822191b63": {
          "model_module": "@jupyter-widgets/base",
          "model_module_version": "1.2.0",
          "model_name": "LayoutModel",
          "state": {
            "_model_module": "@jupyter-widgets/base",
            "_model_module_version": "1.2.0",
            "_model_name": "LayoutModel",
            "_view_count": null,
            "_view_module": "@jupyter-widgets/base",
            "_view_module_version": "1.2.0",
            "_view_name": "LayoutView",
            "align_content": null,
            "align_items": null,
            "align_self": null,
            "border": null,
            "bottom": null,
            "display": null,
            "flex": null,
            "flex_flow": null,
            "grid_area": null,
            "grid_auto_columns": null,
            "grid_auto_flow": null,
            "grid_auto_rows": null,
            "grid_column": null,
            "grid_gap": null,
            "grid_row": null,
            "grid_template_areas": null,
            "grid_template_columns": null,
            "grid_template_rows": null,
            "height": null,
            "justify_content": null,
            "justify_items": null,
            "left": null,
            "margin": null,
            "max_height": null,
            "max_width": null,
            "min_height": null,
            "min_width": null,
            "object_fit": null,
            "object_position": null,
            "order": null,
            "overflow": null,
            "overflow_x": null,
            "overflow_y": null,
            "padding": null,
            "right": null,
            "top": null,
            "visibility": null,
            "width": null
          }
        },
        "b5b3555399d845c4b80f83ab402060b9": {
          "model_module": "@jupyter-widgets/controls",
          "model_module_version": "1.5.0",
          "model_name": "HTMLModel",
          "state": {
            "_dom_classes": [],
            "_model_module": "@jupyter-widgets/controls",
            "_model_module_version": "1.5.0",
            "_model_name": "HTMLModel",
            "_view_count": null,
            "_view_module": "@jupyter-widgets/controls",
            "_view_module_version": "1.5.0",
            "_view_name": "HTMLView",
            "description": "",
            "description_tooltip": null,
            "layout": "IPY_MODEL_8626aff524444b0b803a939822191b63",
            "placeholder": "​",
            "style": "IPY_MODEL_5615db030b0449dc8ddbbae6032ef40a",
            "value": ""
          }
        },
        "b8a095b6503348e7b1f872f42234bbde": {
          "model_module": "@jupyter-widgets/controls",
          "model_module_version": "1.5.0",
          "model_name": "HBoxModel",
          "state": {
            "_dom_classes": [],
            "_model_module": "@jupyter-widgets/controls",
            "_model_module_version": "1.5.0",
            "_model_name": "HBoxModel",
            "_view_count": null,
            "_view_module": "@jupyter-widgets/controls",
            "_view_module_version": "1.5.0",
            "_view_name": "HBoxView",
            "box_style": "",
            "children": [
              "IPY_MODEL_b5b3555399d845c4b80f83ab402060b9",
              "IPY_MODEL_6cc15fee21da42beb5b23426de118fe4",
              "IPY_MODEL_6d922075b6c9452dafb499dde994778b"
            ],
            "layout": "IPY_MODEL_305ac5abc7774bcaa0f7c9ddeb590320"
          }
        },
        "ce52ddec19d74879a0d3312d55379e65": {
          "model_module": "@jupyter-widgets/controls",
          "model_module_version": "1.5.0",
          "model_name": "DescriptionStyleModel",
          "state": {
            "_model_module": "@jupyter-widgets/controls",
            "_model_module_version": "1.5.0",
            "_model_name": "DescriptionStyleModel",
            "_view_count": null,
            "_view_module": "@jupyter-widgets/base",
            "_view_module_version": "1.2.0",
            "_view_name": "StyleView",
            "description_width": ""
          }
        },
        "daee5b5a47604aa6911740215c5d6ed8": {
          "model_module": "@jupyter-widgets/controls",
          "model_module_version": "1.5.0",
          "model_name": "ProgressStyleModel",
          "state": {
            "_model_module": "@jupyter-widgets/controls",
            "_model_module_version": "1.5.0",
            "_model_name": "ProgressStyleModel",
            "_view_count": null,
            "_view_module": "@jupyter-widgets/base",
            "_view_module_version": "1.2.0",
            "_view_name": "StyleView",
            "bar_color": null,
            "description_width": ""
          }
        },
        "e6f2fc1e9c9d424a89d0baaac5d729b1": {
          "model_module": "@jupyter-widgets/base",
          "model_module_version": "1.2.0",
          "model_name": "LayoutModel",
          "state": {
            "_model_module": "@jupyter-widgets/base",
            "_model_module_version": "1.2.0",
            "_model_name": "LayoutModel",
            "_view_count": null,
            "_view_module": "@jupyter-widgets/base",
            "_view_module_version": "1.2.0",
            "_view_name": "LayoutView",
            "align_content": null,
            "align_items": null,
            "align_self": null,
            "border": null,
            "bottom": null,
            "display": null,
            "flex": null,
            "flex_flow": null,
            "grid_area": null,
            "grid_auto_columns": null,
            "grid_auto_flow": null,
            "grid_auto_rows": null,
            "grid_column": null,
            "grid_gap": null,
            "grid_row": null,
            "grid_template_areas": null,
            "grid_template_columns": null,
            "grid_template_rows": null,
            "height": null,
            "justify_content": null,
            "justify_items": null,
            "left": null,
            "margin": null,
            "max_height": null,
            "max_width": null,
            "min_height": null,
            "min_width": null,
            "object_fit": null,
            "object_position": null,
            "order": null,
            "overflow": null,
            "overflow_x": null,
            "overflow_y": null,
            "padding": null,
            "right": null,
            "top": null,
            "visibility": null,
            "width": "20px"
          }
        }
      }
    }
  },
  "nbformat": 4,
  "nbformat_minor": 0
}
