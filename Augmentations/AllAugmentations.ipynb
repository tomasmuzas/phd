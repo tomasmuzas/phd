{
  "cells": [
    {
      "cell_type": "code",
      "execution_count": 2,
      "metadata": {
        "colab": {
          "base_uri": "https://localhost:8080/"
        },
        "id": "wQlCruZqyTeW",
        "outputId": "c6d57297-d033-46d9-bfa0-13f723de8b87"
      },
      "outputs": [
        {
          "name": "stdout",
          "output_type": "stream",
          "text": [
            "No determinism enabled.\n"
          ]
        }
      ],
      "source": [
        "#@title Configuration { form-width: \"40%\", display-mode: \"form\" }\n",
        "import os\n",
        "import numpy as np\n",
        "import random\n",
        "import tensorflow as tf\n",
        "import tensorflow_datasets as tfds\n",
        "from tensorflow.keras import Sequential, optimizers\n",
        "from tensorflow.keras.applications import ResNet50\n",
        "from tensorflow.keras.layers import Dense, Dropout, Flatten, BatchNormalization, Conv2D, Input, MaxPool2D\n",
        "\n",
        "\n",
        "#@markdown ##Determinism\n",
        "#@markdown ---\n",
        "ENABLE_DETERMINISM = False #@param {type: \"boolean\"}\n",
        "SEED = 17 #@param\n",
        "AUTO = tf.data.AUTOTUNE\n",
        "#@markdown ##Batches\n",
        "#@markdown ---\n",
        "TRAIN_BATCH_SIZE = 1024 #@param\n",
        "TEST_BATCH_SIZE = 16 #@param\n",
        "#@markdown ##Training\n",
        "#@markdown ---\n",
        "NUMBER_OF_EPOCHS = 500 #@param\n",
        "EARLY_STOPPING_TOLERANCE = 10 #@param\n",
        "LEARNING_RATE = 1e-4 #@param {type:\"number\"}\n",
        "IMAGE_SIZE = 128 #@param\n",
        "SHUFFLE_BUFFER = 300000 #@param {type: \"number\"}\n",
        "TPU = True #@param {type: \"boolean\"}\n",
        "#@markdown ##Augmentations\n",
        "#@markdown ---\n",
        "AUGMENTATIONS_ROTATE = True #@param {type:\"boolean\"}\n",
        "AUGMENTATIONS_FLIP_HORIZONTALLY = True #@param {type:\"boolean\"}\n",
        "AUGMENTATIONS_FLIP_VERTICALLY = True #@param {type:\"boolean\"}\n",
        "AUGMENTATIONS_ZOOM = True #@param {type:\"boolean\"}\n",
        "#@markdown ##Paths\n",
        "#@markdown ---\n",
        "GALAXY_DATASET = \"SDSS\" #@param {type:\"string\"}\n",
        "EXPERIMENT_DESCRIPTION = \"conference/all_augmentation\" #@param {type:\"string\"}\n",
        "LOCAL_GCP_PATH_BASE = f\"gcs/{GALAXY_DATASET}\"\n",
        "REMOTE_GCP_PATH_BASE = f\"gs://tomasmuzas-phd-datasets/{GALAXY_DATASET}\"\n",
        "\n",
        "\n",
        "\n",
        "if ENABLE_DETERMINISM:\n",
        "  print(f\"Enabling determinism. Seed: {SEED}.\")\n",
        "  tf.keras.utils.set_random_seed(SEED)\n",
        "  tf.config.experimental.enable_op_determinism()\n",
        "else:\n",
        "  print(\"No determinism enabled.\")"
      ]
    },
    {
      "cell_type": "code",
      "execution_count": 3,
      "metadata": {
        "id": "Q0AGAn9OVgUV"
      },
      "outputs": [],
      "source": [
        "from google.colab import auth\n",
        "auth.authenticate_user()"
      ]
    },
    {
      "cell_type": "markdown",
      "metadata": {
        "id": "_Lyvje0L5Fhf"
      },
      "source": [
        "# Dataset"
      ]
    },
    {
      "cell_type": "code",
      "execution_count": 4,
      "metadata": {
        "id": "jbgkJKuUHueG"
      },
      "outputs": [],
      "source": [
        "@tf.function\n",
        "def random_invert_horizontally(x, y, seed):\n",
        "  return tf.cond(\n",
        "    tf.random.uniform([], seed = seed) < 0.5,\n",
        "    lambda: tf.image.flip_left_right(x),\n",
        "    lambda: x)\n",
        "\n",
        "@tf.function\n",
        "def random_invert_vertically(x, y, seed):\n",
        "  return tf.cond(\n",
        "    tf.random.uniform([], seed = seed) < 0.5,\n",
        "    lambda: tf.image.flip_up_down(x),\n",
        "    lambda: x)\n",
        "\n",
        "#and tf.math.equal(y, 1) == True:\n",
        "@tf.function\n",
        "def random_rotate(x, y, seed):\n",
        "  return tf.cond(\n",
        "      tf.random.uniform([], seed = seed) < 0.5,\n",
        "      lambda: tf.image.rot90(x, k = tf.random.uniform([], minval=1, maxval=4, dtype=tf.int32, seed = seed)),\n",
        "      lambda: x)\n",
        "\n",
        "@tf.function\n",
        "def random_zoom(x, y, seed):\n",
        "  if  tf.random.uniform([]) < 0.5: #and tf.math.equal(y, 1) == True:\n",
        "    x = tf.image.crop_to_bounding_box(x, 10, 10, IMAGE_SIZE - 20, IMAGE_SIZE - 20)\n",
        "    x = tf.image.resize(x, (IMAGE_SIZE, IMAGE_SIZE))\n",
        "  else:\n",
        "    x\n",
        "  return x\n",
        "\n",
        "def get_dataset(path, batch_size, seed, augment, shuffle, drop_remainder):\n",
        "  if not ENABLE_DETERMINISM:\n",
        "    seed = None\n",
        "\n",
        "  dataset = tf.data.TFRecordDataset(tf.io.gfile.glob(path + \"/*.tfrec\"), num_parallel_reads=AUTO) # if TPU else 20)\n",
        "\n",
        "  if(shuffle):\n",
        "    dataset = dataset.shuffle(SHUFFLE_BUFFER, seed = seed)\n",
        "\n",
        "  dataset = dataset.map(lambda records: tf.io.parse_single_example(\n",
        "      records,\n",
        "      {\n",
        "          \"image\": tf.io.FixedLenFeature([], dtype=tf.string),\n",
        "          \"class\": tf.io.FixedLenFeature([], dtype=tf.int64),\n",
        "\n",
        "          \"label\": tf.io.FixedLenFeature([], dtype=tf.string),\n",
        "          \"objid\": tf.io.FixedLenFeature([], dtype=tf.string),\n",
        "          \"one_hot_class\": tf.io.VarLenFeature(tf.float32)\n",
        "      }),\n",
        "      num_parallel_calls=AUTO)\n",
        "  dataset = dataset.map(lambda item: (tf.reshape(tf.image.decode_jpeg(item['image'], channels=3), [IMAGE_SIZE, IMAGE_SIZE, 3]), item['class']), num_parallel_calls=AUTO)\n",
        "  dataset = dataset.map(lambda x,y: (tf.cast(x, tf.float32), y), num_parallel_calls=AUTO)\n",
        "  dataset = dataset.map(lambda x,y: (tf.keras.layers.Rescaling(scale=1./255)(x), y), num_parallel_calls=AUTO)\n",
        "\n",
        "  if(augment):\n",
        "      if AUGMENTATIONS_ZOOM:\n",
        "        dataset = dataset.map(lambda x,y : (random_zoom(x, y, seed), y), num_parallel_calls=AUTO)\n",
        "      if AUGMENTATIONS_FLIP_HORIZONTALLY:\n",
        "        dataset = dataset.map(lambda x,y : (random_invert_horizontally(x, y, seed), y), num_parallel_calls=AUTO)\n",
        "      if AUGMENTATIONS_FLIP_VERTICALLY:\n",
        "        dataset = dataset.map(lambda x,y : (random_invert_vertically(x, y, seed), y), num_parallel_calls=AUTO)\n",
        "      if AUGMENTATIONS_ROTATE:\n",
        "        dataset = dataset.map(lambda x,y : (random_rotate(x, y, seed), y), num_parallel_calls=AUTO)\n",
        "\n",
        "  dataset = dataset.batch(batch_size, drop_remainder=drop_remainder).prefetch(200 if TPU else 3)\n",
        "\n",
        "  return dataset"
      ]
    },
    {
      "cell_type": "markdown",
      "metadata": {
        "id": "ssvCqgBW49XS"
      },
      "source": [
        "# Dataset visualisation"
      ]
    },
    {
      "cell_type": "code",
      "execution_count": null,
      "metadata": {
        "id": "SC5KY2pGAvPC"
      },
      "outputs": [],
      "source": [
        "# import matplotlib.pyplot as plt\n",
        "\n",
        "\n",
        "\n",
        "# # with strategy.scope():\n",
        "# dsss = prepare_dataset_for_epochs(5, f\"gs://tomasmuzas-phd-datasets/SDSS/sdss_binary_fold_1/train\", BATCH_SIZE, seed = SEED, augment = True, drop_remainder = False)\n",
        "\n",
        "# f, axarr = plt.subplots(5, 5, sharey=True)\n",
        "# f.set_figheight(20)\n",
        "# f.set_figwidth(20)\n",
        "\n",
        "# for it, batch in enumerate(dsss):\n",
        "#   for j, image in enumerate(batch[0]):\n",
        "#     axarr[it][j].imshow(image)\n",
        "\n",
        "# # for i in range(5):\n",
        "# #   for j, images in enumerate(dsss):\n",
        "# #     for k, image in enumerate(images[0]):\n",
        "# #       axarr[i][k].imshow(image)\n",
        "# plt.show()"
      ]
    },
    {
      "cell_type": "markdown",
      "metadata": {
        "id": "5PmexVmh45rr"
      },
      "source": [
        "# GPU/TPU setup"
      ]
    },
    {
      "cell_type": "code",
      "execution_count": 5,
      "metadata": {
        "colab": {
          "base_uri": "https://localhost:8080/"
        },
        "id": "NmjzhxSJdD-m",
        "outputId": "2a44d789-dc3e-4810-e942-ecd2256428b1"
      },
      "outputs": [
        {
          "name": "stdout",
          "output_type": "stream",
          "text": [
            "Running on TPU  grpc://10.43.28.74:8470\n",
            "REPLICAS:  8\n"
          ]
        },
        {
          "data": {
            "text/plain": [
              "<tensorflow.python.distribute.tpu_strategy.TPUStrategyV2 at 0x7f092f9b0af0>"
            ]
          },
          "execution_count": 5,
          "metadata": {},
          "output_type": "execute_result"
        }
      ],
      "source": [
        "def reset_tpu():\n",
        "  if TPU:\n",
        "    cluster_resolver = tf.distribute.cluster_resolver.TPUClusterResolver.connect()\n",
        "    strategy = tf.distribute.TPUStrategy(cluster_resolver)\n",
        "    print(\"Running on TPU \", cluster_resolver.master())\n",
        "    print(\"REPLICAS: \", strategy.num_replicas_in_sync)\n",
        "    return strategy\n",
        "  else:\n",
        "    gpus = tf.config.list_physical_devices('GPU')\n",
        "    print(gpus)\n",
        "    print(\"Running on GPU.\")\n",
        "    return tf.distribute.MirroredStrategy()\n",
        "\n",
        "reset_tpu()"
      ]
    },
    {
      "cell_type": "code",
      "execution_count": 6,
      "metadata": {
        "colab": {
          "base_uri": "https://localhost:8080/"
        },
        "id": "3rI-OBPeYWJu",
        "outputId": "4e518877-33fd-41e0-e2ca-9d9e5a675838"
      },
      "outputs": [
        {
          "name": "stdout",
          "output_type": "stream",
          "text": [
            "  % Total    % Received % Xferd  Average Speed   Time    Time     Time  Current\n",
            "                                 Dload  Upload   Total   Spent    Left  Speed\n",
            "\r  0     0    0     0    0     0      0      0 --:--:-- --:--:-- --:--:--     0\r100  2426  100  2426    0     0  80866      0 --:--:-- --:--:-- --:--:-- 80866\n",
            "OK\n",
            "26 packages can be upgraded. Run 'apt list --upgradable' to see them.\n",
            "The following package was automatically installed and is no longer required:\n",
            "  libnvidia-common-460\n",
            "Use 'apt autoremove' to remove it.\n",
            "The following NEW packages will be installed:\n",
            "  gcsfuse\n",
            "0 upgraded, 1 newly installed, 0 to remove and 26 not upgraded.\n",
            "Need to get 13.3 MB of archives.\n",
            "After this operation, 30.7 MB of additional disk space will be used.\n",
            "Selecting previously unselected package gcsfuse.\n",
            "(Reading database ... 124016 files and directories currently installed.)\n",
            "Preparing to unpack .../gcsfuse_0.41.10_amd64.deb ...\n",
            "Unpacking gcsfuse (0.41.10) ...\n",
            "Setting up gcsfuse (0.41.10) ...\n",
            "2023/01/09 18:37:09.136624 Start gcsfuse/0.41.10 (Go version go1.18.4) for app \"\" using mount point: /content/gcs\n",
            "2023/01/09 18:37:09.152016 Opening GCS connection...\n",
            "2023/01/09 18:37:10.190788 Mounting file system \"tomasmuzas-phd-datasets\"...\n",
            "2023/01/09 18:37:10.193512 File system has been successfully mounted.\n"
          ]
        }
      ],
      "source": [
        "!echo \"deb http://packages.cloud.google.com/apt gcsfuse-bionic main\" > /etc/apt/sources.list.d/gcsfuse.list\n",
        "!curl https://packages.cloud.google.com/apt/doc/apt-key.gpg | apt-key add -\n",
        "!apt -qq update\n",
        "!apt -qq install gcsfuse\n",
        "!mkdir gcs\n",
        "!gcsfuse --implicit-dirs tomasmuzas-phd-datasets gcs"
      ]
    },
    {
      "cell_type": "markdown",
      "metadata": {
        "id": "R3YKxbnx4VyJ"
      },
      "source": [
        "# Model definitions"
      ]
    },
    {
      "cell_type": "code",
      "execution_count": 11,
      "metadata": {
        "id": "iKV0VDFXyN3V"
      },
      "outputs": [],
      "source": [
        "def create_ResNet50():\n",
        "  model = Sequential()\n",
        "  model.add(ResNet50(\n",
        "    input_shape = (IMAGE_SIZE, IMAGE_SIZE, 3),\n",
        "    include_top = False,\n",
        "    weights = None,\n",
        "    pooling = 'avg'))\n",
        "  model.add(Dense(1, activation='sigmoid'))\n",
        "  return model\n",
        "\n",
        "def create_EffNetB7():\n",
        "  model = Sequential()\n",
        "  model.add(tf.keras.applications.efficientnet.EfficientNetB7(\n",
        "    input_shape = (IMAGE_SIZE, IMAGE_SIZE, 3),\n",
        "    include_top = False,\n",
        "    weights = None,\n",
        "    pooling = 'avg'))\n",
        "  model.add(Dense(1, activation='sigmoid'))\n",
        "  return model\n",
        "\n",
        "def Dieleman():\n",
        "  model = Sequential(name=\"Dieleman\")\n",
        "  model.add(Input(shape=(IMAGE_SIZE, IMAGE_SIZE, 3)))\n",
        "  model.add(Conv2D(filters=32, kernel_size=6, activation='relu'))\n",
        "  model.add(BatchNormalization())\n",
        "  model.add(MaxPool2D(2))\n",
        "  model.add(Conv2D(filters=64, kernel_size=5, activation='relu'))\n",
        "  model.add(BatchNormalization())\n",
        "  model.add(MaxPool2D(2))\n",
        "  model.add(Conv2D(filters=128, kernel_size=3, activation='relu'))\n",
        "  model.add(Conv2D(filters=128, kernel_size=3, activation='relu'))\n",
        "  model.add(BatchNormalization())\n",
        "  model.add(MaxPool2D(2))\n",
        "  model.add(Flatten())\n",
        "  if ENABLE_DETERMINISM:\n",
        "    model.add(Dropout(0.5, seed = SEED))\n",
        "  else:\n",
        "    model.add(Dropout(0.5))\n",
        "  model.add(Dense(256,activation='relu'))\n",
        "  model.add(Dense(256,activation='relu'))\n",
        "  model.add(Dense(1, activation='sigmoid'))\n",
        "  return model\n",
        "\n",
        "def SimpleModel():\n",
        "  model = Sequential(name=\"SimpleModel\")\n",
        "  model.add(Input(shape=(IMAGE_SIZE, IMAGE_SIZE, 3)))\n",
        "  model.add(Conv2D(filters=256, kernel_size=6, activation='relu'))\n",
        "  model.add(Conv2D(filters=128, kernel_size=5, activation='relu'))\n",
        "  model.add(Conv2D(filters=16, kernel_size=3, activation='relu'))\n",
        "  model.add(Flatten())\n",
        "  model.add(Dense(1, activation='sigmoid'))\n",
        "  return model\n",
        "\n",
        "def SimplerModel():\n",
        "  model = Sequential(name=\"SimplerModel\")\n",
        "  model.add(Input(shape=(IMAGE_SIZE, IMAGE_SIZE, 3)))\n",
        "  model.add(Conv2D(filters=128, kernel_size=6, activation='relu'))\n",
        "  model.add(MaxPool2D(2))\n",
        "  model.add(Conv2D(filters=32, kernel_size=5, activation='relu'))\n",
        "  model.add(MaxPool2D(2))\n",
        "  model.add(Conv2D(filters=16, kernel_size=3, activation='relu'))\n",
        "  model.add(Flatten())\n",
        "  model.add(Dense(1, activation='sigmoid'))\n",
        "  return model\n",
        "\n",
        "def Cavanagh():\n",
        "  model = Sequential(name=\"Cavanagh\")\n",
        "  model.add(Input(shape=(IMAGE_SIZE, IMAGE_SIZE, 3)))\n",
        "  model.add(Conv2D(filters=32, kernel_size=7, activation='relu'))\n",
        "  model.add(BatchNormalization())\n",
        "  model.add(MaxPool2D(2))\n",
        "  model.add(Conv2D(filters=64, kernel_size=5, activation='relu'))\n",
        "  model.add(Conv2D(filters=64, kernel_size=5, activation='relu'))\n",
        "  model.add(BatchNormalization())\n",
        "  model.add(MaxPool2D(2))\n",
        "  model.add(Conv2D(filters=128, kernel_size=3, activation='relu'))\n",
        "  model.add(BatchNormalization())\n",
        "  model.add(MaxPool2D(2))\n",
        "  model.add(Flatten())\n",
        "  if ENABLE_DETERMINISM:\n",
        "    model.add(Dropout(0.5, seed = SEED))\n",
        "  else:\n",
        "    model.add(Dropout(0.5))\n",
        "  model.add(Dense(256,activation='relu'))\n",
        "  model.add(Dense(256,activation='relu'))\n",
        "  model.add(Dense(1, activation='sigmoid'))\n",
        "  return model\n"
      ]
    },
    {
      "cell_type": "markdown",
      "metadata": {
        "id": "iTUyXzlr5PoC"
      },
      "source": [
        "# Training"
      ]
    },
    {
      "cell_type": "code",
      "execution_count": 1,
      "metadata": {
        "colab": {
          "base_uri": "https://localhost:8080/",
          "height": 232
        },
        "id": "8-TFCUbW4b9Y",
        "outputId": "a7faa96b-61c1-440f-ba1f-a6d5c4720a8d"
      },
      "outputs": [
        {
          "ename": "NameError",
          "evalue": "ignored",
          "output_type": "error",
          "traceback": [
            "\u001b[0;31m---------------------------------------------------------------------------\u001b[0m",
            "\u001b[0;31mNameError\u001b[0m                                 Traceback (most recent call last)",
            "\u001b[0;32m<ipython-input-1-7aa63e3e434d>\u001b[0m in \u001b[0;36m<module>\u001b[0;34m\u001b[0m\n\u001b[1;32m      1\u001b[0m models = [\n\u001b[1;32m      2\u001b[0m     \u001b[0;31m# {'name': 'effnetb7', 'func': create_EffNetB7, 'starting_fold': 1},\u001b[0m\u001b[0;34m\u001b[0m\u001b[0;34m\u001b[0m\u001b[0;34m\u001b[0m\u001b[0m\n\u001b[0;32m----> 3\u001b[0;31m     \u001b[0;34m{\u001b[0m\u001b[0;34m'name'\u001b[0m\u001b[0;34m:\u001b[0m \u001b[0;34m'cavanagh'\u001b[0m\u001b[0;34m,\u001b[0m \u001b[0;34m'func'\u001b[0m\u001b[0;34m:\u001b[0m \u001b[0mCavanagh\u001b[0m\u001b[0;34m,\u001b[0m \u001b[0;34m'starting_fold'\u001b[0m\u001b[0;34m:\u001b[0m \u001b[0;36m1\u001b[0m\u001b[0;34m}\u001b[0m\u001b[0;34m,\u001b[0m\u001b[0;34m\u001b[0m\u001b[0;34m\u001b[0m\u001b[0m\n\u001b[0m\u001b[1;32m      4\u001b[0m     \u001b[0;34m{\u001b[0m\u001b[0;34m'name'\u001b[0m\u001b[0;34m:\u001b[0m \u001b[0;34m'dieleman'\u001b[0m\u001b[0;34m,\u001b[0m \u001b[0;34m'func'\u001b[0m\u001b[0;34m:\u001b[0m \u001b[0mDieleman\u001b[0m\u001b[0;34m,\u001b[0m \u001b[0;34m'starting_fold'\u001b[0m\u001b[0;34m:\u001b[0m \u001b[0;36m1\u001b[0m\u001b[0;34m}\u001b[0m\u001b[0;34m,\u001b[0m\u001b[0;34m\u001b[0m\u001b[0;34m\u001b[0m\u001b[0m\n\u001b[1;32m      5\u001b[0m     \u001b[0;34m{\u001b[0m\u001b[0;34m'name'\u001b[0m\u001b[0;34m:\u001b[0m \u001b[0;34m'resnet50'\u001b[0m\u001b[0;34m,\u001b[0m \u001b[0;34m'func'\u001b[0m\u001b[0;34m:\u001b[0m \u001b[0mcreate_ResNet50\u001b[0m\u001b[0;34m,\u001b[0m \u001b[0;34m'starting_fold'\u001b[0m\u001b[0;34m:\u001b[0m \u001b[0;36m1\u001b[0m\u001b[0;34m}\u001b[0m\u001b[0;34m,\u001b[0m\u001b[0;34m\u001b[0m\u001b[0;34m\u001b[0m\u001b[0m\n",
            "\u001b[0;31mNameError\u001b[0m: name 'Cavanagh' is not defined"
          ]
        }
      ],
      "source": [
        "models = [\n",
        "    # {'name': 'effnetb7', 'func': create_EffNetB7, 'starting_fold': 1},\n",
        "    {'name': 'cavanagh', 'func': Cavanagh, 'starting_fold': 1},\n",
        "    {'name': 'dieleman', 'func': Dieleman, 'starting_fold': 1},\n",
        "    {'name': 'resnet50', 'func': create_ResNet50, 'starting_fold': 1},\n",
        "    # {'name': 'simple', 'func': SimpleModel, 'starting_fold': 1},\n",
        "    # {'name': 'simpler', 'func': SimplerModel, 'starting_fold': 1},\n",
        "]\n",
        "\n",
        "if not os.path.isdir(\"gcs\"):\n",
        "  raise Exception(\"local GCS folder must be mounted!\")\n",
        "\n",
        "for model in models:\n",
        "  model_name = model['name']\n",
        "  model_factory = model['func']\n",
        "  model_starting_fold = model['starting_fold']\n",
        "\n",
        "  model_path = f\"models/{IMAGE_SIZE}x{IMAGE_SIZE}/experiments/{EXPERIMENT_DESCRIPTION}/{model_name}\"\n",
        "  initial_model_path = f\"models/{IMAGE_SIZE}x{IMAGE_SIZE}/initial_models/{model_name}\"\n",
        "  # Create initial model\n",
        "  if not os.path.isdir(f\"{LOCAL_GCP_PATH_BASE}/{initial_model_path}\"):\n",
        "    print(\"Creating new weights\")\n",
        "    strategy = reset_tpu()\n",
        "    with strategy.scope():\n",
        "      optimizer = optimizers.Adam(learning_rate= LEARNING_RATE, beta_1=0.9, beta_2=0.999, epsilon=1e-08)\n",
        "      model = model_factory()\n",
        "\n",
        "      model.compile(\n",
        "          loss=tf.keras.losses.BinaryCrossentropy(),\n",
        "          steps_per_execution = 1,\n",
        "          optimizer=optimizer,\n",
        "          metrics=[tf.keras.metrics.BinaryAccuracy()])\n",
        "\n",
        "      print(f\"Saving initial model to {REMOTE_GCP_PATH_BASE}/{initial_model_path}\")\n",
        "      model.save(f\"{REMOTE_GCP_PATH_BASE}/{initial_model_path}\")\n",
        "\n",
        "  for i in range(model_starting_fold, 11):\n",
        "    tf.keras.backend.clear_session()\n",
        "    strategy = reset_tpu()\n",
        "    with strategy.scope():\n",
        "    # with tf.device(\"/device:GPU:0\"):\n",
        "      optimizer = optimizers.Adam(learning_rate= LEARNING_RATE, beta_1=0.9, beta_2=0.999, epsilon=1e-08)\n",
        "      print(f\"{model_name} FOLD {i}\")\n",
        "\n",
        "      best_epoch = 0\n",
        "      best_loss = 1\n",
        "\n",
        "      test_dataset = get_dataset(\n",
        "          f\"{REMOTE_GCP_PATH_BASE}/data/{IMAGE_SIZE}x{IMAGE_SIZE}/fold_{i}/test\",\n",
        "          TEST_BATCH_SIZE,\n",
        "          seed = SEED,\n",
        "          augment = False,\n",
        "          shuffle = False,\n",
        "          drop_remainder = True)\n",
        "\n",
        "      if TPU:\n",
        "        test_dataset = test_dataset.cache()\n",
        "\n",
        "      print(f\"Loading model from {REMOTE_GCP_PATH_BASE}/{initial_model_path}\")\n",
        "      model = tf.keras.models.load_model(f\"{REMOTE_GCP_PATH_BASE}/{initial_model_path}\")\n",
        "\n",
        "      model.compile(\n",
        "          loss=tf.keras.losses.BinaryCrossentropy(),\n",
        "          steps_per_execution = 1,\n",
        "          optimizer=optimizer,\n",
        "          metrics=[tf.keras.metrics.BinaryAccuracy()])\n",
        "\n",
        "      model.summary()\n",
        "\n",
        "      for epoch in range(NUMBER_OF_EPOCHS):\n",
        "        train_dataset = get_dataset(\n",
        "            f\"{REMOTE_GCP_PATH_BASE}/data/{IMAGE_SIZE}x{IMAGE_SIZE}/fold_{i}/train\",\n",
        "            TRAIN_BATCH_SIZE,\n",
        "            seed = SEED + epoch,\n",
        "            augment = True,\n",
        "            shuffle = True,\n",
        "            drop_remainder = False)\n",
        "\n",
        "        history = model.fit(\n",
        "          x= train_dataset,\n",
        "          validation_data = test_dataset,\n",
        "          epochs = 1,\n",
        "          steps_per_epoch = 284672 // TRAIN_BATCH_SIZE,\n",
        "          validation_steps = 31595 // TEST_BATCH_SIZE,\n",
        "          verbose = 1,\n",
        "          shuffle = False,\n",
        "          workers= 32 if TPU else 1)\n",
        "\n",
        "        last_loss = history.history['val_loss'][-1]\n",
        "        if (last_loss < best_loss):\n",
        "          print(\"Loss improved. Saving model.\")\n",
        "          best_epoch = epoch\n",
        "          best_loss = last_loss\n",
        "          model.save(f\"{REMOTE_GCP_PATH_BASE}/{model_path}/best_loss/fold_{i}\")\n",
        "\n",
        "\n",
        "        if(epoch - EARLY_STOPPING_TOLERANCE == best_epoch):\n",
        "          print(\"Early stopping\")\n",
        "          break"
      ]
    },
    {
      "cell_type": "code",
      "execution_count": null,
      "metadata": {
        "colab": {
          "base_uri": "https://localhost:8080/",
          "height": 412,
          "referenced_widgets": [
            "b8a095b6503348e7b1f872f42234bbde",
            "b5b3555399d845c4b80f83ab402060b9",
            "6cc15fee21da42beb5b23426de118fe4",
            "6d922075b6c9452dafb499dde994778b",
            "305ac5abc7774bcaa0f7c9ddeb590320",
            "8626aff524444b0b803a939822191b63",
            "5615db030b0449dc8ddbbae6032ef40a",
            "e6f2fc1e9c9d424a89d0baaac5d729b1",
            "daee5b5a47604aa6911740215c5d6ed8",
            "78e1c213e1e64884ba2f31d8421abeb9",
            "ce52ddec19d74879a0d3312d55379e65"
          ]
        },
        "id": "PTKKalIwv-6i",
        "outputId": "c3385fbd-05b3-42d3-d659-5fe44edd8274"
      },
      "outputs": [
        {
          "data": {
            "application/vnd.jupyter.widget-view+json": {
              "model_id": "b8a095b6503348e7b1f872f42234bbde",
              "version_major": 2,
              "version_minor": 0
            },
            "text/plain": [
              "1it [00:00, ?it/s]"
            ]
          },
          "metadata": {},
          "output_type": "display_data"
        },
        {
          "name": "stdout",
          "output_type": "stream",
          "text": [
            "\n",
            "************ Summary ************\n",
            "\n",
            "Examples/sec (First included) 6285.04 ex/sec (total: 284672 ex, 45.29 sec)\n",
            "Examples/sec (First only) 27.90 ex/sec (total: 1024 ex, 36.70 sec)\n",
            "Examples/sec (First excluded) 33008.07 ex/sec (total: 283648 ex, 8.59 sec)\n"
          ]
        },
        {
          "name": "stderr",
          "output_type": "stream",
          "text": [
            "Exception ignored in: <function Executor.__del__ at 0x7f2f1be284d0>\n",
            "Traceback (most recent call last):\n",
            "  File \"/usr/local/lib/python3.7/dist-packages/tensorflow/python/eager/executor.py\", line 46, in __del__\n",
            "    self.wait()\n",
            "  File \"/usr/local/lib/python3.7/dist-packages/tensorflow/python/eager/executor.py\", line 65, in wait\n",
            "    pywrap_tfe.TFE_ExecutorWaitForAllPendingNodes(self._handle)\n",
            "tensorflow.python.framework.errors_impl.OutOfRangeError: End of sequence\n"
          ]
        },
        {
          "data": {
            "text/html": [
              "<strong>BenchmarkResult:</strong><br/><div>\n",
              "<style scoped>\n",
              "    .dataframe tbody tr th:only-of-type {\n",
              "        vertical-align: middle;\n",
              "    }\n",
              "\n",
              "    .dataframe tbody tr th {\n",
              "        vertical-align: top;\n",
              "    }\n",
              "\n",
              "    .dataframe thead th {\n",
              "        text-align: right;\n",
              "    }\n",
              "</style>\n",
              "<table border=\"1\" class=\"dataframe\">\n",
              "  <thead>\n",
              "    <tr style=\"text-align: right;\">\n",
              "      <th></th>\n",
              "      <th>duration</th>\n",
              "      <th>num_examples</th>\n",
              "      <th>avg</th>\n",
              "    </tr>\n",
              "  </thead>\n",
              "  <tbody>\n",
              "    <tr>\n",
              "      <th>first+lasts</th>\n",
              "      <td>45.293556</td>\n",
              "      <td>284672</td>\n",
              "      <td>6285.044149</td>\n",
              "    </tr>\n",
              "    <tr>\n",
              "      <th>first</th>\n",
              "      <td>36.700264</td>\n",
              "      <td>1024</td>\n",
              "      <td>27.901707</td>\n",
              "    </tr>\n",
              "    <tr>\n",
              "      <th>lasts</th>\n",
              "      <td>8.593293</td>\n",
              "      <td>283648</td>\n",
              "      <td>33008.069569</td>\n",
              "    </tr>\n",
              "  </tbody>\n",
              "</table>\n",
              "</div>"
            ],
            "text/plain": [
              "BenchmarkResult(stats=              duration  num_examples           avg\n",
              "first+lasts  45.293556        284672   6285.044149\n",
              "first        36.700264          1024     27.901707\n",
              "lasts         8.593293        283648  33008.069569, raw_stats=                    duration\n",
              "start_time        367.695004\n",
              "first_batch_time  404.395268\n",
              "end_time          412.988561\n",
              "num_iter          278.000000)"
            ]
          },
          "execution_count": 8,
          "metadata": {},
          "output_type": "execute_result"
        }
      ],
      "source": [
        "# with tf.device(\"/device:GPU:0\"):\n",
        "train_dataset = get_dataset(\n",
        "f\"{REMOTE_GCP_PATH_BASE}/data/{IMAGE_SIZE}x{IMAGE_SIZE}/fold_1/train\",\n",
        "TRAIN_BATCH_SIZE,\n",
        "seed = SEED + 1,\n",
        "augment = True,\n",
        "shuffle = True,\n",
        "drop_remainder = False)\n",
        "\n",
        "tfds.benchmark(train_dataset, batch_size=TRAIN_BATCH_SIZE)"
      ]
    },
    {
      "cell_type": "code",
      "execution_count": null,
      "metadata": {
        "colab": {
          "base_uri": "https://localhost:8080/"
        },
        "id": "y1_iX4tr2hv3",
        "outputId": "4c8c3c10-2039-4ecc-9674-83d8c2799b17"
      },
      "outputs": [
        {
          "name": "stdout",
          "output_type": "stream",
          "text": [
            "Model: \"SimplerModel\"\n",
            "_________________________________________________________________\n",
            " Layer (type)                Output Shape              Param #   \n",
            "=================================================================\n",
            " conv2d_6 (Conv2D)           (None, 123, 123, 128)     13952     \n",
            "                                                                 \n",
            " max_pooling2d (MaxPooling2D  (None, 61, 61, 128)      0         \n",
            " )                                                               \n",
            "                                                                 \n",
            " conv2d_7 (Conv2D)           (None, 57, 57, 32)        102432    \n",
            "                                                                 \n",
            " max_pooling2d_1 (MaxPooling  (None, 28, 28, 32)       0         \n",
            " 2D)                                                             \n",
            "                                                                 \n",
            " conv2d_8 (Conv2D)           (None, 26, 26, 16)        4624      \n",
            "                                                                 \n",
            " flatten_2 (Flatten)         (None, 10816)             0         \n",
            "                                                                 \n",
            " dense_2 (Dense)             (None, 1)                 10817     \n",
            "                                                                 \n",
            "=================================================================\n",
            "Total params: 131,825\n",
            "Trainable params: 131,825\n",
            "Non-trainable params: 0\n",
            "_________________________________________________________________\n"
          ]
        }
      ],
      "source": [
        "t = SimplerModel()\n",
        "t.summary()"
      ]
    }
  ],
  "metadata": {
    "accelerator": "TPU",
    "colab": {
      "authorship_tag": "ABX9TyOC+TosF7Xnpq4MjmAWIZ3B",
      "collapsed_sections": [
        "_Lyvje0L5Fhf",
        "ssvCqgBW49XS",
        "5PmexVmh45rr",
        "R3YKxbnx4VyJ"
      ],
      "mount_file_id": "1raMG5kTe5UWF8jMcdxGEGg05ttIz1v1l",
      "provenance": []
    },
    "gpuClass": "standard",
    "kernelspec": {
      "display_name": "Python 3",
      "name": "python3"
    },
    "language_info": {
      "name": "python"
    },
    "widgets": {
      "application/vnd.jupyter.widget-state+json": {
        "305ac5abc7774bcaa0f7c9ddeb590320": {
          "model_module": "@jupyter-widgets/base",
          "model_module_version": "1.2.0",
          "model_name": "LayoutModel",
          "state": {
            "_model_module": "@jupyter-widgets/base",
            "_model_module_version": "1.2.0",
            "_model_name": "LayoutModel",
            "_view_count": null,
            "_view_module": "@jupyter-widgets/base",
            "_view_module_version": "1.2.0",
            "_view_name": "LayoutView",
            "align_content": null,
            "align_items": null,
            "align_self": null,
            "border": null,
            "bottom": null,
            "display": null,
            "flex": null,
            "flex_flow": null,
            "grid_area": null,
            "grid_auto_columns": null,
            "grid_auto_flow": null,
            "grid_auto_rows": null,
            "grid_column": null,
            "grid_gap": null,
            "grid_row": null,
            "grid_template_areas": null,
            "grid_template_columns": null,
            "grid_template_rows": null,
            "height": null,
            "justify_content": null,
            "justify_items": null,
            "left": null,
            "margin": null,
            "max_height": null,
            "max_width": null,
            "min_height": null,
            "min_width": null,
            "object_fit": null,
            "object_position": null,
            "order": null,
            "overflow": null,
            "overflow_x": null,
            "overflow_y": null,
            "padding": null,
            "right": null,
            "top": null,
            "visibility": null,
            "width": null
          }
        },
        "5615db030b0449dc8ddbbae6032ef40a": {
          "model_module": "@jupyter-widgets/controls",
          "model_module_version": "1.5.0",
          "model_name": "DescriptionStyleModel",
          "state": {
            "_model_module": "@jupyter-widgets/controls",
            "_model_module_version": "1.5.0",
            "_model_name": "DescriptionStyleModel",
            "_view_count": null,
            "_view_module": "@jupyter-widgets/base",
            "_view_module_version": "1.2.0",
            "_view_name": "StyleView",
            "description_width": ""
          }
        },
        "6cc15fee21da42beb5b23426de118fe4": {
          "model_module": "@jupyter-widgets/controls",
          "model_module_version": "1.5.0",
          "model_name": "FloatProgressModel",
          "state": {
            "_dom_classes": [],
            "_model_module": "@jupyter-widgets/controls",
            "_model_module_version": "1.5.0",
            "_model_name": "FloatProgressModel",
            "_view_count": null,
            "_view_module": "@jupyter-widgets/controls",
            "_view_module_version": "1.5.0",
            "_view_name": "ProgressView",
            "bar_style": "success",
            "description": "",
            "description_tooltip": null,
            "layout": "IPY_MODEL_e6f2fc1e9c9d424a89d0baaac5d729b1",
            "max": 1,
            "min": 0,
            "orientation": "horizontal",
            "style": "IPY_MODEL_daee5b5a47604aa6911740215c5d6ed8",
            "value": 1
          }
        },
        "6d922075b6c9452dafb499dde994778b": {
          "model_module": "@jupyter-widgets/controls",
          "model_module_version": "1.5.0",
          "model_name": "HTMLModel",
          "state": {
            "_dom_classes": [],
            "_model_module": "@jupyter-widgets/controls",
            "_model_module_version": "1.5.0",
            "_model_name": "HTMLModel",
            "_view_count": null,
            "_view_module": "@jupyter-widgets/controls",
            "_view_module_version": "1.5.0",
            "_view_name": "HTMLView",
            "description": "",
            "description_tooltip": null,
            "layout": "IPY_MODEL_78e1c213e1e64884ba2f31d8421abeb9",
            "placeholder": "​",
            "style": "IPY_MODEL_ce52ddec19d74879a0d3312d55379e65",
            "value": " 278/? [00:08&lt;00:00, 32.07it/s]"
          }
        },
        "78e1c213e1e64884ba2f31d8421abeb9": {
          "model_module": "@jupyter-widgets/base",
          "model_module_version": "1.2.0",
          "model_name": "LayoutModel",
          "state": {
            "_model_module": "@jupyter-widgets/base",
            "_model_module_version": "1.2.0",
            "_model_name": "LayoutModel",
            "_view_count": null,
            "_view_module": "@jupyter-widgets/base",
            "_view_module_version": "1.2.0",
            "_view_name": "LayoutView",
            "align_content": null,
            "align_items": null,
            "align_self": null,
            "border": null,
            "bottom": null,
            "display": null,
            "flex": null,
            "flex_flow": null,
            "grid_area": null,
            "grid_auto_columns": null,
            "grid_auto_flow": null,
            "grid_auto_rows": null,
            "grid_column": null,
            "grid_gap": null,
            "grid_row": null,
            "grid_template_areas": null,
            "grid_template_columns": null,
            "grid_template_rows": null,
            "height": null,
            "justify_content": null,
            "justify_items": null,
            "left": null,
            "margin": null,
            "max_height": null,
            "max_width": null,
            "min_height": null,
            "min_width": null,
            "object_fit": null,
            "object_position": null,
            "order": null,
            "overflow": null,
            "overflow_x": null,
            "overflow_y": null,
            "padding": null,
            "right": null,
            "top": null,
            "visibility": null,
            "width": null
          }
        },
        "8626aff524444b0b803a939822191b63": {
          "model_module": "@jupyter-widgets/base",
          "model_module_version": "1.2.0",
          "model_name": "LayoutModel",
          "state": {
            "_model_module": "@jupyter-widgets/base",
            "_model_module_version": "1.2.0",
            "_model_name": "LayoutModel",
            "_view_count": null,
            "_view_module": "@jupyter-widgets/base",
            "_view_module_version": "1.2.0",
            "_view_name": "LayoutView",
            "align_content": null,
            "align_items": null,
            "align_self": null,
            "border": null,
            "bottom": null,
            "display": null,
            "flex": null,
            "flex_flow": null,
            "grid_area": null,
            "grid_auto_columns": null,
            "grid_auto_flow": null,
            "grid_auto_rows": null,
            "grid_column": null,
            "grid_gap": null,
            "grid_row": null,
            "grid_template_areas": null,
            "grid_template_columns": null,
            "grid_template_rows": null,
            "height": null,
            "justify_content": null,
            "justify_items": null,
            "left": null,
            "margin": null,
            "max_height": null,
            "max_width": null,
            "min_height": null,
            "min_width": null,
            "object_fit": null,
            "object_position": null,
            "order": null,
            "overflow": null,
            "overflow_x": null,
            "overflow_y": null,
            "padding": null,
            "right": null,
            "top": null,
            "visibility": null,
            "width": null
          }
        },
        "b5b3555399d845c4b80f83ab402060b9": {
          "model_module": "@jupyter-widgets/controls",
          "model_module_version": "1.5.0",
          "model_name": "HTMLModel",
          "state": {
            "_dom_classes": [],
            "_model_module": "@jupyter-widgets/controls",
            "_model_module_version": "1.5.0",
            "_model_name": "HTMLModel",
            "_view_count": null,
            "_view_module": "@jupyter-widgets/controls",
            "_view_module_version": "1.5.0",
            "_view_name": "HTMLView",
            "description": "",
            "description_tooltip": null,
            "layout": "IPY_MODEL_8626aff524444b0b803a939822191b63",
            "placeholder": "​",
            "style": "IPY_MODEL_5615db030b0449dc8ddbbae6032ef40a",
            "value": ""
          }
        },
        "b8a095b6503348e7b1f872f42234bbde": {
          "model_module": "@jupyter-widgets/controls",
          "model_module_version": "1.5.0",
          "model_name": "HBoxModel",
          "state": {
            "_dom_classes": [],
            "_model_module": "@jupyter-widgets/controls",
            "_model_module_version": "1.5.0",
            "_model_name": "HBoxModel",
            "_view_count": null,
            "_view_module": "@jupyter-widgets/controls",
            "_view_module_version": "1.5.0",
            "_view_name": "HBoxView",
            "box_style": "",
            "children": [
              "IPY_MODEL_b5b3555399d845c4b80f83ab402060b9",
              "IPY_MODEL_6cc15fee21da42beb5b23426de118fe4",
              "IPY_MODEL_6d922075b6c9452dafb499dde994778b"
            ],
            "layout": "IPY_MODEL_305ac5abc7774bcaa0f7c9ddeb590320"
          }
        },
        "ce52ddec19d74879a0d3312d55379e65": {
          "model_module": "@jupyter-widgets/controls",
          "model_module_version": "1.5.0",
          "model_name": "DescriptionStyleModel",
          "state": {
            "_model_module": "@jupyter-widgets/controls",
            "_model_module_version": "1.5.0",
            "_model_name": "DescriptionStyleModel",
            "_view_count": null,
            "_view_module": "@jupyter-widgets/base",
            "_view_module_version": "1.2.0",
            "_view_name": "StyleView",
            "description_width": ""
          }
        },
        "daee5b5a47604aa6911740215c5d6ed8": {
          "model_module": "@jupyter-widgets/controls",
          "model_module_version": "1.5.0",
          "model_name": "ProgressStyleModel",
          "state": {
            "_model_module": "@jupyter-widgets/controls",
            "_model_module_version": "1.5.0",
            "_model_name": "ProgressStyleModel",
            "_view_count": null,
            "_view_module": "@jupyter-widgets/base",
            "_view_module_version": "1.2.0",
            "_view_name": "StyleView",
            "bar_color": null,
            "description_width": ""
          }
        },
        "e6f2fc1e9c9d424a89d0baaac5d729b1": {
          "model_module": "@jupyter-widgets/base",
          "model_module_version": "1.2.0",
          "model_name": "LayoutModel",
          "state": {
            "_model_module": "@jupyter-widgets/base",
            "_model_module_version": "1.2.0",
            "_model_name": "LayoutModel",
            "_view_count": null,
            "_view_module": "@jupyter-widgets/base",
            "_view_module_version": "1.2.0",
            "_view_name": "LayoutView",
            "align_content": null,
            "align_items": null,
            "align_self": null,
            "border": null,
            "bottom": null,
            "display": null,
            "flex": null,
            "flex_flow": null,
            "grid_area": null,
            "grid_auto_columns": null,
            "grid_auto_flow": null,
            "grid_auto_rows": null,
            "grid_column": null,
            "grid_gap": null,
            "grid_row": null,
            "grid_template_areas": null,
            "grid_template_columns": null,
            "grid_template_rows": null,
            "height": null,
            "justify_content": null,
            "justify_items": null,
            "left": null,
            "margin": null,
            "max_height": null,
            "max_width": null,
            "min_height": null,
            "min_width": null,
            "object_fit": null,
            "object_position": null,
            "order": null,
            "overflow": null,
            "overflow_x": null,
            "overflow_y": null,
            "padding": null,
            "right": null,
            "top": null,
            "visibility": null,
            "width": "20px"
          }
        }
      }
    }
  },
  "nbformat": 4,
  "nbformat_minor": 0
}
